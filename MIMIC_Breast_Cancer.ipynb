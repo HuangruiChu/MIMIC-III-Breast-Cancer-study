{
  "nbformat": 4,
  "nbformat_minor": 0,
  "metadata": {
    "colab": {
      "provenance": [],
      "include_colab_link": true
    },
    "kernelspec": {
      "name": "python3",
      "display_name": "Python 3"
    },
    "language_info": {
      "name": "python"
    }
  },
  "cells": [
    {
      "cell_type": "markdown",
      "metadata": {
        "id": "view-in-github",
        "colab_type": "text"
      },
      "source": [
        "<a href=\"https://colab.research.google.com/github/HuangruiChu/MIMIC-III-Breast-Cancer-study/blob/main/MIMIC_Breast_Cancer.ipynb\" target=\"_parent\"><img src=\"https://colab.research.google.com/assets/colab-badge.svg\" alt=\"Open In Colab\"/></a>"
      ]
    },
    {
      "cell_type": "markdown",
      "metadata": {
        "id": "1Q2X6qabVCsB"
      },
      "source": [
        "<div align='center' ><font size='5'>\n",
        "BIS 638 (FA22): Clinical Database Management Systems and Ontologies Final Project\n",
        "</font></div>\n",
        "\n",
        "<div align='center' ><font size='6'>\n",
        "Breast Cancer Analysis based on MIMIC III\n",
        "</font></div>\n",
        "\n",
        "<div align='center' ><font size='4'>\n",
        "Group Name: Infinite Justice\n",
        "\n",
        "Group Member：Huangrui Chu, Yaoqi Li, Kuankuan Sun, Mingrui Wang\n",
        "\n",
        "Yale Univserity School of Public Health\n",
        "</font></div>\n"
      ]
    },
    {
      "cell_type": "markdown",
      "source": [
        "# **1. Introduction**\n",
        "\n",
        "*This project for Yale Course BIS 638: Clinical Database Management Systems and Ontologies Final Project*\n",
        "\n",
        "## 1.1 Background\n",
        "- 请简介一下 breast cancer\n",
        "\n",
        "<br/>\n",
        "\n",
        "## 1.2 Research Questions\n",
        "- 放上我们的research question\n",
        "\n",
        "<br/>\n",
        "\n",
        "## 1.3 Data Sources\n",
        "\n",
        "The data comes from [MIMIC-III](https://physionet.org/content/mimiciii/1.4/), which is a large, freely-available database comprising deidentified health-related data associated with over forty thousand patients who stayed in critical care units of the Beth Israel Deaconess Medical Center between 2001 and 2012. The database includes information such as demographics, vital sign measurements made at the bedside (~1 data point per hour), laboratory test results, procedures, medications, caregiver notes, imaging reports, and mortality (including post-hospital discharge).\n",
        "\n",
        "MIMIC supports a diverse range of analytic studies spanning epidemiology, clinical decision-rule improvement, and electronic tool development. It is notable for three factors: it is freely available to researchers worldwide; it encompasses a diverse and very large population of ICU patients; and it contains highly granular data, including vital signs, laboratory results, and medications.\n",
        "  \n",
        "  \n",
        "  摘自 abstract 大家可以paraphrase 一下\n",
        "\n",
        "<div  align=\"center\"> \n",
        "<img src=\"https://encrypted-tbn0.gstatic.com/images?q=tbn:ANd9GcTeV6ahtZ6-POUjabTbHU973fbwmNAqleU5ag&usqp=CAU\" width = \"100\" alt=\"img\" />\n",
        "</div>\n",
        "\n",
        "\n",
        "  - To access MIMIC-III, our group have finished [CITI Training for Data or Specimens Only Research](https://www.citiprogram.org/verify/?wf27bcd4b-1305-43f1-a4f9-16549df886fa-51130798). The certifications are shown below.\n",
        "\n",
        "<div  align=\"center\"> \n",
        "\n",
        "<img src=\"https://raw.githubusercontent.com/HuangruiChu/MIMIC-III-Breast-Cancer-study/main/CITI_certification_Huangrui_Chu.png\" width = \"300\" alt=\"img\" />\n",
        "<img src=\"https://raw.githubusercontent.com/HuangruiChu/MIMIC-III-Breast-Cancer-study/main/CITI_certification_Mingrui_Huang.png\" width = \"300\" alt=\"img\" />\n",
        "<img src=\"https://raw.githubusercontent.com/HuangruiChu/MIMIC-III-Breast-Cancer-study/main/CITI_certification_Yaoqi_Li.jpg\" width = \"300\" alt=\"img\" />\n",
        "<img src=\"https://raw.githubusercontent.com/HuangruiChu/MIMIC-III-Breast-Cancer-study/main/CITI_certification_Kuankuan_Sun.png\" width = \"300\" alt=\"img\" />\n",
        "</div>\n",
        "\n",
        "Data files have be downloaded and saved in google drive, and will be loaded into google colab. The data are for research study only and we would not upload them to github.\n",
        "\n",
        "<br/>\n",
        "\n",
        "## 1.4 Methods \n",
        "<!-- <br/>\n",
        "<img src=\"https://mark.trademarkia.com/logo-images/epoint-sa/vertabelo-86225942.jpg\" height = \"50\" alt=\"img\" />\n",
        "<img src=\"https://d1.awsstatic.com/asset-repository/products/amazon-rds/1024px-MySQL.ff87215b43fd7292af172e2a5d9b844217262571.png\" height = \"50\" alt=\"img\" />\n",
        "<img src=\"https://miro.medium.com/max/776/1*Lad06lrjlU9UZgSTHUoyfA.png\" height = \"50\" alt=\"img\" />\n",
        "<img src=\"https://www.ebi.ac.uk/ols/img/OLS_logo_2017.png\" height = \"50\" alt=\"img\" />\n",
        "\n",
        "<br/>\n",
        "\n",
        "- Use [Vertabelo Database Modeler](https://vertabelo.com/) to design an ER model, then generate a MySQL script.\n",
        "- Use google colab to install MySQL, read in SQL script and create a database with MIMIC III data.\n",
        "- Use [OLS](https://www.ebi.ac.uk/ols/index) as an ontology resource, link the disease terms in Disease Ontology to the patient data representation (icd9_code). -->  \n",
        "大概也要paraphrase\n",
        "\n",
        "\n"
      ],
      "metadata": {
        "id": "5o19E_5Wgn7E"
      }
    },
    {
      "cell_type": "markdown",
      "source": [
        "# **2. Database Construction** \n",
        "\n",
        "## 2.1 Coding Environment Preparation\n",
        "\n",
        "- Mount google drive"
      ],
      "metadata": {
        "id": "Y5Gk_LCOpjJY"
      }
    },
    {
      "cell_type": "code",
      "source": [
        "from google.colab import drive\n",
        "drive.mount('/content/gdrive')"
      ],
      "metadata": {
        "colab": {
          "base_uri": "https://localhost:8080/"
        },
        "id": "pQZtfZLUppHa",
        "outputId": "d596da79-c2f2-42df-ab1d-7e58b9e7977a"
      },
      "execution_count": null,
      "outputs": [
        {
          "output_type": "stream",
          "name": "stdout",
          "text": [
            "Mounted at /content/gdrive\n"
          ]
        }
      ]
    },
    {
      "cell_type": "markdown",
      "source": [
        "- Require libraries"
      ],
      "metadata": {
        "id": "0XLyvGZmpoZB"
      }
    },
    {
      "cell_type": "code",
      "source": [
        "import pandas as pd\n",
        "import sqlite3\n",
        "from sqlite3 import Error\n",
        "from IPython.display import display\n",
        "import matplotlib.pyplot as plt\n",
        "import numpy as np\n",
        "from scipy import stats"
      ],
      "metadata": {
        "id": "gTfOWwlIptQe"
      },
      "execution_count": null,
      "outputs": []
    },
    {
      "cell_type": "markdown",
      "metadata": {
        "id": "DRGvtHRxcKxs"
      },
      "source": [
        "## 2.2 Data Resource\n",
        "\n",
        "- The data files we will use include:\n",
        "  - `PATIENTS`: Defines each SUBJECT_ID in the database, i.e. defines a single patient\n",
        "  - `ADMISSIONS`: Define a patient’s hospital admission, HADM_ID\n",
        "  - `DIAGNOSES_ICD`: Contains ICD diagnoses for patients, most notably ICD-9 diagnoses\n",
        "  - `D_ICD_DIAGNOSES`: Definition table for ICD diagnoses\n",
        "  - `ICUSTAYS`: Defines each ICUSTAY_ID in the database, i.e. defines a single ICU stay\n",
        "  - `PRESCRIPTIONS`: Contains medication related order entries, i.e. prescriptions"
      ]
    },
    {
      "cell_type": "markdown",
      "source": [
        "- We Create an ER model with Vertabelo for our project\n",
        "\n",
        "我们自己也要做一个吗？\n",
        "做一个呗！\n",
        "\n",
        "  - The whole MIMIC Schema and Entity-Relationship (ER) Diagram can be seen via this [link](https://mit-lcp.github.io/mimic-schema-spy/)"
      ],
      "metadata": {
        "id": "SfaKTOQfoT6g"
      }
    },
    {
      "cell_type": "markdown",
      "metadata": {
        "id": "NNd-oeiSdAd8"
      },
      "source": [
        "- Write Python code with embedded SQL to create database, tables and query the tables\n"
      ]
    },
    {
      "cell_type": "code",
      "metadata": {
        "colab": {
          "base_uri": "https://localhost:8080/"
        },
        "id": "cqEB60TWdZek",
        "outputId": "db4446a9-983e-4bff-be3a-dbf669120ac6"
      },
      "source": [
        "\"\"\" create a database connection to a database that resides\n",
        "    in the drive\n",
        "\"\"\"\n",
        "conn = None;\n",
        "\n",
        "#conn = sqlite3.connect(':memory:')\n",
        "#replace the following file path with your own\n",
        "conn = sqlite3.connect('/content/gdrive/MyDrive/BIS638/2022/mimic_labdata.db')\n",
        "\n",
        "cursor = conn.cursor()\n",
        "#Doping tables if already exists.\n",
        "cursor.execute(\"DROP TABLE IF EXISTS Patients\")\n",
        "cursor.execute(\"DROP TABLE IF EXISTS Admissions\")\n",
        "cursor.execute(\"DROP TABLE IF EXISTS Diagnoses_icd\")\n",
        "cursor.execute(\"DROP TABLE IF EXISTS D_icd_diagnoses\")\n",
        "#Creating tables\n",
        "# The meaning of these variables can be seen here https://mit-lcp.github.io/mimic-schema-spy/tables/patients.html\n",
        "sql ='''CREATE TABLE Patients (\n",
        "  row_id int  NOT NULL,\n",
        "  subject_id int  NOT NULL,\n",
        "  gender varchar(5)  NOT NULL,\n",
        "  dob datetime  NOT NULL,\n",
        "  dod datetime  NOT NULL,\n",
        "  dod_hosp datetime  NULL,\n",
        "  dod_ssn datetime  NULL,\n",
        "  expire_flag varchar(5)  NOT NULL,\n",
        "  PRIMARY KEY (subject_id)\n",
        ");'''\n",
        "cursor.execute(sql)\n",
        "sql ='''CREATE TABLE Admissions (\n",
        "  row_id int  NOT NULL,\n",
        "  subject_id int  NOT NULL,\n",
        "  hadm_id int  NOT NULL,\n",
        "  admittime datetime  NOT NULL,\n",
        "  dischtime datetime  NOT NULL,\n",
        "  deathtime datetime   NULL,\n",
        "  admission_type varchar(50)  NOT NULL,\n",
        "  admission_location varchar(50)  NOT NULL,\n",
        "  discharge_location varchar(50)  NOT NULL,\n",
        "  insurance varchar(255)  NOT NULL,\n",
        "  language varchar(10)   NULL,\n",
        "  religion varchar(50)   NULL,\n",
        "  marital_status varchar(50)   NULL,\n",
        "  ethnicity varchar(200)  NOT NULL,\n",
        "  edregtime datetime   NULL,\n",
        "  edouttime datetime   NULL,\n",
        "  diagnosis varchar(300)  NOT NULL,\n",
        "  hospital_expire_flag int  NOT NULL,\n",
        "  has_chartevents_data int  NOT NULL,\n",
        "  PRIMARY KEY (hadm_id),\n",
        "  FOREIGN KEY (subject_id) REFERENCES Patients(subject_id)\n",
        ");'''\n",
        "cursor.execute(sql)\n",
        "#insert code to create D_icd_diagnoses table\n",
        "sql ='''CREATE TABLE D_icd_diagnoses (\n",
        "      row_id int  NOT NULL,\n",
        "      icd9_code varchar(10)\t  NOT NULL,\n",
        "      short_title varchar(50)  NOT NULL,\n",
        "      long_title varchar(255)   NOT NULL,\n",
        "      PRIMARY KEY (icd9_code)\n",
        "  );'''\n",
        "cursor.execute(sql)\n",
        "\n",
        "#insert code to create Diagnoses_icd table\n",
        "sql ='''CREATE TABLE Diagnoses_icd (\n",
        "      row_id int  NOT NULL,\n",
        "      subject_id\tint NOT NULL,\n",
        "      hadm_id\tint NOT NULL,\n",
        "      seq_num\tint NULL,\n",
        "      icd9_code\tvarchar(10) NULL,\n",
        "      FOREIGN KEY (subject_id) REFERENCES patients(subject_id),\n",
        "      FOREIGN KEY (hadm_id) REFERENCES admissions(hadm_id),\n",
        "      FOREIGN KEY (icd9_code) REFERENCES d_icd_diagnoses(icd9_code)\n",
        "  );'''\n",
        "cursor.execute(sql)\n",
        "\n",
        "print(\"Table(s) created successfully........\")\n",
        "conn.commit()\n",
        "\n",
        "#load the data from the MIMIC DEMO URL\n",
        "patients = pd.read_csv('/content/gdrive/MyDrive/BIS638/2022/PATIENTS.csv')\n",
        "admissions = pd.read_csv('/content/gdrive/MyDrive/BIS638/2022/ADMISSIONS.csv')\n",
        "\n",
        "#insert code to load D_ICD_DIAGNOSES.csv and DIAGNOSES_ICD.csv into the corresponding Pandas DataFrame objects\n",
        "d_icd_diagnoses = pd.read_csv('/content/gdrive/MyDrive/BIS638/2022//D_ICD_DIAGNOSES.csv')\n",
        "diagnoses_icd = pd.read_csv('/content/gdrive/MyDrive/BIS638/2022/DIAGNOSES_ICD.csv')\n",
        "\n",
        "\n",
        "\n",
        "#write the data to a sqlite table\n",
        "patients.to_sql('Patients', conn, if_exists='replace', index = False)\n",
        "admissions.to_sql('Admissions', conn, if_exists='replace', index = False)\n",
        "\n",
        "#insert code to write data to D_icd_diagnoses and Diagnoses_icd tables \n",
        "d_icd_diagnoses.to_sql('D_icd_diagnoses', conn, if_exists='replace', index = False)\n",
        "diagnoses_icd.to_sql('Diagnoses_icd', conn, if_exists='replace', index = False)\n",
        "\n",
        "#Commit your changes in the database\n",
        "conn.commit()"
      ],
      "execution_count": null,
      "outputs": [
        {
          "output_type": "stream",
          "name": "stdout",
          "text": [
            "Table(s) created successfully........\n"
          ]
        }
      ]
    },
    {
      "cell_type": "markdown",
      "source": [
        "## 2.3 Breast Cancer Patients\n",
        "\n",
        "We want to extract information that only contains breast cancer patients.\n",
        "\n",
        "First, we need to know what `icd9_code` represents breat cancer.Therefore, we refer to the [National Libaray of Medicine](https://www.ncbi.nlm.nih.gov/books/NBK367629/table/sb201.t4/) to get the ICD-9-CM diagnosis codes for defining breast cancer."
      ],
      "metadata": {
        "id": "fHjUsDzMsRDB"
      }
    },
    {
      "cell_type": "code",
      "source": [
        "get_breast_cancer_titles='''SELECT icd9_code,short_title,long_title FROM D_ICD_DIAGNOSES \n",
        "WHERE icd9_code IN (\"2330\", \"1740\", \"1741\", \"1742\", \"1743\", \"1744\", \"1745\", \"1746\", \"1748\", \"1749\");'''\n",
        "Breast_cancer_titles = pd.read_sql(get_breast_cancer_titles, conn)\n",
        "display(Breast_cancer_titles)"
      ],
      "metadata": {
        "colab": {
          "base_uri": "https://localhost:8080/",
          "height": 363
        },
        "id": "nESX2UZrtxBd",
        "outputId": "7563d389-650d-4604-ff42-16235ca4e8e8"
      },
      "execution_count": null,
      "outputs": [
        {
          "output_type": "display_data",
          "data": {
            "text/plain": [
              "  ICD9_CODE               SHORT_TITLE  \\\n",
              "0      1740          Malig neo nipple   \n",
              "1      1741    Mal neo breast-central   \n",
              "2      1742   Mal neo breast up-inner   \n",
              "3      1743  Mal neo breast low-inner   \n",
              "4      1744   Mal neo breast up-outer   \n",
              "5      1745  Mal neo breast low-outer   \n",
              "6      1746   Mal neo breast-axillary   \n",
              "7      1748   Malign neopl breast NEC   \n",
              "8      1749   Malign neopl breast NOS   \n",
              "9      2330         Ca in situ breast   \n",
              "\n",
              "                                          LONG_TITLE  \n",
              "0  Malignant neoplasm of nipple and areola of fem...  \n",
              "1  Malignant neoplasm of central portion of femal...  \n",
              "2  Malignant neoplasm of upper-inner quadrant of ...  \n",
              "3  Malignant neoplasm of lower-inner quadrant of ...  \n",
              "4  Malignant neoplasm of upper-outer quadrant of ...  \n",
              "5  Malignant neoplasm of lower-outer quadrant of ...  \n",
              "6  Malignant neoplasm of axillary tail of female ...  \n",
              "7  Malignant neoplasm of other specified sites of...  \n",
              "8  Malignant neoplasm of breast (female), unspeci...  \n",
              "9                        Carcinoma in situ of breast  "
            ],
            "text/html": [
              "\n",
              "  <div id=\"df-2c72bd8f-2365-4fc7-a1ac-1acd089451e7\">\n",
              "    <div class=\"colab-df-container\">\n",
              "      <div>\n",
              "<style scoped>\n",
              "    .dataframe tbody tr th:only-of-type {\n",
              "        vertical-align: middle;\n",
              "    }\n",
              "\n",
              "    .dataframe tbody tr th {\n",
              "        vertical-align: top;\n",
              "    }\n",
              "\n",
              "    .dataframe thead th {\n",
              "        text-align: right;\n",
              "    }\n",
              "</style>\n",
              "<table border=\"1\" class=\"dataframe\">\n",
              "  <thead>\n",
              "    <tr style=\"text-align: right;\">\n",
              "      <th></th>\n",
              "      <th>ICD9_CODE</th>\n",
              "      <th>SHORT_TITLE</th>\n",
              "      <th>LONG_TITLE</th>\n",
              "    </tr>\n",
              "  </thead>\n",
              "  <tbody>\n",
              "    <tr>\n",
              "      <th>0</th>\n",
              "      <td>1740</td>\n",
              "      <td>Malig neo nipple</td>\n",
              "      <td>Malignant neoplasm of nipple and areola of fem...</td>\n",
              "    </tr>\n",
              "    <tr>\n",
              "      <th>1</th>\n",
              "      <td>1741</td>\n",
              "      <td>Mal neo breast-central</td>\n",
              "      <td>Malignant neoplasm of central portion of femal...</td>\n",
              "    </tr>\n",
              "    <tr>\n",
              "      <th>2</th>\n",
              "      <td>1742</td>\n",
              "      <td>Mal neo breast up-inner</td>\n",
              "      <td>Malignant neoplasm of upper-inner quadrant of ...</td>\n",
              "    </tr>\n",
              "    <tr>\n",
              "      <th>3</th>\n",
              "      <td>1743</td>\n",
              "      <td>Mal neo breast low-inner</td>\n",
              "      <td>Malignant neoplasm of lower-inner quadrant of ...</td>\n",
              "    </tr>\n",
              "    <tr>\n",
              "      <th>4</th>\n",
              "      <td>1744</td>\n",
              "      <td>Mal neo breast up-outer</td>\n",
              "      <td>Malignant neoplasm of upper-outer quadrant of ...</td>\n",
              "    </tr>\n",
              "    <tr>\n",
              "      <th>5</th>\n",
              "      <td>1745</td>\n",
              "      <td>Mal neo breast low-outer</td>\n",
              "      <td>Malignant neoplasm of lower-outer quadrant of ...</td>\n",
              "    </tr>\n",
              "    <tr>\n",
              "      <th>6</th>\n",
              "      <td>1746</td>\n",
              "      <td>Mal neo breast-axillary</td>\n",
              "      <td>Malignant neoplasm of axillary tail of female ...</td>\n",
              "    </tr>\n",
              "    <tr>\n",
              "      <th>7</th>\n",
              "      <td>1748</td>\n",
              "      <td>Malign neopl breast NEC</td>\n",
              "      <td>Malignant neoplasm of other specified sites of...</td>\n",
              "    </tr>\n",
              "    <tr>\n",
              "      <th>8</th>\n",
              "      <td>1749</td>\n",
              "      <td>Malign neopl breast NOS</td>\n",
              "      <td>Malignant neoplasm of breast (female), unspeci...</td>\n",
              "    </tr>\n",
              "    <tr>\n",
              "      <th>9</th>\n",
              "      <td>2330</td>\n",
              "      <td>Ca in situ breast</td>\n",
              "      <td>Carcinoma in situ of breast</td>\n",
              "    </tr>\n",
              "  </tbody>\n",
              "</table>\n",
              "</div>\n",
              "      <button class=\"colab-df-convert\" onclick=\"convertToInteractive('df-2c72bd8f-2365-4fc7-a1ac-1acd089451e7')\"\n",
              "              title=\"Convert this dataframe to an interactive table.\"\n",
              "              style=\"display:none;\">\n",
              "        \n",
              "  <svg xmlns=\"http://www.w3.org/2000/svg\" height=\"24px\"viewBox=\"0 0 24 24\"\n",
              "       width=\"24px\">\n",
              "    <path d=\"M0 0h24v24H0V0z\" fill=\"none\"/>\n",
              "    <path d=\"M18.56 5.44l.94 2.06.94-2.06 2.06-.94-2.06-.94-.94-2.06-.94 2.06-2.06.94zm-11 1L8.5 8.5l.94-2.06 2.06-.94-2.06-.94L8.5 2.5l-.94 2.06-2.06.94zm10 10l.94 2.06.94-2.06 2.06-.94-2.06-.94-.94-2.06-.94 2.06-2.06.94z\"/><path d=\"M17.41 7.96l-1.37-1.37c-.4-.4-.92-.59-1.43-.59-.52 0-1.04.2-1.43.59L10.3 9.45l-7.72 7.72c-.78.78-.78 2.05 0 2.83L4 21.41c.39.39.9.59 1.41.59.51 0 1.02-.2 1.41-.59l7.78-7.78 2.81-2.81c.8-.78.8-2.07 0-2.86zM5.41 20L4 18.59l7.72-7.72 1.47 1.35L5.41 20z\"/>\n",
              "  </svg>\n",
              "      </button>\n",
              "      \n",
              "  <style>\n",
              "    .colab-df-container {\n",
              "      display:flex;\n",
              "      flex-wrap:wrap;\n",
              "      gap: 12px;\n",
              "    }\n",
              "\n",
              "    .colab-df-convert {\n",
              "      background-color: #E8F0FE;\n",
              "      border: none;\n",
              "      border-radius: 50%;\n",
              "      cursor: pointer;\n",
              "      display: none;\n",
              "      fill: #1967D2;\n",
              "      height: 32px;\n",
              "      padding: 0 0 0 0;\n",
              "      width: 32px;\n",
              "    }\n",
              "\n",
              "    .colab-df-convert:hover {\n",
              "      background-color: #E2EBFA;\n",
              "      box-shadow: 0px 1px 2px rgba(60, 64, 67, 0.3), 0px 1px 3px 1px rgba(60, 64, 67, 0.15);\n",
              "      fill: #174EA6;\n",
              "    }\n",
              "\n",
              "    [theme=dark] .colab-df-convert {\n",
              "      background-color: #3B4455;\n",
              "      fill: #D2E3FC;\n",
              "    }\n",
              "\n",
              "    [theme=dark] .colab-df-convert:hover {\n",
              "      background-color: #434B5C;\n",
              "      box-shadow: 0px 1px 3px 1px rgba(0, 0, 0, 0.15);\n",
              "      filter: drop-shadow(0px 1px 2px rgba(0, 0, 0, 0.3));\n",
              "      fill: #FFFFFF;\n",
              "    }\n",
              "  </style>\n",
              "\n",
              "      <script>\n",
              "        const buttonEl =\n",
              "          document.querySelector('#df-2c72bd8f-2365-4fc7-a1ac-1acd089451e7 button.colab-df-convert');\n",
              "        buttonEl.style.display =\n",
              "          google.colab.kernel.accessAllowed ? 'block' : 'none';\n",
              "\n",
              "        async function convertToInteractive(key) {\n",
              "          const element = document.querySelector('#df-2c72bd8f-2365-4fc7-a1ac-1acd089451e7');\n",
              "          const dataTable =\n",
              "            await google.colab.kernel.invokeFunction('convertToInteractive',\n",
              "                                                     [key], {});\n",
              "          if (!dataTable) return;\n",
              "\n",
              "          const docLinkHtml = 'Like what you see? Visit the ' +\n",
              "            '<a target=\"_blank\" href=https://colab.research.google.com/notebooks/data_table.ipynb>data table notebook</a>'\n",
              "            + ' to learn more about interactive tables.';\n",
              "          element.innerHTML = '';\n",
              "          dataTable['output_type'] = 'display_data';\n",
              "          await google.colab.output.renderOutput(dataTable, element);\n",
              "          const docLink = document.createElement('div');\n",
              "          docLink.innerHTML = docLinkHtml;\n",
              "          element.appendChild(docLink);\n",
              "        }\n",
              "      </script>\n",
              "    </div>\n",
              "  </div>\n",
              "  "
            ]
          },
          "metadata": {}
        }
      ]
    },
    {
      "cell_type": "markdown",
      "source": [
        "Extract the breast cancer patients with all the relative information"
      ],
      "metadata": {
        "id": "THGrxbdJuY-u"
      }
    },
    {
      "cell_type": "code",
      "source": [
        "cursor.execute(\"DROP TABLE IF EXISTS Breast_cancer\")\n",
        "extract_breast_cancer_patient='''\n",
        "CREATE TABLE IF NOT EXISTS Breast_cancer AS\n",
        "  SELECT p.*,b.short_title, d.icd9_code\n",
        "  FROM Patients p \n",
        "  inner join Diagnoses_icd d on d.subject_id=p.subject_id  \n",
        "  inner join D_icd_diagnoses b on d.icd9_code=b.icd9_code \n",
        "  WHERE b.icd9_code IN (\"2330\", \"1740\", \"1741\", \"1742\", \"1743\", \"1744\", \"1745\", \"1746\", \"1748\", \"1749\")\n",
        "  ORDER BY p.subject_id\n",
        "  '''\n",
        "cursor.execute(extract_breast_cancer_patient)"
      ],
      "metadata": {
        "colab": {
          "base_uri": "https://localhost:8080/"
        },
        "id": "K8hoNOBbrm04",
        "outputId": "8fc86205-9f19-48e0-bdb8-02eab3d92934"
      },
      "execution_count": null,
      "outputs": [
        {
          "output_type": "execute_result",
          "data": {
            "text/plain": [
              "<sqlite3.Cursor at 0x7f2d26f86570>"
            ]
          },
          "metadata": {},
          "execution_count": 6
        }
      ]
    },
    {
      "cell_type": "markdown",
      "source": [
        "we notice that some date seem to be in the future. We think of it as the deidentification. Therefore, we can still make use of the data to get the age of the patientes at each time spot."
      ],
      "metadata": {
        "id": "b_KWMURA-HlM"
      }
    },
    {
      "cell_type": "code",
      "source": [
        "sql='''SELECT COUNT(DISTINCT b.subject_id) AS ovarian_cancer_subject, COUNT(DISTINCT a.hadm_id) AS ovarian_cancer_admission \n",
        "  FROM Breast_cancer b\n",
        "  inner join Admissions a on a.subject_id=b.subject_id  \n",
        "  ;'''\n",
        "breast_cancer_countdata = pd.read_sql(sql, conn)\n",
        "display(breast_cancer_countdata)"
      ],
      "metadata": {
        "colab": {
          "base_uri": "https://localhost:8080/",
          "height": 81
        },
        "id": "YaFd6n0T9hC-",
        "outputId": "3854821a-985d-4168-b705-ed1bef9d4f14"
      },
      "execution_count": null,
      "outputs": [
        {
          "output_type": "display_data",
          "data": {
            "text/plain": [
              "   ovarian_cancer_subject  ovarian_cancer_admission\n",
              "0                     144                       200"
            ],
            "text/html": [
              "\n",
              "  <div id=\"df-43572ad9-975c-4a5d-907e-c38275a9d692\">\n",
              "    <div class=\"colab-df-container\">\n",
              "      <div>\n",
              "<style scoped>\n",
              "    .dataframe tbody tr th:only-of-type {\n",
              "        vertical-align: middle;\n",
              "    }\n",
              "\n",
              "    .dataframe tbody tr th {\n",
              "        vertical-align: top;\n",
              "    }\n",
              "\n",
              "    .dataframe thead th {\n",
              "        text-align: right;\n",
              "    }\n",
              "</style>\n",
              "<table border=\"1\" class=\"dataframe\">\n",
              "  <thead>\n",
              "    <tr style=\"text-align: right;\">\n",
              "      <th></th>\n",
              "      <th>ovarian_cancer_subject</th>\n",
              "      <th>ovarian_cancer_admission</th>\n",
              "    </tr>\n",
              "  </thead>\n",
              "  <tbody>\n",
              "    <tr>\n",
              "      <th>0</th>\n",
              "      <td>144</td>\n",
              "      <td>200</td>\n",
              "    </tr>\n",
              "  </tbody>\n",
              "</table>\n",
              "</div>\n",
              "      <button class=\"colab-df-convert\" onclick=\"convertToInteractive('df-43572ad9-975c-4a5d-907e-c38275a9d692')\"\n",
              "              title=\"Convert this dataframe to an interactive table.\"\n",
              "              style=\"display:none;\">\n",
              "        \n",
              "  <svg xmlns=\"http://www.w3.org/2000/svg\" height=\"24px\"viewBox=\"0 0 24 24\"\n",
              "       width=\"24px\">\n",
              "    <path d=\"M0 0h24v24H0V0z\" fill=\"none\"/>\n",
              "    <path d=\"M18.56 5.44l.94 2.06.94-2.06 2.06-.94-2.06-.94-.94-2.06-.94 2.06-2.06.94zm-11 1L8.5 8.5l.94-2.06 2.06-.94-2.06-.94L8.5 2.5l-.94 2.06-2.06.94zm10 10l.94 2.06.94-2.06 2.06-.94-2.06-.94-.94-2.06-.94 2.06-2.06.94z\"/><path d=\"M17.41 7.96l-1.37-1.37c-.4-.4-.92-.59-1.43-.59-.52 0-1.04.2-1.43.59L10.3 9.45l-7.72 7.72c-.78.78-.78 2.05 0 2.83L4 21.41c.39.39.9.59 1.41.59.51 0 1.02-.2 1.41-.59l7.78-7.78 2.81-2.81c.8-.78.8-2.07 0-2.86zM5.41 20L4 18.59l7.72-7.72 1.47 1.35L5.41 20z\"/>\n",
              "  </svg>\n",
              "      </button>\n",
              "      \n",
              "  <style>\n",
              "    .colab-df-container {\n",
              "      display:flex;\n",
              "      flex-wrap:wrap;\n",
              "      gap: 12px;\n",
              "    }\n",
              "\n",
              "    .colab-df-convert {\n",
              "      background-color: #E8F0FE;\n",
              "      border: none;\n",
              "      border-radius: 50%;\n",
              "      cursor: pointer;\n",
              "      display: none;\n",
              "      fill: #1967D2;\n",
              "      height: 32px;\n",
              "      padding: 0 0 0 0;\n",
              "      width: 32px;\n",
              "    }\n",
              "\n",
              "    .colab-df-convert:hover {\n",
              "      background-color: #E2EBFA;\n",
              "      box-shadow: 0px 1px 2px rgba(60, 64, 67, 0.3), 0px 1px 3px 1px rgba(60, 64, 67, 0.15);\n",
              "      fill: #174EA6;\n",
              "    }\n",
              "\n",
              "    [theme=dark] .colab-df-convert {\n",
              "      background-color: #3B4455;\n",
              "      fill: #D2E3FC;\n",
              "    }\n",
              "\n",
              "    [theme=dark] .colab-df-convert:hover {\n",
              "      background-color: #434B5C;\n",
              "      box-shadow: 0px 1px 3px 1px rgba(0, 0, 0, 0.15);\n",
              "      filter: drop-shadow(0px 1px 2px rgba(0, 0, 0, 0.3));\n",
              "      fill: #FFFFFF;\n",
              "    }\n",
              "  </style>\n",
              "\n",
              "      <script>\n",
              "        const buttonEl =\n",
              "          document.querySelector('#df-43572ad9-975c-4a5d-907e-c38275a9d692 button.colab-df-convert');\n",
              "        buttonEl.style.display =\n",
              "          google.colab.kernel.accessAllowed ? 'block' : 'none';\n",
              "\n",
              "        async function convertToInteractive(key) {\n",
              "          const element = document.querySelector('#df-43572ad9-975c-4a5d-907e-c38275a9d692');\n",
              "          const dataTable =\n",
              "            await google.colab.kernel.invokeFunction('convertToInteractive',\n",
              "                                                     [key], {});\n",
              "          if (!dataTable) return;\n",
              "\n",
              "          const docLinkHtml = 'Like what you see? Visit the ' +\n",
              "            '<a target=\"_blank\" href=https://colab.research.google.com/notebooks/data_table.ipynb>data table notebook</a>'\n",
              "            + ' to learn more about interactive tables.';\n",
              "          element.innerHTML = '';\n",
              "          dataTable['output_type'] = 'display_data';\n",
              "          await google.colab.output.renderOutput(dataTable, element);\n",
              "          const docLink = document.createElement('div');\n",
              "          docLink.innerHTML = docLinkHtml;\n",
              "          element.appendChild(docLink);\n",
              "        }\n",
              "      </script>\n",
              "    </div>\n",
              "  </div>\n",
              "  "
            ]
          },
          "metadata": {}
        }
      ]
    },
    {
      "cell_type": "markdown",
      "source": [
        "There are in total 153 patients in MIMIC3 database who had breast cancer\n",
        "\n",
        "思考 为什么只用patient的数据的时候是153 而引入admission之后就只剩144了"
      ],
      "metadata": {
        "id": "Me9vC2aMvtdk"
      }
    },
    {
      "cell_type": "markdown",
      "source": [
        "# 3. Exploratory Data Analysis\n",
        "\n"
      ],
      "metadata": {
        "id": "ttkDKWyvxD5F"
      }
    },
    {
      "cell_type": "markdown",
      "source": [
        "## 3.1 Age distribution \n",
        "\n",
        "We want to know the age distribution of breast cancer patients (when visiting hospitals, diagnosed, dead) V.S International organization’s recommendation for women health check and breast cancer high-occurrence age.\n",
        "\n",
        "注意 CHR 这边把 admission的时间算做diagnosed的时间 因为CHR 没有发现 门诊时间。。。\n",
        "\n",
        "并且，CHR 认为 patient 那边记录的死亡时间会稍微准确些。就不区分 医院提供的死亡时间，社会死亡时间啥的了"
      ],
      "metadata": {
        "id": "e7s0pold5KkE"
      }
    },
    {
      "cell_type": "code",
      "source": [
        "get_death_age='''SELECT distinct subject_id, (dod-dob) as expire_age\n",
        "FROM Breast_cancer\n",
        "where expire_flag = 1'''\n",
        "breast_cancer_death_agedata = pd.read_sql(get_death_age, conn)\n",
        "get_diagnosis_age='''SELECT distinct b.subject_id, (a.admittime-b.dob) as diagnosis_age, JULIANDAY(a.dischtime) - JULIANDAY(a.admittime) as in_hospital_days\n",
        "FROM Breast_cancer b\n",
        "inner join Admissions a on a.subject_id == b.subject_id '''\n",
        "breast_cancer_diagnosis_agedata = pd.read_sql(get_diagnosis_age, conn)\n",
        "display(breast_cancer_diagnosis_agedata)"
      ],
      "metadata": {
        "id": "oCcJB6j25YVc",
        "colab": {
          "base_uri": "https://localhost:8080/",
          "height": 424
        },
        "outputId": "3820b09b-21f6-4ba0-8b8d-a5ab7be52bda"
      },
      "execution_count": null,
      "outputs": [
        {
          "output_type": "display_data",
          "data": {
            "text/plain": [
              "     SUBJECT_ID  diagnosis_age  in_hospital_days\n",
              "0          2297             49          9.718056\n",
              "1          2693             42          3.024306\n",
              "2          2984             56         14.736111\n",
              "3          2984             59          5.186806\n",
              "4          2984             60          5.465278\n",
              "..          ...            ...               ...\n",
              "195       96453             56          1.868750\n",
              "196       99268             59          4.686806\n",
              "197       99268             61          7.421528\n",
              "198       99268             61         10.815278\n",
              "199       99747             80          6.764583\n",
              "\n",
              "[200 rows x 3 columns]"
            ],
            "text/html": [
              "\n",
              "  <div id=\"df-35582dd7-9023-4794-adab-bba7ba888c08\">\n",
              "    <div class=\"colab-df-container\">\n",
              "      <div>\n",
              "<style scoped>\n",
              "    .dataframe tbody tr th:only-of-type {\n",
              "        vertical-align: middle;\n",
              "    }\n",
              "\n",
              "    .dataframe tbody tr th {\n",
              "        vertical-align: top;\n",
              "    }\n",
              "\n",
              "    .dataframe thead th {\n",
              "        text-align: right;\n",
              "    }\n",
              "</style>\n",
              "<table border=\"1\" class=\"dataframe\">\n",
              "  <thead>\n",
              "    <tr style=\"text-align: right;\">\n",
              "      <th></th>\n",
              "      <th>SUBJECT_ID</th>\n",
              "      <th>diagnosis_age</th>\n",
              "      <th>in_hospital_days</th>\n",
              "    </tr>\n",
              "  </thead>\n",
              "  <tbody>\n",
              "    <tr>\n",
              "      <th>0</th>\n",
              "      <td>2297</td>\n",
              "      <td>49</td>\n",
              "      <td>9.718056</td>\n",
              "    </tr>\n",
              "    <tr>\n",
              "      <th>1</th>\n",
              "      <td>2693</td>\n",
              "      <td>42</td>\n",
              "      <td>3.024306</td>\n",
              "    </tr>\n",
              "    <tr>\n",
              "      <th>2</th>\n",
              "      <td>2984</td>\n",
              "      <td>56</td>\n",
              "      <td>14.736111</td>\n",
              "    </tr>\n",
              "    <tr>\n",
              "      <th>3</th>\n",
              "      <td>2984</td>\n",
              "      <td>59</td>\n",
              "      <td>5.186806</td>\n",
              "    </tr>\n",
              "    <tr>\n",
              "      <th>4</th>\n",
              "      <td>2984</td>\n",
              "      <td>60</td>\n",
              "      <td>5.465278</td>\n",
              "    </tr>\n",
              "    <tr>\n",
              "      <th>...</th>\n",
              "      <td>...</td>\n",
              "      <td>...</td>\n",
              "      <td>...</td>\n",
              "    </tr>\n",
              "    <tr>\n",
              "      <th>195</th>\n",
              "      <td>96453</td>\n",
              "      <td>56</td>\n",
              "      <td>1.868750</td>\n",
              "    </tr>\n",
              "    <tr>\n",
              "      <th>196</th>\n",
              "      <td>99268</td>\n",
              "      <td>59</td>\n",
              "      <td>4.686806</td>\n",
              "    </tr>\n",
              "    <tr>\n",
              "      <th>197</th>\n",
              "      <td>99268</td>\n",
              "      <td>61</td>\n",
              "      <td>7.421528</td>\n",
              "    </tr>\n",
              "    <tr>\n",
              "      <th>198</th>\n",
              "      <td>99268</td>\n",
              "      <td>61</td>\n",
              "      <td>10.815278</td>\n",
              "    </tr>\n",
              "    <tr>\n",
              "      <th>199</th>\n",
              "      <td>99747</td>\n",
              "      <td>80</td>\n",
              "      <td>6.764583</td>\n",
              "    </tr>\n",
              "  </tbody>\n",
              "</table>\n",
              "<p>200 rows × 3 columns</p>\n",
              "</div>\n",
              "      <button class=\"colab-df-convert\" onclick=\"convertToInteractive('df-35582dd7-9023-4794-adab-bba7ba888c08')\"\n",
              "              title=\"Convert this dataframe to an interactive table.\"\n",
              "              style=\"display:none;\">\n",
              "        \n",
              "  <svg xmlns=\"http://www.w3.org/2000/svg\" height=\"24px\"viewBox=\"0 0 24 24\"\n",
              "       width=\"24px\">\n",
              "    <path d=\"M0 0h24v24H0V0z\" fill=\"none\"/>\n",
              "    <path d=\"M18.56 5.44l.94 2.06.94-2.06 2.06-.94-2.06-.94-.94-2.06-.94 2.06-2.06.94zm-11 1L8.5 8.5l.94-2.06 2.06-.94-2.06-.94L8.5 2.5l-.94 2.06-2.06.94zm10 10l.94 2.06.94-2.06 2.06-.94-2.06-.94-.94-2.06-.94 2.06-2.06.94z\"/><path d=\"M17.41 7.96l-1.37-1.37c-.4-.4-.92-.59-1.43-.59-.52 0-1.04.2-1.43.59L10.3 9.45l-7.72 7.72c-.78.78-.78 2.05 0 2.83L4 21.41c.39.39.9.59 1.41.59.51 0 1.02-.2 1.41-.59l7.78-7.78 2.81-2.81c.8-.78.8-2.07 0-2.86zM5.41 20L4 18.59l7.72-7.72 1.47 1.35L5.41 20z\"/>\n",
              "  </svg>\n",
              "      </button>\n",
              "      \n",
              "  <style>\n",
              "    .colab-df-container {\n",
              "      display:flex;\n",
              "      flex-wrap:wrap;\n",
              "      gap: 12px;\n",
              "    }\n",
              "\n",
              "    .colab-df-convert {\n",
              "      background-color: #E8F0FE;\n",
              "      border: none;\n",
              "      border-radius: 50%;\n",
              "      cursor: pointer;\n",
              "      display: none;\n",
              "      fill: #1967D2;\n",
              "      height: 32px;\n",
              "      padding: 0 0 0 0;\n",
              "      width: 32px;\n",
              "    }\n",
              "\n",
              "    .colab-df-convert:hover {\n",
              "      background-color: #E2EBFA;\n",
              "      box-shadow: 0px 1px 2px rgba(60, 64, 67, 0.3), 0px 1px 3px 1px rgba(60, 64, 67, 0.15);\n",
              "      fill: #174EA6;\n",
              "    }\n",
              "\n",
              "    [theme=dark] .colab-df-convert {\n",
              "      background-color: #3B4455;\n",
              "      fill: #D2E3FC;\n",
              "    }\n",
              "\n",
              "    [theme=dark] .colab-df-convert:hover {\n",
              "      background-color: #434B5C;\n",
              "      box-shadow: 0px 1px 3px 1px rgba(0, 0, 0, 0.15);\n",
              "      filter: drop-shadow(0px 1px 2px rgba(0, 0, 0, 0.3));\n",
              "      fill: #FFFFFF;\n",
              "    }\n",
              "  </style>\n",
              "\n",
              "      <script>\n",
              "        const buttonEl =\n",
              "          document.querySelector('#df-35582dd7-9023-4794-adab-bba7ba888c08 button.colab-df-convert');\n",
              "        buttonEl.style.display =\n",
              "          google.colab.kernel.accessAllowed ? 'block' : 'none';\n",
              "\n",
              "        async function convertToInteractive(key) {\n",
              "          const element = document.querySelector('#df-35582dd7-9023-4794-adab-bba7ba888c08');\n",
              "          const dataTable =\n",
              "            await google.colab.kernel.invokeFunction('convertToInteractive',\n",
              "                                                     [key], {});\n",
              "          if (!dataTable) return;\n",
              "\n",
              "          const docLinkHtml = 'Like what you see? Visit the ' +\n",
              "            '<a target=\"_blank\" href=https://colab.research.google.com/notebooks/data_table.ipynb>data table notebook</a>'\n",
              "            + ' to learn more about interactive tables.';\n",
              "          element.innerHTML = '';\n",
              "          dataTable['output_type'] = 'display_data';\n",
              "          await google.colab.output.renderOutput(dataTable, element);\n",
              "          const docLink = document.createElement('div');\n",
              "          docLink.innerHTML = docLinkHtml;\n",
              "          element.appendChild(docLink);\n",
              "        }\n",
              "      </script>\n",
              "    </div>\n",
              "  </div>\n",
              "  "
            ]
          },
          "metadata": {}
        }
      ]
    },
    {
      "cell_type": "markdown",
      "source": [
        "We notice from below that the largest age of the peolpe who died is 300 which is curently impossible."
      ],
      "metadata": {
        "id": "CKxFn2SDHX6x"
      }
    },
    {
      "cell_type": "code",
      "source": [
        "breast_cancer_diagnosis_agedata[\"diagnosis_age\"].describe()"
      ],
      "metadata": {
        "colab": {
          "base_uri": "https://localhost:8080/"
        },
        "id": "Ua6RQLKvMHRV",
        "outputId": "ee1eb159-2939-4d97-da56-c564b719f059"
      },
      "execution_count": null,
      "outputs": [
        {
          "output_type": "execute_result",
          "data": {
            "text/plain": [
              "count    200.000000\n",
              "mean      61.965000\n",
              "std       32.258749\n",
              "min       25.000000\n",
              "25%       48.000000\n",
              "50%       56.000000\n",
              "75%       67.000000\n",
              "max      300.000000\n",
              "Name: diagnosis_age, dtype: float64"
            ]
          },
          "metadata": {},
          "execution_count": 9
        }
      ]
    },
    {
      "cell_type": "code",
      "source": [
        "breast_cancer_diagnosis_agedata[\"in_hospital_days\"].describe()"
      ],
      "metadata": {
        "colab": {
          "base_uri": "https://localhost:8080/"
        },
        "id": "tw7LOUdrL-Ez",
        "outputId": "c09a23ff-75fa-44eb-cc68-099e15509401"
      },
      "execution_count": null,
      "outputs": [
        {
          "output_type": "execute_result",
          "data": {
            "text/plain": [
              "count    200.000000\n",
              "mean       8.759226\n",
              "std        9.196254\n",
              "min        0.138889\n",
              "25%        4.151736\n",
              "50%        5.821528\n",
              "75%       10.285937\n",
              "max       85.744444\n",
              "Name: in_hospital_days, dtype: float64"
            ]
          },
          "metadata": {},
          "execution_count": 10
        }
      ]
    },
    {
      "cell_type": "code",
      "source": [
        "breast_cancer_death_agedata['expire_age'].describe()"
      ],
      "metadata": {
        "colab": {
          "base_uri": "https://localhost:8080/"
        },
        "id": "kt2BwjemHBXw",
        "outputId": "4791aecb-675c-435c-fd9c-96b1d7162224"
      },
      "execution_count": null,
      "outputs": [
        {
          "output_type": "execute_result",
          "data": {
            "text/plain": [
              "count     68.000000\n",
              "mean      67.823529\n",
              "std       42.948404\n",
              "min       25.000000\n",
              "25%       51.000000\n",
              "50%       59.500000\n",
              "75%       70.500000\n",
              "max      301.000000\n",
              "Name: expire_age, dtype: float64"
            ]
          },
          "metadata": {},
          "execution_count": 11
        }
      ]
    },
    {
      "cell_type": "markdown",
      "source": [
        "Therefore, we filter out the data with the age less than 100 and then plot the histogram."
      ],
      "metadata": {
        "id": "3vUu8ElNHrDK"
      }
    },
    {
      "cell_type": "code",
      "source": [
        "def plot_histogram(data,name):\n",
        "  plt.figure(dpi=100)\n",
        "  plt.hist(data, bins = 12, color = 'steelblue', edgecolor = 'k')\n",
        "  plt.title(name)\n",
        "  plt.show()\n"
      ],
      "metadata": {
        "id": "ZLc24QZRw-qL"
      },
      "execution_count": null,
      "outputs": []
    },
    {
      "cell_type": "code",
      "source": [
        "death_ages=breast_cancer_death_agedata['expire_age']\n",
        "death_ages=death_ages[death_ages<100]\n",
        "data=death_ages\n",
        "name='Age of death distribution for Breast Cancer Patients'\n",
        "plot_histogram(data,name)"
      ],
      "metadata": {
        "colab": {
          "base_uri": "https://localhost:8080/",
          "height": 385
        },
        "id": "i1T7-O_PG5Tc",
        "outputId": "1d4a8584-1af5-447c-c99d-aa96642ed349"
      },
      "execution_count": null,
      "outputs": [
        {
          "output_type": "display_data",
          "data": {
            "text/plain": [
              "<Figure size 600x400 with 1 Axes>"
            ],
            "image/png": "[encoded data removed]"
          },
          "metadata": {
            "needs_background": "light"
          }
        }
      ]
    },
    {
      "cell_type": "code",
      "source": [
        "diagnosis_ages=breast_cancer_diagnosis_agedata['diagnosis_age']\n",
        "diagnosis_ages=diagnosis_ages[diagnosis_ages<100]\n",
        "data=diagnosis_ages\n",
        "name='Age of death distribution for Breast Cancer Patients'\n",
        "plot_histogram(data,name)"
      ],
      "metadata": {
        "colab": {
          "base_uri": "https://localhost:8080/",
          "height": 385
        },
        "id": "C8-AyLBMMzc9",
        "outputId": "0daae57b-d1d0-45f4-8c3f-cb959dcf53ab"
      },
      "execution_count": null,
      "outputs": [
        {
          "output_type": "display_data",
          "data": {
            "text/plain": [
              "<Figure size 600x400 with 1 Axes>"
            ],
            "image/png": "[encoded data removed]"
          },
          "metadata": {
            "needs_background": "light"
          }
        }
      ]
    },
    {
      "cell_type": "markdown",
      "source": [
        "Then, we want to know the average age of those who died. "
      ],
      "metadata": {
        "id": "NyANS5o-PMTl"
      }
    },
    {
      "cell_type": "code",
      "source": [
        "np.average(diagnosis_ages)"
      ],
      "metadata": {
        "colab": {
          "base_uri": "https://localhost:8080/"
        },
        "id": "zyPYXLO5PNla",
        "outputId": "5bc3ea86-3784-4554-b1ab-887e9d5223a1"
      },
      "execution_count": null,
      "outputs": [
        {
          "output_type": "execute_result",
          "data": {
            "text/plain": [
              "58.34010152284264"
            ]
          },
          "metadata": {},
          "execution_count": 15
        }
      ]
    },
    {
      "cell_type": "markdown",
      "source": [
        "## 3.2 Time of treatment \n",
        "\n",
        "We want to know the age distribution of breast cancer patients (when visiting hospitals, diagnosed, dead) V.S International organization’s recommendation for women health check and breast cancer high-occurrence age."
      ],
      "metadata": {
        "id": "4jvCOkYkvROk"
      }
    },
    {
      "cell_type": "markdown",
      "source": [
        "Time of treatment\n",
        "这里只是住院时间 可能死了 也可能活着出去了"
      ],
      "metadata": {
        "id": "hiMAU8n35eo4"
      }
    },
    {
      "cell_type": "code",
      "source": [
        "plt.figure(dpi=100)\n",
        "data=breast_cancer_diagnosis_agedata['in_hospital_days']\n",
        "name='Time of Treatment for Breast Cancer Patients'\n",
        "plot_histogram(data,name)"
      ],
      "metadata": {
        "colab": {
          "base_uri": "https://localhost:8080/",
          "height": 402
        },
        "id": "hEvmt9xVOKXd",
        "outputId": "7d9f6ddb-a107-42ab-d912-659738f0b29b"
      },
      "execution_count": null,
      "outputs": [
        {
          "output_type": "display_data",
          "data": {
            "text/plain": [
              "<Figure size 600x400 with 0 Axes>"
            ]
          },
          "metadata": {}
        },
        {
          "output_type": "display_data",
          "data": {
            "text/plain": [
              "<Figure size 600x400 with 1 Axes>"
            ],
            "image/png": "[encoded data removed]"
          },
          "metadata": {
            "needs_background": "light"
          }
        }
      ]
    },
    {
      "cell_type": "markdown",
      "source": [
        "## 3.3 Survival ratio (survived V.S dead)\n",
        "\n",
        "We want to learn about the survival ratio (survived V.S dead) of breast cancer."
      ],
      "metadata": {
        "id": "m76DwGvg5JLo"
      }
    },
    {
      "cell_type": "code",
      "source": [
        "sql_statement = \"SELECT expire_flag FROM Breast_cancer\"\n",
        "cursor.execute(sql_statement)\n",
        "dbresult = cursor.fetchall()\n",
        "death_indicator = []\n",
        "for r in dbresult:\n",
        "  death_indicator.append(r[0])\n",
        "\n",
        "# print(death_indicator)\n",
        "survive = death_indicator.count(0)\n",
        "death = death_indicator.count(1)\n",
        "data=[survive, death]\n",
        "labels = ['survive', 'dead']\n",
        "colors=[\"#FB5734\", \"#3FF5ED\"]\n",
        "name='Survival Ratio of Breast Cancer Patients'\n",
        "def plot_pie(data,labels,colors,name):\n",
        "  plt.figure(dpi=150)\n",
        "  plt.pie(data, labels = labels, colors=colors, autopct = '%1.2f%%')\n",
        "  plt.title(name)\n",
        "  plt.show()\n",
        "plot_pie(data,labels,colors,name)"
      ],
      "metadata": {
        "id": "CzX3LN4YxLZN",
        "colab": {
          "base_uri": "https://localhost:8080/",
          "height": 531
        },
        "outputId": "5d101437-b735-4561-fb4b-6bd7c94661f2"
      },
      "execution_count": null,
      "outputs": [
        {
          "output_type": "display_data",
          "data": {
            "text/plain": [
              "<Figure size 900x600 with 1 Axes>"
            ],
            "image/png": "[encoded data removed]"
          },
          "metadata": {}
        }
      ]
    },
    {
      "cell_type": "markdown",
      "source": [
        "## 3.4 Male Female ratio (male V.S female)"
      ],
      "metadata": {
        "id": "wbnqTGSI1ott"
      }
    },
    {
      "cell_type": "code",
      "source": [
        "sql_statement = \"SELECT gender FROM Breast_cancer\"\n",
        "cursor.execute(sql_statement)\n",
        "dbresult = cursor.fetchall()"
      ],
      "metadata": {
        "id": "rdHWeNL71x6w"
      },
      "execution_count": null,
      "outputs": []
    },
    {
      "cell_type": "code",
      "source": [
        "gender_indicator = []\n",
        "for r in dbresult:\n",
        "  gender_indicator.append(r[0])\n",
        "\n",
        "male = gender_indicator.count(\"F\")\n",
        "female = death_indicator.count(\"M\")\n",
        "data=[male, female]\n",
        "labels = ['Male', 'Female']\n",
        "colors=[\"#FB5734\", \"#3FF5ED\"]\n",
        "name='Gender Ratio of Breast Cancer Patients'\n",
        "\n",
        "plot_pie(data,labels,colors,name)"
      ],
      "metadata": {
        "colab": {
          "base_uri": "https://localhost:8080/",
          "height": 531
        },
        "id": "dc-f59672QyC",
        "outputId": "a99cd377-598c-4a6b-eafe-f0543f241e74"
      },
      "execution_count": null,
      "outputs": [
        {
          "output_type": "display_data",
          "data": {
            "text/plain": [
              "<Figure size 900x600 with 1 Axes>"
            ],
            "image/png": "[encoded data removed]"
          },
          "metadata": {}
        }
      ]
    },
    {
      "cell_type": "markdown",
      "source": [
        "# 4. Ontology\n"
      ],
      "metadata": {
        "id": "Ld01sSitx8fQ"
      }
    },
    {
      "cell_type": "code",
      "source": [
        "pip install py2neo"
      ],
      "metadata": {
        "colab": {
          "base_uri": "https://localhost:8080/"
        },
        "id": "NdTK6kTkyDRy",
        "outputId": "241ca20f-9691-45b4-d920-a6074b27922c"
      },
      "execution_count": null,
      "outputs": [
        {
          "output_type": "stream",
          "name": "stdout",
          "text": [
            "Looking in indexes: https://pypi.org/simple, https://us-python.pkg.dev/colab-wheels/public/simple/\n",
            "Collecting py2neo\n",
            "  Downloading py2neo-2021.2.3-py2.py3-none-any.whl (177 kB)\n",
            "\u001b[K     |████████████████████████████████| 177 kB 5.0 MB/s \n",
            "\u001b[?25hCollecting monotonic\n",
            "  Downloading monotonic-1.6-py2.py3-none-any.whl (8.2 kB)\n",
            "Requirement already satisfied: urllib3 in /usr/local/lib/python3.7/dist-packages (from py2neo) (1.24.3)\n",
            "Collecting interchange~=2021.0.4\n",
            "  Downloading interchange-2021.0.4-py2.py3-none-any.whl (28 kB)\n",
            "Requirement already satisfied: certifi in /usr/local/lib/python3.7/dist-packages (from py2neo) (2022.9.24)\n",
            "Collecting pansi>=2020.7.3\n",
            "  Downloading pansi-2020.7.3-py2.py3-none-any.whl (10 kB)\n",
            "Requirement already satisfied: six>=1.15.0 in /usr/local/lib/python3.7/dist-packages (from py2neo) (1.15.0)\n",
            "Requirement already satisfied: pygments>=2.0.0 in /usr/local/lib/python3.7/dist-packages (from py2neo) (2.6.1)\n",
            "Requirement already satisfied: packaging in /usr/local/lib/python3.7/dist-packages (from py2neo) (21.3)\n",
            "Requirement already satisfied: pytz in /usr/local/lib/python3.7/dist-packages (from interchange~=2021.0.4->py2neo) (2022.6)\n",
            "Requirement already satisfied: pyparsing!=3.0.5,>=2.0.2 in /usr/local/lib/python3.7/dist-packages (from packaging->py2neo) (3.0.9)\n",
            "Installing collected packages: pansi, monotonic, interchange, py2neo\n",
            "Successfully installed interchange-2021.0.4 monotonic-1.6 pansi-2020.7.3 py2neo-2021.2.3\n"
          ]
        }
      ]
    },
    {
      "cell_type": "code",
      "source": [
        "https://blog.csdn.net/yueru2wan/article/details/126262514"
      ],
      "metadata": {
        "colab": {
          "base_uri": "https://localhost:8080/",
          "height": 304
        },
        "id": "XM8Ip1IZ3wFY",
        "outputId": "87f385c2-29f1-4552-c6d5-4247dc3c52e8"
      },
      "execution_count": null,
      "outputs": [
        {
          "output_type": "error",
          "ename": "ModuleNotFoundError",
          "evalue": "ignored",
          "traceback": [
            "\u001b[0;31m---------------------------------------------------------------------------\u001b[0m",
            "\u001b[0;31mModuleNotFoundError\u001b[0m                       Traceback (most recent call last)",
            "\u001b[0;32m<ipython-input-31-7898afa8b071>\u001b[0m in \u001b[0;36m<module>\u001b[0;34m\u001b[0m\n\u001b[0;32m----> 1\u001b[0;31m \u001b[0;32mimport\u001b[0m \u001b[0mrdflib\u001b[0m\u001b[0;34m\u001b[0m\u001b[0;34m\u001b[0m\u001b[0m\n\u001b[0m",
            "\u001b[0;31mModuleNotFoundError\u001b[0m: No module named 'rdflib'",
            "",
            "\u001b[0;31m---------------------------------------------------------------------------\u001b[0;32m\nNOTE: If your import is failing due to a missing package, you can\nmanually install dependencies using either !pip or !apt.\n\nTo view examples of installing some common dependencies, click the\n\"Open Examples\" button below.\n\u001b[0;31m---------------------------------------------------------------------------\u001b[0m\n"
          ],
          "errorDetails": {
            "actions": [
              {
                "action": "open_url",
                "actionText": "Open Examples",
                "url": "/notebooks/snippets/importing_libraries.ipynb"
              }
            ]
          }
        }
      ]
    },
    {
      "cell_type": "markdown",
      "source": [
        "End the connection"
      ],
      "metadata": {
        "id": "LuiOlpKi3J-8"
      }
    },
    {
      "cell_type": "code",
      "source": [
        "if conn:\n",
        "  conn.close()"
      ],
      "metadata": {
        "id": "Z1euAfnytcGF"
      },
      "execution_count": null,
      "outputs": []
    },
    {
      "cell_type": "markdown",
      "source": [],
      "metadata": {
        "id": "3Sur5AtLvgoY"
      }
    },
    {
      "cell_type": "markdown",
      "source": [
        "# 5. Reference & Acknowlegement\n",
        "\n",
        "- Johnson, A., Pollard, T., & Mark, R. (2016). MIMIC-III Clinical Database (version 1.4). PhysioNet. https://doi.org/10.13026/C2XW26.\n",
        "\n",
        "- Johnson, A. E. W., Pollard, T. J., Shen, L., Lehman, L. H., Feng, M., Ghassemi, M., Moody, B., Szolovits, P., Celi, L. A., & Mark, R. G. (2016). MIMIC-III, a freely accessible critical care database. Scientific Data, 3, 160035.\n",
        "\n",
        "- Goldberger, A., Amaral, L., Glass, L., Hausdorff, J., Ivanov, P. C., Mark, R., ... & Stanley, H. E. (2000). PhysioBank, PhysioToolkit, and PhysioNet: Components of a new research resource for complex physiologic signals. Circulation [Online]. 101 (23), pp. e215–e220.\n",
        "\n",
        "- 借鉴学姐的 https://github.com/yijunyang/database/blob/main/MIMIC3_Project.ipynb\n",
        "\n",
        "- Thanks to instructors Kei-Hoi Cheung, Ph.D. (Kei.cheung@yale.edu) and Ronald \"George\" Hauser, M.D. (ronald.hauser@yale.edu) for providing this informative course. Also, thanks to our teaching fellow Han Yu (han.yu@yale.edu) for providing advices on this project.\n"
      ],
      "metadata": {
        "id": "xj5lGZIixds7"
      }
    }
  ]
}