{
  "nbformat": 4,
  "nbformat_minor": 0,
  "metadata": {
    "colab": {
      "provenance": [],
      "machine_shape": "hm",
      "include_colab_link": true
    },
    "kernelspec": {
      "name": "python3",
      "display_name": "Python 3"
    },
    "language_info": {
      "name": "python"
    },
    "gpuClass": "standard"
  },
  "cells": [
    {
      "cell_type": "markdown",
      "metadata": {
        "id": "view-in-github",
        "colab_type": "text"
      },
      "source": [
        "<a href=\"https://colab.research.google.com/github/HuangruiChu/MIMIC-III-Breast-Cancer-study/blob/main/MIMIC_Breast_Cancer.ipynb\" target=\"_parent\"><img src=\"https://colab.research.google.com/assets/colab-badge.svg\" alt=\"Open In Colab\"/></a>"
      ]
    },
    {
      "cell_type": "markdown",
      "metadata": {
        "id": "1Q2X6qabVCsB"
      },
      "source": [
        "<div align='center' ><font size='5'>\n",
        "BIS 638 (FA22): Clinical Database Management Systems and Ontologies Final Project\n",
        "</font></div>\n",
        "\n",
        "<div align='center' ><font size='6'>\n",
        "Breast Cancer Analysis based on MIMIC III\n",
        "</font></div>\n",
        "\n",
        "<div align='center' ><font size='4'>\n",
        "Group Name: Infinite Justice\n",
        "\n",
        "Group Member：Huangrui Chu, Yaoqi Li, Laura Sun, Mingrui Wang\n",
        "\n",
        "Yale Univserity School of Public Health\n",
        "</font></div>\n"
      ]
    },
    {
      "cell_type": "markdown",
      "source": [
        "# **1. Introduction**\n",
        "\n",
        "*This project for Yale Course BIS 638: Clinical Database Management Systems and Ontologies Final Project*\n",
        "\n",
        "## 1.1 Background\n",
        "- **请简介一下 breast cancer**\n",
        "\n",
        "<br/>\n",
        "\n",
        "## 1.2 Research Questions\n",
        "- 放上我们的research question **需要后期再arrange 一下**\n",
        "1.\tAge distribution of breast cancer patients (when visiting hospitals, diagnosed, dead) V.S International organization’s recommendation for women's health check and breast cancer high-occurrence age. \n",
        "a.\tTime from treatment to death, find the avg/median （**在考虑在第一部分要不要删了）\n",
        "b.\tAge distribution, survival ratio (survived V.S dead) （**我其实是把死亡率，性别比例等等分开来的）\n",
        "2.\tBreast cancer and its complication \n",
        "3.\tWhat are the attributes that are most correlated to breast cancer? (Utilizing random forest to rank the feature importance based on Gini parameters)\n",
        "4.\t Mortality \n",
        "a.\tVisualize the distribution of the Top 3 variables for all patients in the breast cancer dataset. (Or establish ML (SVM, LR, XGBoost) models to predict in-hospital mortality using the Top 10 essential features if time is enough)\n",
        "b.\tWhat kind of previous and current services for the breast cancer patient? Do the hospital service's transformation and transfer time affect breast cancer patients' mortality? \n",
        "c. Find the correlation between mortality and prescriptions such as drug type, dose, and route. \n",
        "5.\tFind the correlation between mortality and prescriptions such as drug type, dose, and route. \n",
        "<br/>\n",
        "\n",
        "## 1.3 Data Sources\n",
        "\n",
        "The data comes from [MIMIC-III](https://physionet.org/content/mimiciii/1.4/), which is a large, freely-available database comprising deidentified health-related data associated with over forty thousand patients who stayed in critical care units of the Beth Israel Deaconess Medical Center between 2001 and 2012. The database includes information such as demographics, vital sign measurements made at the bedside (~1 data point per hour), laboratory test results, procedures, medications, caregiver notes, imaging reports, and mortality (including post-hospital discharge).\n",
        "\n",
        "MIMIC supports a diverse range of analytic studies spanning epidemiology, clinical decision-rule improvement, and electronic tool development. It is notable for three factors: it is freely available to researchers worldwide; it encompasses a diverse and very large population of ICU patients; and it contains highly granular data, including vital signs, laboratory results, and medications.\n",
        "  \n",
        "  \n",
        "  摘自 abstract 大家可以paraphrase 一下\n",
        "\n",
        "<div  align=\"center\"> \n",
        "<img src=\"https://encrypted-tbn0.gstatic.com/images?q=tbn:ANd9GcTeV6ahtZ6-POUjabTbHU973fbwmNAqleU5ag&usqp=CAU\" width = \"100\" alt=\"img\" />\n",
        "</div>\n",
        "\n",
        "\n",
        "  - To access MIMIC-III, our group have finished [CITI Training for Data or Specimens Only Research](https://www.citiprogram.org/verify/?wf27bcd4b-1305-43f1-a4f9-16549df886fa-51130798). The certifications are shown below.\n",
        "\n",
        "<div  align=\"center\"> \n",
        "\n",
        "<img src=\"https://raw.githubusercontent.com/HuangruiChu/MIMIC-III-Breast-Cancer-study/main/CITI_certification_Huangrui_Chu.png\" width = \"300\" alt=\"img\" />\n",
        "<img src=\"https://raw.githubusercontent.com/HuangruiChu/MIMIC-III-Breast-Cancer-study/main/CITI_certification_Mingrui_Huang.png\" width = \"300\" alt=\"img\" />\n",
        "<img src=\"https://raw.githubusercontent.com/HuangruiChu/MIMIC-III-Breast-Cancer-study/main/CITI_certification_Yaoqi_Li.jpg\" width = \"300\" alt=\"img\" />\n",
        "<img src=\"https://raw.githubusercontent.com/HuangruiChu/MIMIC-III-Breast-Cancer-study/main/CITI_certification_Kuankuan_Sun.png\" width = \"300\" alt=\"img\" />\n",
        "</div>\n",
        "\n",
        "Data files have be downloaded and saved in google drive, and will be loaded into google colab. The data are for research study only and we would not upload them to github.\n",
        "\n",
        "<br/>\n",
        "\n",
        "## 1.4 Methods \n",
        "<br/>\n",
        "<img src=\"https://mark.trademarkia.com/logo-images/epoint-sa/vertabelo-86225942.jpg\" height = \"50\" alt=\"img\" />\n",
        "<img src=\"https://www.sqlite.org/images/sqlite370_banner.gif\" height = \"50\" alt=\"img\" />\n",
        "<img src=\"https://miro.medium.com/max/776/1*Lad06lrjlU9UZgSTHUoyfA.png\" height = \"50\" alt=\"img\" />\n",
        "<img src=\"https://www.ebi.ac.uk/ols/img/OLS_logo_2017.png\" height = \"50\" alt=\"img\" />\n",
        "\n",
        "<br/>\n",
        "\n",
        "#大概也要paraphrase 一下\n",
        "- Use [Vertabelo Database Modeler](https://vertabelo.com/) to design an ER model, then generate a MySQL script.\n",
        "- Use google colab to install SQLite, read in SQL script and create a database with MIMIC III data.\n",
        "- Use [OLS](https://www.ebi.ac.uk/ols/index) as an ontology resource, link the disease terms in Disease Ontology to the patient data representation (icd9_code)\n",
        "\n",
        "\n",
        "\n"
      ],
      "metadata": {
        "id": "5o19E_5Wgn7E"
      }
    },
    {
      "cell_type": "markdown",
      "source": [
        "# **2. Database Construction** \n",
        "\n",
        "## 2.1 Coding Environment Preparation\n",
        "\n",
        "- Mount google drive"
      ],
      "metadata": {
        "id": "Y5Gk_LCOpjJY"
      }
    },
    {
      "cell_type": "code",
      "source": [
        "from google.colab import drive\n",
        "drive.mount('/content/gdrive')"
      ],
      "metadata": {
        "id": "pQZtfZLUppHa",
        "colab": {
          "base_uri": "https://localhost:8080/"
        },
        "outputId": "488c4f9f-4f0a-4b6a-894f-98875f1d2f76"
      },
      "execution_count": null,
      "outputs": [
        {
          "output_type": "stream",
          "name": "stdout",
          "text": [
            "Mounted at /content/gdrive\n"
          ]
        }
      ]
    },
    {
      "cell_type": "markdown",
      "source": [
        "- Require libraries"
      ],
      "metadata": {
        "id": "0XLyvGZmpoZB"
      }
    },
    {
      "cell_type": "code",
      "source": [
        "import pandas as pd\n",
        "import sqlite3\n",
        "from sqlite3 import Error\n",
        "from IPython.display import display\n",
        "import matplotlib.pyplot as plt\n",
        "import numpy as np\n",
        "from scipy import stats"
      ],
      "metadata": {
        "id": "gTfOWwlIptQe"
      },
      "execution_count": null,
      "outputs": []
    },
    {
      "cell_type": "markdown",
      "metadata": {
        "id": "DRGvtHRxcKxs"
      },
      "source": [
        "## 2.2 Data Resource\n",
        "\n",
        "- The data files we will use include:\n",
        "  - `PATIENTS`: Defines each SUBJECT_ID in the database, i.e. defines a single patient\n",
        "  - `ADMISSIONS`: Define a patient’s hospital admission, HADM_ID\n",
        "  - `DIAGNOSES_ICD`: Contains ICD diagnoses for patients, most notably ICD-9 diagnoses\n",
        "  - `D_ICD_DIAGNOSES`: Definition table for ICD diagnoses\n",
        "  - `ICUSTAYS`: Defines each ICUSTAY_ID in the database, i.e. defines a single ICU stay\n",
        "  - `PRESCRIPTIONS`: Contains medication related order entries, i.e. prescriptions"
      ]
    },
    {
      "cell_type": "markdown",
      "source": [
        "- We Create an ER model with Vertabelo for our project\n",
        "\n",
        "**我们自己也要做一个吗？做一个呗！**\n",
        "\n",
        "  - The whole MIMIC Schema and Entity-Relationship (ER) Diagram can be seen via this [link](https://mit-lcp.github.io/mimic-schema-spy/)"
      ],
      "metadata": {
        "id": "SfaKTOQfoT6g"
      }
    },
    {
      "cell_type": "markdown",
      "metadata": {
        "id": "NNd-oeiSdAd8"
      },
      "source": [
        "- Write Python code with embedded SQL to create database, tables and query the tables\n"
      ]
    },
    {
      "cell_type": "code",
      "metadata": {
        "colab": {
          "base_uri": "https://localhost:8080/"
        },
        "id": "cqEB60TWdZek",
        "outputId": "4f990f52-b548-4253-eb0e-5795b84c8cde"
      },
      "source": [
        "\"\"\" create a database connection to a database that resides\n",
        "    in the drive\n",
        "\"\"\"\n",
        "conn = None;\n",
        "\n",
        "#conn = sqlite3.connect(':memory:')\n",
        "#replace the following file path with your own\n",
        "conn = sqlite3.connect('/content/gdrive/MyDrive/BIS638/2022/mimic_labdata.db')\n",
        "\n",
        "cursor = conn.cursor()\n",
        "#Doping tables if already exists.\n",
        "cursor.execute(\"DROP TABLE IF EXISTS Patients\")\n",
        "cursor.execute(\"DROP TABLE IF EXISTS Admissions\")\n",
        "cursor.execute(\"DROP TABLE IF EXISTS Diagnoses_icd\")\n",
        "cursor.execute(\"DROP TABLE IF EXISTS D_icd_diagnoses\")\n",
        "#Creating tables\n",
        "# The meaning of these variables can be seen here https://mit-lcp.github.io/mimic-schema-spy/tables/patients.html\n",
        "sql ='''CREATE TABLE Patients (\n",
        "  row_id int  NOT NULL,\n",
        "  subject_id int  NOT NULL,\n",
        "  gender varchar(5)  NOT NULL,\n",
        "  dob datetime  NOT NULL,\n",
        "  dod datetime  NOT NULL,\n",
        "  dod_hosp datetime  NULL,\n",
        "  dod_ssn datetime  NULL,\n",
        "  expire_flag varchar(5)  NOT NULL,\n",
        "  PRIMARY KEY (subject_id)\n",
        ");'''\n",
        "cursor.execute(sql)\n",
        "sql ='''CREATE TABLE Admissions (\n",
        "  row_id int  NOT NULL,\n",
        "  subject_id int  NOT NULL,\n",
        "  hadm_id int  NOT NULL,\n",
        "  admittime datetime  NOT NULL,\n",
        "  dischtime datetime  NOT NULL,\n",
        "  deathtime datetime   NULL,\n",
        "  admission_type varchar(50)  NOT NULL,\n",
        "  admission_location varchar(50)  NOT NULL,\n",
        "  discharge_location varchar(50)  NOT NULL,\n",
        "  insurance varchar(255)  NOT NULL,\n",
        "  language varchar(10)   NULL,\n",
        "  religion varchar(50)   NULL,\n",
        "  marital_status varchar(50)   NULL,\n",
        "  ethnicity varchar(200)  NOT NULL,\n",
        "  edregtime datetime   NULL,\n",
        "  edouttime datetime   NULL,\n",
        "  diagnosis varchar(300)  NOT NULL,\n",
        "  hospital_expire_flag int  NOT NULL,\n",
        "  has_chartevents_data int  NOT NULL,\n",
        "  PRIMARY KEY (hadm_id),\n",
        "  FOREIGN KEY (subject_id) REFERENCES Patients(subject_id)\n",
        ");'''\n",
        "cursor.execute(sql)\n",
        "#insert code to create D_icd_diagnoses table\n",
        "sql ='''CREATE TABLE D_icd_diagnoses (\n",
        "      row_id int  NOT NULL,\n",
        "      icd9_code varchar(10)\t  NOT NULL,\n",
        "      short_title varchar(50)  NOT NULL,\n",
        "      long_title varchar(255)   NOT NULL,\n",
        "      PRIMARY KEY (icd9_code)\n",
        "  );'''\n",
        "cursor.execute(sql)\n",
        "\n",
        "#insert code to create Diagnoses_icd table\n",
        "sql ='''CREATE TABLE Diagnoses_icd (\n",
        "      row_id int  NOT NULL,\n",
        "      subject_id\tint NOT NULL,\n",
        "      hadm_id\tint NOT NULL,\n",
        "      seq_num\tint NULL,\n",
        "      icd9_code\tvarchar(10) NULL,\n",
        "      FOREIGN KEY (subject_id) REFERENCES patients(subject_id),\n",
        "      FOREIGN KEY (hadm_id) REFERENCES admissions(hadm_id),\n",
        "      FOREIGN KEY (icd9_code) REFERENCES d_icd_diagnoses(icd9_code)\n",
        "  );'''\n",
        "cursor.execute(sql)\n",
        "\n",
        "print(\"Table(s) created successfully........\")\n",
        "conn.commit()\n",
        "\n",
        "#load the data from the MIMIC DEMO URL\n",
        "patients = pd.read_csv('/content/gdrive/MyDrive/BIS638/2022/PATIENTS.csv')\n",
        "admissions = pd.read_csv('/content/gdrive/MyDrive/BIS638/2022/ADMISSIONS.csv')\n",
        "\n",
        "#insert code to load D_ICD_DIAGNOSES.csv and DIAGNOSES_ICD.csv into the corresponding Pandas DataFrame objects\n",
        "d_icd_diagnoses = pd.read_csv('/content/gdrive/MyDrive/BIS638/2022//D_ICD_DIAGNOSES.csv')\n",
        "diagnoses_icd = pd.read_csv('/content/gdrive/MyDrive/BIS638/2022/DIAGNOSES_ICD.csv')\n",
        "\n",
        "\n",
        "\n",
        "#write the data to a sqlite table\n",
        "patients.to_sql('Patients', conn, if_exists='replace', index = False)\n",
        "admissions.to_sql('Admissions', conn, if_exists='replace', index = False)\n",
        "\n",
        "#insert code to write data to D_icd_diagnoses and Diagnoses_icd tables \n",
        "d_icd_diagnoses.to_sql('D_icd_diagnoses', conn, if_exists='replace', index = False)\n",
        "diagnoses_icd.to_sql('Diagnoses_icd', conn, if_exists='replace', index = False)\n",
        "\n",
        "#Commit your changes in the database\n",
        "conn.commit()"
      ],
      "execution_count": null,
      "outputs": [
        {
          "output_type": "stream",
          "name": "stdout",
          "text": [
            "Table(s) created successfully........\n"
          ]
        }
      ]
    },
    {
      "cell_type": "markdown",
      "source": [
        "## 2.3 Breast Cancer Patients\n",
        "\n",
        "We want to extract information that only contains breast cancer patients.\n",
        "\n",
        "First, we need to know what `icd9_code` represents breat cancer.Therefore, we refer to the [National Libaray of Medicine](https://www.ncbi.nlm.nih.gov/books/NBK367629/table/sb201.t4/) to get the ICD-9-CM diagnosis codes for defining breast cancer."
      ],
      "metadata": {
        "id": "fHjUsDzMsRDB"
      }
    },
    {
      "cell_type": "code",
      "source": [
        "get_breast_cancer_titles='''SELECT icd9_code,short_title,long_title FROM D_icd_diagnoses \n",
        "WHERE icd9_code IN (\"2330\", \"1740\", \"1741\", \"1742\", \"1743\", \"1744\", \"1745\", \"1746\", \"1748\", \"1749\");'''\n",
        "Breast_cancer_titles = pd.read_sql(get_breast_cancer_titles, conn)\n",
        "display(Breast_cancer_titles)"
      ],
      "metadata": {
        "colab": {
          "base_uri": "https://localhost:8080/",
          "height": 363
        },
        "id": "nESX2UZrtxBd",
        "outputId": "faaeb77a-674e-49cb-f0d3-eb90616ad402"
      },
      "execution_count": null,
      "outputs": [
        {
          "output_type": "display_data",
          "data": {
            "text/plain": [
              "  ICD9_CODE               SHORT_TITLE  \\\n",
              "0      1740          Malig neo nipple   \n",
              "1      1741    Mal neo breast-central   \n",
              "2      1742   Mal neo breast up-inner   \n",
              "3      1743  Mal neo breast low-inner   \n",
              "4      1744   Mal neo breast up-outer   \n",
              "5      1745  Mal neo breast low-outer   \n",
              "6      1746   Mal neo breast-axillary   \n",
              "7      1748   Malign neopl breast NEC   \n",
              "8      1749   Malign neopl breast NOS   \n",
              "9      2330         Ca in situ breast   \n",
              "\n",
              "                                          LONG_TITLE  \n",
              "0  Malignant neoplasm of nipple and areola of fem...  \n",
              "1  Malignant neoplasm of central portion of femal...  \n",
              "2  Malignant neoplasm of upper-inner quadrant of ...  \n",
              "3  Malignant neoplasm of lower-inner quadrant of ...  \n",
              "4  Malignant neoplasm of upper-outer quadrant of ...  \n",
              "5  Malignant neoplasm of lower-outer quadrant of ...  \n",
              "6  Malignant neoplasm of axillary tail of female ...  \n",
              "7  Malignant neoplasm of other specified sites of...  \n",
              "8  Malignant neoplasm of breast (female), unspeci...  \n",
              "9                        Carcinoma in situ of breast  "
            ],
            "text/html": [
              "\n",
              "  <div id=\"df-e3d38695-af36-4645-9ed4-331ced8e1d45\">\n",
              "    <div class=\"colab-df-container\">\n",
              "      <div>\n",
              "<style scoped>\n",
              "    .dataframe tbody tr th:only-of-type {\n",
              "        vertical-align: middle;\n",
              "    }\n",
              "\n",
              "    .dataframe tbody tr th {\n",
              "        vertical-align: top;\n",
              "    }\n",
              "\n",
              "    .dataframe thead th {\n",
              "        text-align: right;\n",
              "    }\n",
              "</style>\n",
              "<table border=\"1\" class=\"dataframe\">\n",
              "  <thead>\n",
              "    <tr style=\"text-align: right;\">\n",
              "      <th></th>\n",
              "      <th>ICD9_CODE</th>\n",
              "      <th>SHORT_TITLE</th>\n",
              "      <th>LONG_TITLE</th>\n",
              "    </tr>\n",
              "  </thead>\n",
              "  <tbody>\n",
              "    <tr>\n",
              "      <th>0</th>\n",
              "      <td>1740</td>\n",
              "      <td>Malig neo nipple</td>\n",
              "      <td>Malignant neoplasm of nipple and areola of fem...</td>\n",
              "    </tr>\n",
              "    <tr>\n",
              "      <th>1</th>\n",
              "      <td>1741</td>\n",
              "      <td>Mal neo breast-central</td>\n",
              "      <td>Malignant neoplasm of central portion of femal...</td>\n",
              "    </tr>\n",
              "    <tr>\n",
              "      <th>2</th>\n",
              "      <td>1742</td>\n",
              "      <td>Mal neo breast up-inner</td>\n",
              "      <td>Malignant neoplasm of upper-inner quadrant of ...</td>\n",
              "    </tr>\n",
              "    <tr>\n",
              "      <th>3</th>\n",
              "      <td>1743</td>\n",
              "      <td>Mal neo breast low-inner</td>\n",
              "      <td>Malignant neoplasm of lower-inner quadrant of ...</td>\n",
              "    </tr>\n",
              "    <tr>\n",
              "      <th>4</th>\n",
              "      <td>1744</td>\n",
              "      <td>Mal neo breast up-outer</td>\n",
              "      <td>Malignant neoplasm of upper-outer quadrant of ...</td>\n",
              "    </tr>\n",
              "    <tr>\n",
              "      <th>5</th>\n",
              "      <td>1745</td>\n",
              "      <td>Mal neo breast low-outer</td>\n",
              "      <td>Malignant neoplasm of lower-outer quadrant of ...</td>\n",
              "    </tr>\n",
              "    <tr>\n",
              "      <th>6</th>\n",
              "      <td>1746</td>\n",
              "      <td>Mal neo breast-axillary</td>\n",
              "      <td>Malignant neoplasm of axillary tail of female ...</td>\n",
              "    </tr>\n",
              "    <tr>\n",
              "      <th>7</th>\n",
              "      <td>1748</td>\n",
              "      <td>Malign neopl breast NEC</td>\n",
              "      <td>Malignant neoplasm of other specified sites of...</td>\n",
              "    </tr>\n",
              "    <tr>\n",
              "      <th>8</th>\n",
              "      <td>1749</td>\n",
              "      <td>Malign neopl breast NOS</td>\n",
              "      <td>Malignant neoplasm of breast (female), unspeci...</td>\n",
              "    </tr>\n",
              "    <tr>\n",
              "      <th>9</th>\n",
              "      <td>2330</td>\n",
              "      <td>Ca in situ breast</td>\n",
              "      <td>Carcinoma in situ of breast</td>\n",
              "    </tr>\n",
              "  </tbody>\n",
              "</table>\n",
              "</div>\n",
              "      <button class=\"colab-df-convert\" onclick=\"convertToInteractive('df-e3d38695-af36-4645-9ed4-331ced8e1d45')\"\n",
              "              title=\"Convert this dataframe to an interactive table.\"\n",
              "              style=\"display:none;\">\n",
              "        \n",
              "  <svg xmlns=\"http://www.w3.org/2000/svg\" height=\"24px\"viewBox=\"0 0 24 24\"\n",
              "       width=\"24px\">\n",
              "    <path d=\"M0 0h24v24H0V0z\" fill=\"none\"/>\n",
              "    <path d=\"M18.56 5.44l.94 2.06.94-2.06 2.06-.94-2.06-.94-.94-2.06-.94 2.06-2.06.94zm-11 1L8.5 8.5l.94-2.06 2.06-.94-2.06-.94L8.5 2.5l-.94 2.06-2.06.94zm10 10l.94 2.06.94-2.06 2.06-.94-2.06-.94-.94-2.06-.94 2.06-2.06.94z\"/><path d=\"M17.41 7.96l-1.37-1.37c-.4-.4-.92-.59-1.43-.59-.52 0-1.04.2-1.43.59L10.3 9.45l-7.72 7.72c-.78.78-.78 2.05 0 2.83L4 21.41c.39.39.9.59 1.41.59.51 0 1.02-.2 1.41-.59l7.78-7.78 2.81-2.81c.8-.78.8-2.07 0-2.86zM5.41 20L4 18.59l7.72-7.72 1.47 1.35L5.41 20z\"/>\n",
              "  </svg>\n",
              "      </button>\n",
              "      \n",
              "  <style>\n",
              "    .colab-df-container {\n",
              "      display:flex;\n",
              "      flex-wrap:wrap;\n",
              "      gap: 12px;\n",
              "    }\n",
              "\n",
              "    .colab-df-convert {\n",
              "      background-color: #E8F0FE;\n",
              "      border: none;\n",
              "      border-radius: 50%;\n",
              "      cursor: pointer;\n",
              "      display: none;\n",
              "      fill: #1967D2;\n",
              "      height: 32px;\n",
              "      padding: 0 0 0 0;\n",
              "      width: 32px;\n",
              "    }\n",
              "\n",
              "    .colab-df-convert:hover {\n",
              "      background-color: #E2EBFA;\n",
              "      box-shadow: 0px 1px 2px rgba(60, 64, 67, 0.3), 0px 1px 3px 1px rgba(60, 64, 67, 0.15);\n",
              "      fill: #174EA6;\n",
              "    }\n",
              "\n",
              "    [theme=dark] .colab-df-convert {\n",
              "      background-color: #3B4455;\n",
              "      fill: #D2E3FC;\n",
              "    }\n",
              "\n",
              "    [theme=dark] .colab-df-convert:hover {\n",
              "      background-color: #434B5C;\n",
              "      box-shadow: 0px 1px 3px 1px rgba(0, 0, 0, 0.15);\n",
              "      filter: drop-shadow(0px 1px 2px rgba(0, 0, 0, 0.3));\n",
              "      fill: #FFFFFF;\n",
              "    }\n",
              "  </style>\n",
              "\n",
              "      <script>\n",
              "        const buttonEl =\n",
              "          document.querySelector('#df-e3d38695-af36-4645-9ed4-331ced8e1d45 button.colab-df-convert');\n",
              "        buttonEl.style.display =\n",
              "          google.colab.kernel.accessAllowed ? 'block' : 'none';\n",
              "\n",
              "        async function convertToInteractive(key) {\n",
              "          const element = document.querySelector('#df-e3d38695-af36-4645-9ed4-331ced8e1d45');\n",
              "          const dataTable =\n",
              "            await google.colab.kernel.invokeFunction('convertToInteractive',\n",
              "                                                     [key], {});\n",
              "          if (!dataTable) return;\n",
              "\n",
              "          const docLinkHtml = 'Like what you see? Visit the ' +\n",
              "            '<a target=\"_blank\" href=https://colab.research.google.com/notebooks/data_table.ipynb>data table notebook</a>'\n",
              "            + ' to learn more about interactive tables.';\n",
              "          element.innerHTML = '';\n",
              "          dataTable['output_type'] = 'display_data';\n",
              "          await google.colab.output.renderOutput(dataTable, element);\n",
              "          const docLink = document.createElement('div');\n",
              "          docLink.innerHTML = docLinkHtml;\n",
              "          element.appendChild(docLink);\n",
              "        }\n",
              "      </script>\n",
              "    </div>\n",
              "  </div>\n",
              "  "
            ]
          },
          "metadata": {}
        }
      ]
    },
    {
      "cell_type": "markdown",
      "source": [
        "Extract the breast cancer patients with all the relative information"
      ],
      "metadata": {
        "id": "THGrxbdJuY-u"
      }
    },
    {
      "cell_type": "code",
      "source": [
        "cursor.execute(\"DROP TABLE IF EXISTS Breast_cancer\")\n",
        "extract_breast_cancer_patient='''\n",
        "CREATE TABLE IF NOT EXISTS Breast_cancer AS\n",
        "  SELECT p.*,b.short_title, d.icd9_code\n",
        "  FROM Patients p \n",
        "  inner join Diagnoses_icd d on d.subject_id=p.subject_id  \n",
        "  inner join D_icd_diagnoses b on d.icd9_code=b.icd9_code \n",
        "  WHERE b.icd9_code IN (\"2330\", \"1740\", \"1741\", \"1742\", \"1743\", \"1744\", \"1745\", \"1746\", \"1748\", \"1749\")\n",
        "  ORDER BY p.subject_id\n",
        "  '''\n",
        "cursor.execute(extract_breast_cancer_patient)"
      ],
      "metadata": {
        "colab": {
          "base_uri": "https://localhost:8080/"
        },
        "id": "K8hoNOBbrm04",
        "outputId": "3a0ba89e-7fa6-4e6c-9cf5-7a19535fe1a1"
      },
      "execution_count": null,
      "outputs": [
        {
          "output_type": "execute_result",
          "data": {
            "text/plain": [
              "<sqlite3.Cursor at 0x7f73452aeb20>"
            ]
          },
          "metadata": {},
          "execution_count": 6
        }
      ]
    },
    {
      "cell_type": "markdown",
      "source": [
        "we notice that some date seem to be in the future. We think of it as the deidentification. Therefore, we can still make use of the data to get the age of the patientes at each time spot."
      ],
      "metadata": {
        "id": "b_KWMURA-HlM"
      }
    },
    {
      "cell_type": "code",
      "source": [
        "sql='''SELECT COUNT(DISTINCT b.subject_id) AS breast_cancer_subject, COUNT(DISTINCT a.hadm_id) AS breast_cancer_admission \n",
        "  FROM Breast_cancer b\n",
        "  inner join Admissions a on a.subject_id=b.subject_id  \n",
        "  ;'''\n",
        "breast_cancer_countdata = pd.read_sql(sql, conn)\n",
        "display(breast_cancer_countdata)"
      ],
      "metadata": {
        "colab": {
          "base_uri": "https://localhost:8080/",
          "height": 81
        },
        "id": "YaFd6n0T9hC-",
        "outputId": "80426031-2ae4-48f0-aecd-a0c95e3c33dc"
      },
      "execution_count": null,
      "outputs": [
        {
          "output_type": "display_data",
          "data": {
            "text/plain": [
              "   breast_cancer_subject  breast_cancer_admission\n",
              "0                    144                      200"
            ],
            "text/html": [
              "\n",
              "  <div id=\"df-3c60aa47-410e-4a74-9209-846e7aacff85\">\n",
              "    <div class=\"colab-df-container\">\n",
              "      <div>\n",
              "<style scoped>\n",
              "    .dataframe tbody tr th:only-of-type {\n",
              "        vertical-align: middle;\n",
              "    }\n",
              "\n",
              "    .dataframe tbody tr th {\n",
              "        vertical-align: top;\n",
              "    }\n",
              "\n",
              "    .dataframe thead th {\n",
              "        text-align: right;\n",
              "    }\n",
              "</style>\n",
              "<table border=\"1\" class=\"dataframe\">\n",
              "  <thead>\n",
              "    <tr style=\"text-align: right;\">\n",
              "      <th></th>\n",
              "      <th>breast_cancer_subject</th>\n",
              "      <th>breast_cancer_admission</th>\n",
              "    </tr>\n",
              "  </thead>\n",
              "  <tbody>\n",
              "    <tr>\n",
              "      <th>0</th>\n",
              "      <td>144</td>\n",
              "      <td>200</td>\n",
              "    </tr>\n",
              "  </tbody>\n",
              "</table>\n",
              "</div>\n",
              "      <button class=\"colab-df-convert\" onclick=\"convertToInteractive('df-3c60aa47-410e-4a74-9209-846e7aacff85')\"\n",
              "              title=\"Convert this dataframe to an interactive table.\"\n",
              "              style=\"display:none;\">\n",
              "        \n",
              "  <svg xmlns=\"http://www.w3.org/2000/svg\" height=\"24px\"viewBox=\"0 0 24 24\"\n",
              "       width=\"24px\">\n",
              "    <path d=\"M0 0h24v24H0V0z\" fill=\"none\"/>\n",
              "    <path d=\"M18.56 5.44l.94 2.06.94-2.06 2.06-.94-2.06-.94-.94-2.06-.94 2.06-2.06.94zm-11 1L8.5 8.5l.94-2.06 2.06-.94-2.06-.94L8.5 2.5l-.94 2.06-2.06.94zm10 10l.94 2.06.94-2.06 2.06-.94-2.06-.94-.94-2.06-.94 2.06-2.06.94z\"/><path d=\"M17.41 7.96l-1.37-1.37c-.4-.4-.92-.59-1.43-.59-.52 0-1.04.2-1.43.59L10.3 9.45l-7.72 7.72c-.78.78-.78 2.05 0 2.83L4 21.41c.39.39.9.59 1.41.59.51 0 1.02-.2 1.41-.59l7.78-7.78 2.81-2.81c.8-.78.8-2.07 0-2.86zM5.41 20L4 18.59l7.72-7.72 1.47 1.35L5.41 20z\"/>\n",
              "  </svg>\n",
              "      </button>\n",
              "      \n",
              "  <style>\n",
              "    .colab-df-container {\n",
              "      display:flex;\n",
              "      flex-wrap:wrap;\n",
              "      gap: 12px;\n",
              "    }\n",
              "\n",
              "    .colab-df-convert {\n",
              "      background-color: #E8F0FE;\n",
              "      border: none;\n",
              "      border-radius: 50%;\n",
              "      cursor: pointer;\n",
              "      display: none;\n",
              "      fill: #1967D2;\n",
              "      height: 32px;\n",
              "      padding: 0 0 0 0;\n",
              "      width: 32px;\n",
              "    }\n",
              "\n",
              "    .colab-df-convert:hover {\n",
              "      background-color: #E2EBFA;\n",
              "      box-shadow: 0px 1px 2px rgba(60, 64, 67, 0.3), 0px 1px 3px 1px rgba(60, 64, 67, 0.15);\n",
              "      fill: #174EA6;\n",
              "    }\n",
              "\n",
              "    [theme=dark] .colab-df-convert {\n",
              "      background-color: #3B4455;\n",
              "      fill: #D2E3FC;\n",
              "    }\n",
              "\n",
              "    [theme=dark] .colab-df-convert:hover {\n",
              "      background-color: #434B5C;\n",
              "      box-shadow: 0px 1px 3px 1px rgba(0, 0, 0, 0.15);\n",
              "      filter: drop-shadow(0px 1px 2px rgba(0, 0, 0, 0.3));\n",
              "      fill: #FFFFFF;\n",
              "    }\n",
              "  </style>\n",
              "\n",
              "      <script>\n",
              "        const buttonEl =\n",
              "          document.querySelector('#df-3c60aa47-410e-4a74-9209-846e7aacff85 button.colab-df-convert');\n",
              "        buttonEl.style.display =\n",
              "          google.colab.kernel.accessAllowed ? 'block' : 'none';\n",
              "\n",
              "        async function convertToInteractive(key) {\n",
              "          const element = document.querySelector('#df-3c60aa47-410e-4a74-9209-846e7aacff85');\n",
              "          const dataTable =\n",
              "            await google.colab.kernel.invokeFunction('convertToInteractive',\n",
              "                                                     [key], {});\n",
              "          if (!dataTable) return;\n",
              "\n",
              "          const docLinkHtml = 'Like what you see? Visit the ' +\n",
              "            '<a target=\"_blank\" href=https://colab.research.google.com/notebooks/data_table.ipynb>data table notebook</a>'\n",
              "            + ' to learn more about interactive tables.';\n",
              "          element.innerHTML = '';\n",
              "          dataTable['output_type'] = 'display_data';\n",
              "          await google.colab.output.renderOutput(dataTable, element);\n",
              "          const docLink = document.createElement('div');\n",
              "          docLink.innerHTML = docLinkHtml;\n",
              "          element.appendChild(docLink);\n",
              "        }\n",
              "      </script>\n",
              "    </div>\n",
              "  </div>\n",
              "  "
            ]
          },
          "metadata": {}
        }
      ]
    },
    {
      "cell_type": "markdown",
      "source": [
        "There are in total 144 patients in MIMIC3 database who had breast cancer with total admission of 200."
      ],
      "metadata": {
        "id": "Me9vC2aMvtdk"
      }
    },
    {
      "cell_type": "markdown",
      "source": [
        "# 3. Exploratory Data Analysis\n",
        "\n"
      ],
      "metadata": {
        "id": "ttkDKWyvxD5F"
      }
    },
    {
      "cell_type": "markdown",
      "source": [
        "## 3.1 Gender propotion\n",
        "\n",
        "We know that male rarely get breast cancers. Here we first want to have a brief idea of the gender propotion of breast cancer in MIMIC III."
      ],
      "metadata": {
        "id": "dVuxyT8bqCzl"
      }
    },
    {
      "cell_type": "code",
      "source": [
        "sql_statement ='''SELECT distinct subject_id,gender\n",
        "         FROM Breast_cancer'''\n",
        "cursor.execute(sql_statement)\n",
        "dbresult = cursor.fetchall()\n",
        "gender_indicator = []\n",
        "for r in dbresult:\n",
        "  #get the gender information\n",
        "  gender_indicator.append(r[1])\n",
        "\n",
        "male = gender_indicator.count(\"M\")\n",
        "female = gender_indicator.count(\"F\")\n",
        "data=[male, female]\n",
        "labels = ['Male', 'Female']\n",
        "colors=[\"#FB5734\", \"#3FF5ED\"]\n",
        "name='Gender Ratio of Breast Cancer Patients'\n",
        "print(\"With in the data we have {} male patient and {} female patient\".format(male,female))\n",
        "def plot_pie(data,labels,colors,name):\n",
        "  plt.figure(dpi=150)\n",
        "  plt.pie(data, labels = labels, colors=colors, autopct = '%1.2f%%')\n",
        "  plt.title(name)\n",
        "  plt.show()\n",
        "plot_pie(data,labels,colors,name)\n"
      ],
      "metadata": {
        "colab": {
          "base_uri": "https://localhost:8080/",
          "height": 548
        },
        "id": "awEsrukepCpr",
        "outputId": "90620309-a9b8-44ad-eb26-291f406e77a2"
      },
      "execution_count": null,
      "outputs": [
        {
          "output_type": "stream",
          "name": "stdout",
          "text": [
            "With in the data we have 1 male patient and 143 female patient\n"
          ]
        },
        {
          "output_type": "display_data",
          "data": {
            "text/plain": [
              "<Figure size 900x600 with 1 Axes>"
            ],
            "image/png": "[encoded data removed]"
          },
          "metadata": {}
        }
      ]
    },
    {
      "cell_type": "markdown",
      "source": [
        "We notice that there is only 1 male out of 144 patients that is diagnosed with breast cancer. **与世界卫生组织的报告的数据相对比**"
      ],
      "metadata": {
        "id": "bVpfwPCDqcLB"
      }
    },
    {
      "cell_type": "markdown",
      "source": [
        "## 3.2 Age distribution \n",
        "\n",
        "We want to know the age distribution of breast cancer patients (when visiting hospitals, diagnosed, dead) V.S International organization’s recommendation for women health check and breast cancer high-occurrence age.\n"
      ],
      "metadata": {
        "id": "e7s0pold5KkE"
      }
    },
    {
      "cell_type": "code",
      "source": [
        "get_death_age='''SELECT distinct subject_id, (dod-dob) as expire_age\n",
        "FROM Breast_cancer\n",
        "where expire_flag = 1'''\n",
        "breast_cancer_death_agedata = pd.read_sql(get_death_age, conn)\n",
        "get_diagnosis_age='''SELECT distinct b.subject_id, (a.admittime-b.dob) as diagnosis_age, JULIANDAY(a.dischtime) - JULIANDAY(a.admittime) as in_hospital_days\n",
        "FROM Breast_cancer b\n",
        "inner join Admissions a on a.subject_id == b.subject_id '''\n",
        "breast_cancer_diagnosis_agedata = pd.read_sql(get_diagnosis_age, conn)\n",
        "display(breast_cancer_diagnosis_agedata)"
      ],
      "metadata": {
        "id": "oCcJB6j25YVc",
        "colab": {
          "base_uri": "https://localhost:8080/",
          "height": 424
        },
        "outputId": "f2dca8fa-ccf5-4448-deed-3c9990e30b14"
      },
      "execution_count": null,
      "outputs": [
        {
          "output_type": "display_data",
          "data": {
            "text/plain": [
              "     SUBJECT_ID  diagnosis_age  in_hospital_days\n",
              "0          2297             49          9.718056\n",
              "1          2693             42          3.024306\n",
              "2          2984             56         14.736111\n",
              "3          2984             59          5.186806\n",
              "4          2984             60          5.465278\n",
              "..          ...            ...               ...\n",
              "195       96453             56          1.868750\n",
              "196       99268             59          4.686806\n",
              "197       99268             61          7.421528\n",
              "198       99268             61         10.815278\n",
              "199       99747             80          6.764583\n",
              "\n",
              "[200 rows x 3 columns]"
            ],
            "text/html": [
              "\n",
              "  <div id=\"df-cb67d85a-2b66-43c9-9337-824e1fe01857\">\n",
              "    <div class=\"colab-df-container\">\n",
              "      <div>\n",
              "<style scoped>\n",
              "    .dataframe tbody tr th:only-of-type {\n",
              "        vertical-align: middle;\n",
              "    }\n",
              "\n",
              "    .dataframe tbody tr th {\n",
              "        vertical-align: top;\n",
              "    }\n",
              "\n",
              "    .dataframe thead th {\n",
              "        text-align: right;\n",
              "    }\n",
              "</style>\n",
              "<table border=\"1\" class=\"dataframe\">\n",
              "  <thead>\n",
              "    <tr style=\"text-align: right;\">\n",
              "      <th></th>\n",
              "      <th>SUBJECT_ID</th>\n",
              "      <th>diagnosis_age</th>\n",
              "      <th>in_hospital_days</th>\n",
              "    </tr>\n",
              "  </thead>\n",
              "  <tbody>\n",
              "    <tr>\n",
              "      <th>0</th>\n",
              "      <td>2297</td>\n",
              "      <td>49</td>\n",
              "      <td>9.718056</td>\n",
              "    </tr>\n",
              "    <tr>\n",
              "      <th>1</th>\n",
              "      <td>2693</td>\n",
              "      <td>42</td>\n",
              "      <td>3.024306</td>\n",
              "    </tr>\n",
              "    <tr>\n",
              "      <th>2</th>\n",
              "      <td>2984</td>\n",
              "      <td>56</td>\n",
              "      <td>14.736111</td>\n",
              "    </tr>\n",
              "    <tr>\n",
              "      <th>3</th>\n",
              "      <td>2984</td>\n",
              "      <td>59</td>\n",
              "      <td>5.186806</td>\n",
              "    </tr>\n",
              "    <tr>\n",
              "      <th>4</th>\n",
              "      <td>2984</td>\n",
              "      <td>60</td>\n",
              "      <td>5.465278</td>\n",
              "    </tr>\n",
              "    <tr>\n",
              "      <th>...</th>\n",
              "      <td>...</td>\n",
              "      <td>...</td>\n",
              "      <td>...</td>\n",
              "    </tr>\n",
              "    <tr>\n",
              "      <th>195</th>\n",
              "      <td>96453</td>\n",
              "      <td>56</td>\n",
              "      <td>1.868750</td>\n",
              "    </tr>\n",
              "    <tr>\n",
              "      <th>196</th>\n",
              "      <td>99268</td>\n",
              "      <td>59</td>\n",
              "      <td>4.686806</td>\n",
              "    </tr>\n",
              "    <tr>\n",
              "      <th>197</th>\n",
              "      <td>99268</td>\n",
              "      <td>61</td>\n",
              "      <td>7.421528</td>\n",
              "    </tr>\n",
              "    <tr>\n",
              "      <th>198</th>\n",
              "      <td>99268</td>\n",
              "      <td>61</td>\n",
              "      <td>10.815278</td>\n",
              "    </tr>\n",
              "    <tr>\n",
              "      <th>199</th>\n",
              "      <td>99747</td>\n",
              "      <td>80</td>\n",
              "      <td>6.764583</td>\n",
              "    </tr>\n",
              "  </tbody>\n",
              "</table>\n",
              "<p>200 rows × 3 columns</p>\n",
              "</div>\n",
              "      <button class=\"colab-df-convert\" onclick=\"convertToInteractive('df-cb67d85a-2b66-43c9-9337-824e1fe01857')\"\n",
              "              title=\"Convert this dataframe to an interactive table.\"\n",
              "              style=\"display:none;\">\n",
              "        \n",
              "  <svg xmlns=\"http://www.w3.org/2000/svg\" height=\"24px\"viewBox=\"0 0 24 24\"\n",
              "       width=\"24px\">\n",
              "    <path d=\"M0 0h24v24H0V0z\" fill=\"none\"/>\n",
              "    <path d=\"M18.56 5.44l.94 2.06.94-2.06 2.06-.94-2.06-.94-.94-2.06-.94 2.06-2.06.94zm-11 1L8.5 8.5l.94-2.06 2.06-.94-2.06-.94L8.5 2.5l-.94 2.06-2.06.94zm10 10l.94 2.06.94-2.06 2.06-.94-2.06-.94-.94-2.06-.94 2.06-2.06.94z\"/><path d=\"M17.41 7.96l-1.37-1.37c-.4-.4-.92-.59-1.43-.59-.52 0-1.04.2-1.43.59L10.3 9.45l-7.72 7.72c-.78.78-.78 2.05 0 2.83L4 21.41c.39.39.9.59 1.41.59.51 0 1.02-.2 1.41-.59l7.78-7.78 2.81-2.81c.8-.78.8-2.07 0-2.86zM5.41 20L4 18.59l7.72-7.72 1.47 1.35L5.41 20z\"/>\n",
              "  </svg>\n",
              "      </button>\n",
              "      \n",
              "  <style>\n",
              "    .colab-df-container {\n",
              "      display:flex;\n",
              "      flex-wrap:wrap;\n",
              "      gap: 12px;\n",
              "    }\n",
              "\n",
              "    .colab-df-convert {\n",
              "      background-color: #E8F0FE;\n",
              "      border: none;\n",
              "      border-radius: 50%;\n",
              "      cursor: pointer;\n",
              "      display: none;\n",
              "      fill: #1967D2;\n",
              "      height: 32px;\n",
              "      padding: 0 0 0 0;\n",
              "      width: 32px;\n",
              "    }\n",
              "\n",
              "    .colab-df-convert:hover {\n",
              "      background-color: #E2EBFA;\n",
              "      box-shadow: 0px 1px 2px rgba(60, 64, 67, 0.3), 0px 1px 3px 1px rgba(60, 64, 67, 0.15);\n",
              "      fill: #174EA6;\n",
              "    }\n",
              "\n",
              "    [theme=dark] .colab-df-convert {\n",
              "      background-color: #3B4455;\n",
              "      fill: #D2E3FC;\n",
              "    }\n",
              "\n",
              "    [theme=dark] .colab-df-convert:hover {\n",
              "      background-color: #434B5C;\n",
              "      box-shadow: 0px 1px 3px 1px rgba(0, 0, 0, 0.15);\n",
              "      filter: drop-shadow(0px 1px 2px rgba(0, 0, 0, 0.3));\n",
              "      fill: #FFFFFF;\n",
              "    }\n",
              "  </style>\n",
              "\n",
              "      <script>\n",
              "        const buttonEl =\n",
              "          document.querySelector('#df-cb67d85a-2b66-43c9-9337-824e1fe01857 button.colab-df-convert');\n",
              "        buttonEl.style.display =\n",
              "          google.colab.kernel.accessAllowed ? 'block' : 'none';\n",
              "\n",
              "        async function convertToInteractive(key) {\n",
              "          const element = document.querySelector('#df-cb67d85a-2b66-43c9-9337-824e1fe01857');\n",
              "          const dataTable =\n",
              "            await google.colab.kernel.invokeFunction('convertToInteractive',\n",
              "                                                     [key], {});\n",
              "          if (!dataTable) return;\n",
              "\n",
              "          const docLinkHtml = 'Like what you see? Visit the ' +\n",
              "            '<a target=\"_blank\" href=https://colab.research.google.com/notebooks/data_table.ipynb>data table notebook</a>'\n",
              "            + ' to learn more about interactive tables.';\n",
              "          element.innerHTML = '';\n",
              "          dataTable['output_type'] = 'display_data';\n",
              "          await google.colab.output.renderOutput(dataTable, element);\n",
              "          const docLink = document.createElement('div');\n",
              "          docLink.innerHTML = docLinkHtml;\n",
              "          element.appendChild(docLink);\n",
              "        }\n",
              "      </script>\n",
              "    </div>\n",
              "  </div>\n",
              "  "
            ]
          },
          "metadata": {}
        }
      ]
    },
    {
      "cell_type": "markdown",
      "source": [
        "We notice from below that the largest age of the peolpe who died is 300 which is curently impossible."
      ],
      "metadata": {
        "id": "CKxFn2SDHX6x"
      }
    },
    {
      "cell_type": "code",
      "source": [
        "breast_cancer_diagnosis_agedata[\"diagnosis_age\"].describe()"
      ],
      "metadata": {
        "colab": {
          "base_uri": "https://localhost:8080/"
        },
        "id": "Ua6RQLKvMHRV",
        "outputId": "978615b9-9e15-4a46-d806-4fbfc327df75"
      },
      "execution_count": null,
      "outputs": [
        {
          "output_type": "execute_result",
          "data": {
            "text/plain": [
              "count    200.000000\n",
              "mean      61.965000\n",
              "std       32.258749\n",
              "min       25.000000\n",
              "25%       48.000000\n",
              "50%       56.000000\n",
              "75%       67.000000\n",
              "max      300.000000\n",
              "Name: diagnosis_age, dtype: float64"
            ]
          },
          "metadata": {},
          "execution_count": 9
        }
      ]
    },
    {
      "cell_type": "code",
      "source": [
        "breast_cancer_diagnosis_agedata[\"in_hospital_days\"].describe()"
      ],
      "metadata": {
        "colab": {
          "base_uri": "https://localhost:8080/"
        },
        "id": "tw7LOUdrL-Ez",
        "outputId": "aabef3d7-2666-4df0-cbdc-686a0586bf44"
      },
      "execution_count": null,
      "outputs": [
        {
          "output_type": "execute_result",
          "data": {
            "text/plain": [
              "count    200.000000\n",
              "mean       8.759226\n",
              "std        9.196254\n",
              "min        0.138889\n",
              "25%        4.151736\n",
              "50%        5.821528\n",
              "75%       10.285937\n",
              "max       85.744444\n",
              "Name: in_hospital_days, dtype: float64"
            ]
          },
          "metadata": {},
          "execution_count": 10
        }
      ]
    },
    {
      "cell_type": "code",
      "source": [
        "breast_cancer_death_agedata['expire_age'].describe()"
      ],
      "metadata": {
        "colab": {
          "base_uri": "https://localhost:8080/"
        },
        "id": "kt2BwjemHBXw",
        "outputId": "4791aecb-675c-435c-fd9c-96b1d7162224"
      },
      "execution_count": null,
      "outputs": [
        {
          "output_type": "execute_result",
          "data": {
            "text/plain": [
              "count     68.000000\n",
              "mean      67.823529\n",
              "std       42.948404\n",
              "min       25.000000\n",
              "25%       51.000000\n",
              "50%       59.500000\n",
              "75%       70.500000\n",
              "max      301.000000\n",
              "Name: expire_age, dtype: float64"
            ]
          },
          "metadata": {},
          "execution_count": 11
        }
      ]
    },
    {
      "cell_type": "markdown",
      "source": [
        "Therefore, we filter out the data with the age less than 100 and then plot the histogram."
      ],
      "metadata": {
        "id": "3vUu8ElNHrDK"
      }
    },
    {
      "cell_type": "code",
      "source": [
        "def plot_histogram(data,name):\n",
        "  plt.figure(dpi=100)\n",
        "  plt.hist(data, bins = 12, color = 'steelblue', edgecolor = 'k')\n",
        "  plt.title(name)\n",
        "  plt.show()\n"
      ],
      "metadata": {
        "id": "ZLc24QZRw-qL"
      },
      "execution_count": null,
      "outputs": []
    },
    {
      "cell_type": "code",
      "source": [
        "death_ages=breast_cancer_death_agedata['expire_age']\n",
        "death_ages=death_ages[death_ages<100]\n",
        "data=death_ages\n",
        "name='Age of death distribution for Breast Cancer Patients'\n",
        "plot_histogram(data,name)"
      ],
      "metadata": {
        "colab": {
          "base_uri": "https://localhost:8080/",
          "height": 385
        },
        "id": "i1T7-O_PG5Tc",
        "outputId": "fda6f077-57ab-42c9-9175-963a283ce624"
      },
      "execution_count": null,
      "outputs": [
        {
          "output_type": "display_data",
          "data": {
            "text/plain": [
              "<Figure size 600x400 with 1 Axes>"
            ],
            "image/png": "[encoded data removed]"
          },
          "metadata": {
            "needs_background": "light"
          }
        }
      ]
    },
    {
      "cell_type": "markdown",
      "source": [
        "we can see that most women who is diagnosed with breast cancer are in age (????)\n",
        "\n",
        "**与世界卫生组织的报告的数据相对比** "
      ],
      "metadata": {
        "id": "yhsSpjVLoxCw"
      }
    },
    {
      "cell_type": "code",
      "source": [
        "diagnosis_ages=breast_cancer_diagnosis_agedata['diagnosis_age']\n",
        "diagnosis_ages=diagnosis_ages[diagnosis_ages<100]\n",
        "data=diagnosis_ages\n",
        "name='Age of diagnosis distribution for Breast Cancer Patients'\n",
        "plot_histogram(data,name)"
      ],
      "metadata": {
        "colab": {
          "base_uri": "https://localhost:8080/",
          "height": 385
        },
        "id": "C8-AyLBMMzc9",
        "outputId": "91ed16a7-40cf-419c-fe59-9f234a28d0b1"
      },
      "execution_count": null,
      "outputs": [
        {
          "output_type": "display_data",
          "data": {
            "text/plain": [
              "<Figure size 600x400 with 1 Axes>"
            ],
            "image/png": "[encoded data removed]"
          },
          "metadata": {
            "needs_background": "light"
          }
        }
      ]
    },
    {
      "cell_type": "markdown",
      "source": [
        "we can see that most women who are diagnosed with breast cancer are in age (?????) **与世界卫生组织的报告的数据相对比**"
      ],
      "metadata": {
        "id": "gjaWU_BvtGvC"
      }
    },
    {
      "cell_type": "markdown",
      "source": [
        "Then, we want to know the average age of those who died. "
      ],
      "metadata": {
        "id": "NyANS5o-PMTl"
      }
    },
    {
      "cell_type": "code",
      "source": [
        "np.average(death_ages)"
      ],
      "metadata": {
        "colab": {
          "base_uri": "https://localhost:8080/"
        },
        "id": "zyPYXLO5PNla",
        "outputId": "121bb444-7a60-494d-f7dd-42df5bca33f9"
      },
      "execution_count": null,
      "outputs": [
        {
          "output_type": "execute_result",
          "data": {
            "text/plain": [
              "60.75757575757576"
            ]
          },
          "metadata": {},
          "execution_count": 37
        }
      ]
    },
    {
      "cell_type": "markdown",
      "source": [
        "**与世界卫生组织的报告的数据相对比, 为啥要看平均死亡年龄来着？** "
      ],
      "metadata": {
        "id": "9H6Ja1BqtZDu"
      }
    },
    {
      "cell_type": "markdown",
      "source": [
        "## 3.2 Time of treatment \n",
        "\n",
        "We want to know the time from treatment to death, find the avg/median"
      ],
      "metadata": {
        "id": "4jvCOkYkvROk"
      }
    },
    {
      "cell_type": "markdown",
      "source": [
        "Time of treatment\n",
        "**这里只是住院时间 可能死了 也可能活着出去了  所以我其实是没有明白为啥一定要做住院到死亡时间 原本提出这个思路只是因为教授说可以 研究住ICU时间和 是否死亡 这个能不能做regression model**"
      ],
      "metadata": {
        "id": "hiMAU8n35eo4"
      }
    },
    {
      "cell_type": "code",
      "source": [
        "plt.figure(dpi=100)\n",
        "data=breast_cancer_diagnosis_agedata['in_hospital_days']\n",
        "name='Time of Treatment for Breast Cancer Patients'\n",
        "plot_histogram(data,name)"
      ],
      "metadata": {
        "colab": {
          "base_uri": "https://localhost:8080/",
          "height": 402
        },
        "id": "hEvmt9xVOKXd",
        "outputId": "baf6123a-f728-4aac-ad93-72bb25f4cdd0"
      },
      "execution_count": null,
      "outputs": [
        {
          "output_type": "display_data",
          "data": {
            "text/plain": [
              "<Figure size 600x400 with 0 Axes>"
            ]
          },
          "metadata": {}
        },
        {
          "output_type": "display_data",
          "data": {
            "text/plain": [
              "<Figure size 600x400 with 1 Axes>"
            ],
            "image/png": "[encoded data removed]"
          },
          "metadata": {
            "needs_background": "light"
          }
        }
      ]
    },
    {
      "cell_type": "markdown",
      "source": [
        "## 3.3 Survival ratio (survived V.S dead)\n",
        "\n",
        "We want to learn about the survival ratio (survived V.S dead) of breast cancer."
      ],
      "metadata": {
        "id": "m76DwGvg5JLo"
      }
    },
    {
      "cell_type": "code",
      "source": [
        "sql_statement = \"SELECT expire_flag FROM Breast_cancer\"\n",
        "cursor.execute(sql_statement)\n",
        "dbresult = cursor.fetchall()\n",
        "death_indicator = []\n",
        "for r in dbresult:\n",
        "  death_indicator.append(r[0])\n",
        "\n",
        "# print(death_indicator)\n",
        "survive = death_indicator.count(0)\n",
        "death = death_indicator.count(1)\n",
        "data=[survive, death]\n",
        "labels = ['survive', 'dead']\n",
        "colors=[\"#FB5734\", \"#3FF5ED\"]\n",
        "name='Survival Ratio of Breast Cancer Patients'\n",
        "def plot_pie(data,labels,colors,name):\n",
        "  plt.figure(dpi=150)\n",
        "  plt.pie(data, labels = labels, colors=colors, autopct = '%1.2f%%')\n",
        "  plt.title(name)\n",
        "  plt.show()\n",
        "plot_pie(data,labels,colors,name)"
      ],
      "metadata": {
        "id": "CzX3LN4YxLZN",
        "colab": {
          "base_uri": "https://localhost:8080/",
          "height": 531
        },
        "outputId": "e30b41e5-63ae-4ecc-bb8c-2606ab9053f1"
      },
      "execution_count": null,
      "outputs": [
        {
          "output_type": "display_data",
          "data": {
            "text/plain": [
              "<Figure size 900x600 with 1 Axes>"
            ],
            "image/png": "[encoded data removed]"
          },
          "metadata": {}
        }
      ]
    },
    {
      "cell_type": "markdown",
      "source": [
        "# 4. Ontology\n"
      ],
      "metadata": {
        "id": "Ld01sSitx8fQ"
      }
    },
    {
      "cell_type": "markdown",
      "source": [
        "**Breast cancer +cancer +drugs**"
      ],
      "metadata": {
        "id": "I1teakHqvSXa"
      }
    },
    {
      "cell_type": "markdown",
      "source": [
        "## 4.1 Retrieve DOID terms (and their synonyms) that have ICD9CM codes"
      ],
      "metadata": {
        "id": "vOH64c8iwy-b"
      }
    },
    {
      "cell_type": "markdown",
      "source": [
        "The code below (that will be modified by students) iterates through each descendent term of heart disease to extract its DOID, synonyms (including labels), and ICD9 codes that are stored in the corresponding lists. "
      ],
      "metadata": {
        "id": "AMsclgirw9Cl"
      }
    },
    {
      "cell_type": "code",
      "source": [
        "import requests\n",
        "#  GET (using requests) all the ICD9 terms that are descendants of lung disease as the root\n",
        "#DOID for lung disease\n",
        "doid='DOID_1612' #DOID for Breast Cancer\n",
        "url_base='https://www.ebi.ac.uk/ols/api/ontologies/doid/terms/'\n",
        "url_terms=url_base+'http%253A%252F%252Fpurl.obolibrary.org%252Fobo%252F'+doid+'/descendants?page=0&size=200'\n",
        "icdlist = []\n",
        "doidlist = []\n",
        "synlist = []\n",
        "terms={}\n",
        "\n",
        "# get the JSON output containing all descendants of \"heart diseaase\"\n",
        "r2 = requests.get(url = url_terms)\n",
        "data2 = r2.json()\n",
        "##insert your own code below to assign the names of the two keys represented by key1 and key2\n",
        "key1='_embedded'\n",
        "key2='terms' \n",
        "\n",
        "#a collection of terms extracted from the JSON object\n",
        "terms=data2[key1][key2]\n",
        "\n",
        "#retrieve DOID's, synonyms (including labels) and ICD9 codes (without dots) for each descendant term\n",
        "for term in terms:\n",
        "    # find the database for ICD9 codes\n",
        "  label=term['label']\n",
        "  iri=term['iri']\n",
        "  lst=iri.split('_')\n",
        "  obo_id='DOID:'+lst[1]\n",
        "  db=''\n",
        "  if 'database_cross_reference' in term['annotation']:\n",
        "    for d2 in term['annotation']['database_cross_reference']:\n",
        "      dblst=d2.split(':')\n",
        "      db=dblst[0]\n",
        "      code=dblst[1]\n",
        "      if db=='ICD9CM':\n",
        "        break\n",
        "    if db=='ICD9CM':\n",
        "        code=code.replace('.','')\n",
        "        if 'has_exact_synonym' in term['annotation']:\n",
        "          doidlist.append(obo_id)\n",
        "          synlist.append(label)\n",
        "          icdlist.append(code)\n",
        "          for s in term['annotation']['has_exact_synonym']:\n",
        "            doidlist.append(obo_id)\n",
        "            synlist.append(s)\n",
        "            icdlist.append(code)\n",
        "\n",
        "print(f\"Length of doidlist: {len(doidlist)}, length of synlist: {len(synlist)}, length of icdlist: {len(icdlist)} \\n\")  \n",
        "print(doidlist)"
      ],
      "metadata": {
        "colab": {
          "base_uri": "https://localhost:8080/"
        },
        "id": "NdTK6kTkyDRy",
        "outputId": "7f6c2c0c-3aae-4578-aed8-51688cc144e5"
      },
      "execution_count": null,
      "outputs": [
        {
          "output_type": "stream",
          "name": "stdout",
          "text": [
            "Length of doidlist: 14, length of synlist: 14, length of icdlist: 14 \n",
            "\n",
            "['DOID:11889', 'DOID:11889', 'DOID:11889', 'DOID:13972', 'DOID:13972', 'DOID:13799', 'DOID:13799', 'DOID:13799', 'DOID:1649', 'DOID:1649', 'DOID:1647', 'DOID:1647', 'DOID:1650', 'DOID:1650']\n"
          ]
        }
      ]
    },
    {
      "cell_type": "markdown",
      "source": [
        "## 4.2 Create Table that maps DOID with ICD9 \n",
        "\n",
        "First, we create an empty table. Then we feed the data extracted from [OLS](https://www.ebi.ac.uk/ols/ontologies/doid/terms?iri=http%3A%2F%2Fpurl.obolibrary.org%2Fobo%2FDOID_1612) about Breast Cancer into this mapping table"
      ],
      "metadata": {
        "id": "gIK47YJqxODI"
      }
    },
    {
      "cell_type": "code",
      "source": [
        "cursor.execute(\"DROP TABLE IF EXISTS DOID_ICD9_mappings\")\n",
        "#insert code to create DOID_ICD9_mappings table\n",
        "sql ='''CREATE TABLE DOID_ICD9_mappings (\n",
        "      doid varchar(10),\n",
        "      synonym varchar(50),\n",
        "      icd9_code\tvarchar(10) NULL,\n",
        "      PRIMARY KEY (doid)\n",
        "      FOREIGN KEY (icd9_code) REFERENCES d_icd_diagnoses(icd9_code)\n",
        "  );'''\n",
        "cursor.execute(sql)\n",
        "\n",
        "synonyms = None\n",
        "# load the data from the three lists into a data frame object \"synonyms\"\n",
        "data = {'doid':doidlist,'synonym':synlist,'icd9_code':icdlist}\n",
        "synonyms = pd.DataFrame(data)\n",
        "# write the data to a sqlite table\n",
        "synonyms.to_sql('DOID_ICD9_mappings', conn, if_exists='replace', index = False)\n",
        "# Commit your changes in the database\n",
        "conn.commit()"
      ],
      "metadata": {
        "id": "bxEx8eLAvoUs"
      },
      "execution_count": null,
      "outputs": []
    },
    {
      "cell_type": "markdown",
      "source": [
        "We want to see the synonym of the breast cancer."
      ],
      "metadata": {
        "id": "ztfN7ZVKyIdk"
      }
    },
    {
      "cell_type": "code",
      "source": [
        "sql='''\n",
        "CREATE TABLE IF NOT EXISTS Breast_cancer_syn AS\n",
        "  SELECT distinct i.icd9_code, i.short_title,i.long_title,s.doid,s.synonym \n",
        "  from D_icd_diagnoses i\n",
        "  left join DOID_ICD9_mappings s on s.icd9_code==i.icd9_code\n",
        "  where i.icd9_code IN (\"2330\", \"1740\", \"1741\", \"1742\", \"1743\", \"1744\", \"1745\", \"1746\", \"1748\", \"1749\");\n",
        "    '''\n",
        "cursor.execute(sql)\n",
        "sql='''\n",
        "SELECT * from Breast_cancer_syn\n",
        "'''\n",
        "syn = pd.read_sql(sql, conn)\n",
        "pd.set_option('display.max_rows', 100)\n",
        "display (syn)"
      ],
      "metadata": {
        "colab": {
          "base_uri": "https://localhost:8080/",
          "height": 614
        },
        "id": "An01KDYry3IG",
        "outputId": "6cba6bac-93d9-4210-be7d-af0bc9941490"
      },
      "execution_count": null,
      "outputs": [
        {
          "output_type": "display_data",
          "data": {
            "text/plain": [
              "   ICD9_CODE               SHORT_TITLE  \\\n",
              "0       1740          Malig neo nipple   \n",
              "1       1740          Malig neo nipple   \n",
              "2       1740          Malig neo nipple   \n",
              "3       1741    Mal neo breast-central   \n",
              "4       1741    Mal neo breast-central   \n",
              "5       1741    Mal neo breast-central   \n",
              "6       1742   Mal neo breast up-inner   \n",
              "7       1742   Mal neo breast up-inner   \n",
              "8       1743  Mal neo breast low-inner   \n",
              "9       1743  Mal neo breast low-inner   \n",
              "10      1744   Mal neo breast up-outer   \n",
              "11      1745  Mal neo breast low-outer   \n",
              "12      1745  Mal neo breast low-outer   \n",
              "13      1746   Mal neo breast-axillary   \n",
              "14      1746   Mal neo breast-axillary   \n",
              "15      1748   Malign neopl breast NEC   \n",
              "16      1749   Malign neopl breast NOS   \n",
              "17      2330         Ca in situ breast   \n",
              "\n",
              "                                           LONG_TITLE        doid  \\\n",
              "0   Malignant neoplasm of nipple and areola of fem...  DOID:11889   \n",
              "1   Malignant neoplasm of nipple and areola of fem...  DOID:11889   \n",
              "2   Malignant neoplasm of nipple and areola of fem...  DOID:11889   \n",
              "3   Malignant neoplasm of central portion of femal...  DOID:13799   \n",
              "4   Malignant neoplasm of central portion of femal...  DOID:13799   \n",
              "5   Malignant neoplasm of central portion of femal...  DOID:13799   \n",
              "6   Malignant neoplasm of upper-inner quadrant of ...   DOID:1647   \n",
              "7   Malignant neoplasm of upper-inner quadrant of ...   DOID:1647   \n",
              "8   Malignant neoplasm of lower-inner quadrant of ...   DOID:1649   \n",
              "9   Malignant neoplasm of lower-inner quadrant of ...   DOID:1649   \n",
              "10  Malignant neoplasm of upper-outer quadrant of ...        None   \n",
              "11  Malignant neoplasm of lower-outer quadrant of ...  DOID:13972   \n",
              "12  Malignant neoplasm of lower-outer quadrant of ...  DOID:13972   \n",
              "13  Malignant neoplasm of axillary tail of female ...   DOID:1650   \n",
              "14  Malignant neoplasm of axillary tail of female ...   DOID:1650   \n",
              "15  Malignant neoplasm of other specified sites of...        None   \n",
              "16  Malignant neoplasm of breast (female), unspeci...        None   \n",
              "17                        Carcinoma in situ of breast        None   \n",
              "\n",
              "                                              synonym  \n",
              "0              female breast nipple and areola cancer  \n",
              "1   malignant neoplasm of nipple and areola of fem...  \n",
              "2   malignant neoplasm of nipple or areola of fema...  \n",
              "3                   female breast central part cancer  \n",
              "4   malignant neoplasm of central part of female b...  \n",
              "5   malignant neoplasm of central portion of femal...  \n",
              "6           female breast upper-inner quadrant cancer  \n",
              "7   malignant neoplasm of upper-inner quadrant of ...  \n",
              "8           female breast lower-inner quadrant cancer  \n",
              "9   malignant neoplasm of lower-inner quadrant of ...  \n",
              "10                                               None  \n",
              "11          female breast lower-outer quadrant cancer  \n",
              "12  malignant neoplasm of lower-outer quadrant of ...  \n",
              "13                 female breast axillary tail cancer  \n",
              "14  malignant neoplasm of axillary tail of female ...  \n",
              "15                                               None  \n",
              "16                                               None  \n",
              "17                                               None  "
            ],
            "text/html": [
              "\n",
              "  <div id=\"df-b5ef6be4-ccc2-421c-932d-806d8515bbdf\">\n",
              "    <div class=\"colab-df-container\">\n",
              "      <div>\n",
              "<style scoped>\n",
              "    .dataframe tbody tr th:only-of-type {\n",
              "        vertical-align: middle;\n",
              "    }\n",
              "\n",
              "    .dataframe tbody tr th {\n",
              "        vertical-align: top;\n",
              "    }\n",
              "\n",
              "    .dataframe thead th {\n",
              "        text-align: right;\n",
              "    }\n",
              "</style>\n",
              "<table border=\"1\" class=\"dataframe\">\n",
              "  <thead>\n",
              "    <tr style=\"text-align: right;\">\n",
              "      <th></th>\n",
              "      <th>ICD9_CODE</th>\n",
              "      <th>SHORT_TITLE</th>\n",
              "      <th>LONG_TITLE</th>\n",
              "      <th>doid</th>\n",
              "      <th>synonym</th>\n",
              "    </tr>\n",
              "  </thead>\n",
              "  <tbody>\n",
              "    <tr>\n",
              "      <th>0</th>\n",
              "      <td>1740</td>\n",
              "      <td>Malig neo nipple</td>\n",
              "      <td>Malignant neoplasm of nipple and areola of fem...</td>\n",
              "      <td>DOID:11889</td>\n",
              "      <td>female breast nipple and areola cancer</td>\n",
              "    </tr>\n",
              "    <tr>\n",
              "      <th>1</th>\n",
              "      <td>1740</td>\n",
              "      <td>Malig neo nipple</td>\n",
              "      <td>Malignant neoplasm of nipple and areola of fem...</td>\n",
              "      <td>DOID:11889</td>\n",
              "      <td>malignant neoplasm of nipple and areola of fem...</td>\n",
              "    </tr>\n",
              "    <tr>\n",
              "      <th>2</th>\n",
              "      <td>1740</td>\n",
              "      <td>Malig neo nipple</td>\n",
              "      <td>Malignant neoplasm of nipple and areola of fem...</td>\n",
              "      <td>DOID:11889</td>\n",
              "      <td>malignant neoplasm of nipple or areola of fema...</td>\n",
              "    </tr>\n",
              "    <tr>\n",
              "      <th>3</th>\n",
              "      <td>1741</td>\n",
              "      <td>Mal neo breast-central</td>\n",
              "      <td>Malignant neoplasm of central portion of femal...</td>\n",
              "      <td>DOID:13799</td>\n",
              "      <td>female breast central part cancer</td>\n",
              "    </tr>\n",
              "    <tr>\n",
              "      <th>4</th>\n",
              "      <td>1741</td>\n",
              "      <td>Mal neo breast-central</td>\n",
              "      <td>Malignant neoplasm of central portion of femal...</td>\n",
              "      <td>DOID:13799</td>\n",
              "      <td>malignant neoplasm of central part of female b...</td>\n",
              "    </tr>\n",
              "    <tr>\n",
              "      <th>5</th>\n",
              "      <td>1741</td>\n",
              "      <td>Mal neo breast-central</td>\n",
              "      <td>Malignant neoplasm of central portion of femal...</td>\n",
              "      <td>DOID:13799</td>\n",
              "      <td>malignant neoplasm of central portion of femal...</td>\n",
              "    </tr>\n",
              "    <tr>\n",
              "      <th>6</th>\n",
              "      <td>1742</td>\n",
              "      <td>Mal neo breast up-inner</td>\n",
              "      <td>Malignant neoplasm of upper-inner quadrant of ...</td>\n",
              "      <td>DOID:1647</td>\n",
              "      <td>female breast upper-inner quadrant cancer</td>\n",
              "    </tr>\n",
              "    <tr>\n",
              "      <th>7</th>\n",
              "      <td>1742</td>\n",
              "      <td>Mal neo breast up-inner</td>\n",
              "      <td>Malignant neoplasm of upper-inner quadrant of ...</td>\n",
              "      <td>DOID:1647</td>\n",
              "      <td>malignant neoplasm of upper-inner quadrant of ...</td>\n",
              "    </tr>\n",
              "    <tr>\n",
              "      <th>8</th>\n",
              "      <td>1743</td>\n",
              "      <td>Mal neo breast low-inner</td>\n",
              "      <td>Malignant neoplasm of lower-inner quadrant of ...</td>\n",
              "      <td>DOID:1649</td>\n",
              "      <td>female breast lower-inner quadrant cancer</td>\n",
              "    </tr>\n",
              "    <tr>\n",
              "      <th>9</th>\n",
              "      <td>1743</td>\n",
              "      <td>Mal neo breast low-inner</td>\n",
              "      <td>Malignant neoplasm of lower-inner quadrant of ...</td>\n",
              "      <td>DOID:1649</td>\n",
              "      <td>malignant neoplasm of lower-inner quadrant of ...</td>\n",
              "    </tr>\n",
              "    <tr>\n",
              "      <th>10</th>\n",
              "      <td>1744</td>\n",
              "      <td>Mal neo breast up-outer</td>\n",
              "      <td>Malignant neoplasm of upper-outer quadrant of ...</td>\n",
              "      <td>None</td>\n",
              "      <td>None</td>\n",
              "    </tr>\n",
              "    <tr>\n",
              "      <th>11</th>\n",
              "      <td>1745</td>\n",
              "      <td>Mal neo breast low-outer</td>\n",
              "      <td>Malignant neoplasm of lower-outer quadrant of ...</td>\n",
              "      <td>DOID:13972</td>\n",
              "      <td>female breast lower-outer quadrant cancer</td>\n",
              "    </tr>\n",
              "    <tr>\n",
              "      <th>12</th>\n",
              "      <td>1745</td>\n",
              "      <td>Mal neo breast low-outer</td>\n",
              "      <td>Malignant neoplasm of lower-outer quadrant of ...</td>\n",
              "      <td>DOID:13972</td>\n",
              "      <td>malignant neoplasm of lower-outer quadrant of ...</td>\n",
              "    </tr>\n",
              "    <tr>\n",
              "      <th>13</th>\n",
              "      <td>1746</td>\n",
              "      <td>Mal neo breast-axillary</td>\n",
              "      <td>Malignant neoplasm of axillary tail of female ...</td>\n",
              "      <td>DOID:1650</td>\n",
              "      <td>female breast axillary tail cancer</td>\n",
              "    </tr>\n",
              "    <tr>\n",
              "      <th>14</th>\n",
              "      <td>1746</td>\n",
              "      <td>Mal neo breast-axillary</td>\n",
              "      <td>Malignant neoplasm of axillary tail of female ...</td>\n",
              "      <td>DOID:1650</td>\n",
              "      <td>malignant neoplasm of axillary tail of female ...</td>\n",
              "    </tr>\n",
              "    <tr>\n",
              "      <th>15</th>\n",
              "      <td>1748</td>\n",
              "      <td>Malign neopl breast NEC</td>\n",
              "      <td>Malignant neoplasm of other specified sites of...</td>\n",
              "      <td>None</td>\n",
              "      <td>None</td>\n",
              "    </tr>\n",
              "    <tr>\n",
              "      <th>16</th>\n",
              "      <td>1749</td>\n",
              "      <td>Malign neopl breast NOS</td>\n",
              "      <td>Malignant neoplasm of breast (female), unspeci...</td>\n",
              "      <td>None</td>\n",
              "      <td>None</td>\n",
              "    </tr>\n",
              "    <tr>\n",
              "      <th>17</th>\n",
              "      <td>2330</td>\n",
              "      <td>Ca in situ breast</td>\n",
              "      <td>Carcinoma in situ of breast</td>\n",
              "      <td>None</td>\n",
              "      <td>None</td>\n",
              "    </tr>\n",
              "  </tbody>\n",
              "</table>\n",
              "</div>\n",
              "      <button class=\"colab-df-convert\" onclick=\"convertToInteractive('df-b5ef6be4-ccc2-421c-932d-806d8515bbdf')\"\n",
              "              title=\"Convert this dataframe to an interactive table.\"\n",
              "              style=\"display:none;\">\n",
              "        \n",
              "  <svg xmlns=\"http://www.w3.org/2000/svg\" height=\"24px\"viewBox=\"0 0 24 24\"\n",
              "       width=\"24px\">\n",
              "    <path d=\"M0 0h24v24H0V0z\" fill=\"none\"/>\n",
              "    <path d=\"M18.56 5.44l.94 2.06.94-2.06 2.06-.94-2.06-.94-.94-2.06-.94 2.06-2.06.94zm-11 1L8.5 8.5l.94-2.06 2.06-.94-2.06-.94L8.5 2.5l-.94 2.06-2.06.94zm10 10l.94 2.06.94-2.06 2.06-.94-2.06-.94-.94-2.06-.94 2.06-2.06.94z\"/><path d=\"M17.41 7.96l-1.37-1.37c-.4-.4-.92-.59-1.43-.59-.52 0-1.04.2-1.43.59L10.3 9.45l-7.72 7.72c-.78.78-.78 2.05 0 2.83L4 21.41c.39.39.9.59 1.41.59.51 0 1.02-.2 1.41-.59l7.78-7.78 2.81-2.81c.8-.78.8-2.07 0-2.86zM5.41 20L4 18.59l7.72-7.72 1.47 1.35L5.41 20z\"/>\n",
              "  </svg>\n",
              "      </button>\n",
              "      \n",
              "  <style>\n",
              "    .colab-df-container {\n",
              "      display:flex;\n",
              "      flex-wrap:wrap;\n",
              "      gap: 12px;\n",
              "    }\n",
              "\n",
              "    .colab-df-convert {\n",
              "      background-color: #E8F0FE;\n",
              "      border: none;\n",
              "      border-radius: 50%;\n",
              "      cursor: pointer;\n",
              "      display: none;\n",
              "      fill: #1967D2;\n",
              "      height: 32px;\n",
              "      padding: 0 0 0 0;\n",
              "      width: 32px;\n",
              "    }\n",
              "\n",
              "    .colab-df-convert:hover {\n",
              "      background-color: #E2EBFA;\n",
              "      box-shadow: 0px 1px 2px rgba(60, 64, 67, 0.3), 0px 1px 3px 1px rgba(60, 64, 67, 0.15);\n",
              "      fill: #174EA6;\n",
              "    }\n",
              "\n",
              "    [theme=dark] .colab-df-convert {\n",
              "      background-color: #3B4455;\n",
              "      fill: #D2E3FC;\n",
              "    }\n",
              "\n",
              "    [theme=dark] .colab-df-convert:hover {\n",
              "      background-color: #434B5C;\n",
              "      box-shadow: 0px 1px 3px 1px rgba(0, 0, 0, 0.15);\n",
              "      filter: drop-shadow(0px 1px 2px rgba(0, 0, 0, 0.3));\n",
              "      fill: #FFFFFF;\n",
              "    }\n",
              "  </style>\n",
              "\n",
              "      <script>\n",
              "        const buttonEl =\n",
              "          document.querySelector('#df-b5ef6be4-ccc2-421c-932d-806d8515bbdf button.colab-df-convert');\n",
              "        buttonEl.style.display =\n",
              "          google.colab.kernel.accessAllowed ? 'block' : 'none';\n",
              "\n",
              "        async function convertToInteractive(key) {\n",
              "          const element = document.querySelector('#df-b5ef6be4-ccc2-421c-932d-806d8515bbdf');\n",
              "          const dataTable =\n",
              "            await google.colab.kernel.invokeFunction('convertToInteractive',\n",
              "                                                     [key], {});\n",
              "          if (!dataTable) return;\n",
              "\n",
              "          const docLinkHtml = 'Like what you see? Visit the ' +\n",
              "            '<a target=\"_blank\" href=https://colab.research.google.com/notebooks/data_table.ipynb>data table notebook</a>'\n",
              "            + ' to learn more about interactive tables.';\n",
              "          element.innerHTML = '';\n",
              "          dataTable['output_type'] = 'display_data';\n",
              "          await google.colab.output.renderOutput(dataTable, element);\n",
              "          const docLink = document.createElement('div');\n",
              "          docLink.innerHTML = docLinkHtml;\n",
              "          element.appendChild(docLink);\n",
              "        }\n",
              "      </script>\n",
              "    </div>\n",
              "  </div>\n",
              "  "
            ]
          },
          "metadata": {}
        }
      ]
    },
    {
      "cell_type": "markdown",
      "source": [
        "We can see from above that for ICD9 1744,1748,1749,2330, we do not have corresponding DOID and synonym\n"
      ],
      "metadata": {
        "id": "Acehgb5xzFpA"
      }
    },
    {
      "cell_type": "markdown",
      "source": [
        "# 5. Feature Selection"
      ],
      "metadata": {
        "id": "3Sur5AtLvgoY"
      }
    },
    {
      "cell_type": "code",
      "source": [
        "#Doping tables if already exists.\n",
        "cursor.execute(\"DROP TABLE IF EXISTS ICUSTAYS\")\n",
        "cursor.execute(\"DROP TABLE IF EXISTS Labevents\")\n",
        "\n",
        "#Creating tables\n",
        "#insert code to create ICUSTAYS table\n",
        "sql ='''CREATE TABLE ICUSTAYS (\n",
        "      row_id int  NOT NULL,\n",
        "      subject_id\tint NOT NULL,\n",
        "      hadm_id\tint NOT NULL,\n",
        "      icustay_id\tint NOT NULL,\n",
        "      dbsource varchar(20),\n",
        "      first_careunit varchar(20),\n",
        "      last_careunit varchar(20),\n",
        "      first_wardid smallint,\n",
        "      last_wardid smallint,\n",
        "      intime timestamp,\n",
        "      outtime timestamp,\n",
        "      los float8,\n",
        "      FOREIGN KEY (subject_id) REFERENCES patients(subject_id),\n",
        "      FOREIGN KEY (hadm_id) REFERENCES admissions(hadm_id)\n",
        "  );'''\n",
        "cursor.execute(sql)\n",
        "\n",
        "#insert code to create Labevents table\n",
        "sql ='''CREATE TABLE Labevents (\n",
        "      row_id int  NOT NULL,\n",
        "      subject_id\tint NOT NULL,\n",
        "      hadm_id\tint NOT NULL,\n",
        "      itemid\tint NULL,\n",
        "      charttime timestamp,\n",
        "      value varchar(200),\n",
        "      valuenum float8,\n",
        "      valueuom varchar(20),\n",
        "      flag varchar(20),\n",
        "      FOREIGN KEY (subject_id) REFERENCES patients(subject_id),\n",
        "      FOREIGN KEY (hadm_id) REFERENCES admissions(hadm_id)\n",
        "  );'''\n",
        "cursor.execute(sql)\n",
        "print(\"Table(s) created successfully........\")\n",
        "conn.commit()\n",
        "\n",
        "#insert code to load ICUSTAYS.csv and Labevents into the corresponding Pandas DataFrame objects\n",
        "ICUSTAYS = pd.read_csv('/content/gdrive/MyDrive/BIS638/2022/ICUSTAYS.csv')\n",
        "Labevents = pd.read_csv('/content/gdrive/MyDrive/BIS638/2022/LABEVENTS.csv')\n",
        "\n",
        "#insert code to write data to ICUSTAYS and Labevents tables\n",
        "ICUSTAYS.to_sql('ICUSTAYS', conn, if_exists='replace', index = False)\n",
        "Labevents.to_sql('Labevents', conn, if_exists='replace', index = False)\n",
        "\n",
        "#Commit your changes in the database\n",
        "conn.commit()"
      ],
      "metadata": {
        "colab": {
          "base_uri": "https://localhost:8080/"
        },
        "id": "-NOLZIvy2PoP",
        "outputId": "b55fe215-a93f-47b1-f41b-faf330c226fe"
      },
      "execution_count": null,
      "outputs": [
        {
          "output_type": "stream",
          "name": "stdout",
          "text": [
            "Table(s) created successfully........\n"
          ]
        }
      ]
    },
    {
      "cell_type": "markdown",
      "source": [
        "Extract the patients with all the Demographic Information：age, gender"
      ],
      "metadata": {
        "id": "4zSRDFCm7Fmz"
      }
    },
    {
      "cell_type": "code",
      "source": [
        "cursor.execute(\"DROP TABLE IF EXISTS Dem_info\")\n",
        "Dem_info='''\n",
        "CREATE TABLE Dem_info AS\n",
        "  SELECT a.subject_id, hadm_id, \n",
        "  (a.admittime-p.dob) \n",
        "  AS diagnosis_age,\n",
        "  insurance,\n",
        "  marital_status,\n",
        "  religion,\n",
        "  ethnicity\n",
        "  FROM admissions a\n",
        "  INNER JOIN patients p\n",
        "  ON a.subject_id = p.subject_id\n",
        "  '''\n",
        "cursor.execute(Dem_info)\n",
        "print(\"Table(s) created successfully........\")\n",
        "conn.commit()"
      ],
      "metadata": {
        "id": "WUiOFmVy2PrN",
        "colab": {
          "base_uri": "https://localhost:8080/"
        },
        "outputId": "ac612a11-1325-401b-d4ff-3cda94cc018a"
      },
      "execution_count": null,
      "outputs": [
        {
          "output_type": "stream",
          "name": "stdout",
          "text": [
            "Table(s) created successfully........\n"
          ]
        }
      ]
    },
    {
      "cell_type": "markdown",
      "source": [
        "Extract the patients with all the ICU surgery"
      ],
      "metadata": {
        "id": "9G6CX8Dc7M35"
      }
    },
    {
      "cell_type": "code",
      "source": [
        "cursor.execute(\"DROP TABLE IF EXISTS ICU_sur\")\n",
        "ICU_sur='''\n",
        "CREATE TABLE ICU_sur AS\n",
        "  SELECT hadm_id, \n",
        "  sum(los) AS total_icu_time \n",
        "  FROM ICUSTAYS\n",
        "  GROUP BY hadm_id\n",
        "  '''\n",
        "cursor.execute(ICU_sur)\n",
        "print(\"Table(s) created successfully........\")\n",
        "conn.commit()"
      ],
      "metadata": {
        "id": "BtBmFhCF2Ptd",
        "colab": {
          "base_uri": "https://localhost:8080/"
        },
        "outputId": "f53a4814-1afb-4a9f-a392-ab839e8c15cc"
      },
      "execution_count": null,
      "outputs": [
        {
          "output_type": "stream",
          "name": "stdout",
          "text": [
            "Table(s) created successfully........\n"
          ]
        }
      ]
    },
    {
      "cell_type": "markdown",
      "source": [
        "Extract the patients with all the Lab data"
      ],
      "metadata": {
        "id": "RaRXEu427RgK"
      }
    },
    {
      "cell_type": "code",
      "source": [
        "cursor.execute(\"DROP TABLE IF EXISTS Lab\")\n",
        "Lab='''\n",
        "CREATE TABLE Lab AS\n",
        "  SELECT o.hadm_id, AVG_Urea_nitrogen, AVG_platelet, AVG_potassium, AVG_sodium, AVG_creatinine, AVG_leukocytes, AVG_sugar, AVG_albumin\n",
        "  FROM\n",
        "  (SELECT distinct hadm_id\n",
        "  FROM labevents) o\n",
        "  left join\n",
        "  (SELECT hadm_id,\n",
        "  avg(valuenum) AS AVG_Urea_nitrogen\n",
        "  FROM labevents\n",
        "  WHERE itemid = 51066\n",
        "  GROUP BY hadm_id) a on o.hadm_id=a.hadm_id\n",
        "  left join\n",
        "  (SELECT hadm_id,\n",
        "  avg(valuenum) AS AVG_platelet\n",
        "  FROM labevents\n",
        "  WHERE itemid = 51265\n",
        "  GROUP BY hadm_id) b on o.hadm_id=b.hadm_id\n",
        "  left join\n",
        "  (SELECT hadm_id,\n",
        "  avg(valuenum) AS AVG_hematocrito\n",
        "  FROM labevents\n",
        "  WHERE itemid = 51221\n",
        "  GROUP BY hadm_id) c on o.hadm_id=c.hadm_id  \n",
        "  left join   \n",
        "  (SELECT hadm_id,\n",
        "  avg(valuenum) AS AVG_potassium\n",
        "  FROM labevents\n",
        "  WHERE itemid = 50971\n",
        "  GROUP BY hadm_id) d on o.hadm_id=d.hadm_id  \n",
        "  left join\n",
        "  (SELECT hadm_id,\n",
        "  avg(valuenum) AS AVG_sodium\n",
        "  FROM labevents\n",
        "  WHERE itemid = 50983\n",
        "  GROUP BY hadm_id) e on o.hadm_id=e.hadm_id\n",
        "  left join\n",
        "  (SELECT hadm_id,\n",
        "  avg(valuenum) AS AVG_creatinine\n",
        "  FROM labevents\n",
        "  WHERE itemid = 50912\n",
        "  GROUP BY hadm_id) f on o.hadm_id=f.hadm_id\n",
        "  left join\n",
        "  (SELECT hadm_id,\n",
        "  avg(valuenum) AS AVG_leukocytes\n",
        "  FROM labevents\n",
        "  WHERE itemid = 51301\n",
        "  GROUP BY hadm_id) g on o.hadm_id=g.hadm_id     \n",
        "  left join\n",
        "  (SELECT hadm_id,\n",
        "  avg(valuenum) AS AVG_sugar\n",
        "  FROM labevents\n",
        "  WHERE itemid in (50809,50931)\n",
        "  GROUP BY hadm_id) h on o.hadm_id=h.hadm_id\n",
        "  left join\n",
        "  (SELECT hadm_id,\n",
        "  avg(valuenum) AS AVG_albumin\n",
        "  FROM labevents\n",
        "  WHERE itemid = 50862\n",
        "  GROUP BY hadm_id) i on o.hadm_id=i.hadm_id\n",
        "  where o.hadm_id is not null        \n",
        "  '''\n",
        "cursor.execute(Lab)\n",
        "print(\"Table(s) created successfully........\")\n",
        "conn.commit()"
      ],
      "metadata": {
        "id": "Fq6z53cc2Pv9",
        "colab": {
          "base_uri": "https://localhost:8080/"
        },
        "outputId": "7781a47b-5f2d-4488-d727-f45f2cc217d2"
      },
      "execution_count": null,
      "outputs": [
        {
          "output_type": "stream",
          "name": "stdout",
          "text": [
            "Table(s) created successfully........\n"
          ]
        }
      ]
    },
    {
      "cell_type": "code",
      "source": [
        "cursor.execute(\"DROP TABLE IF EXISTS data_summary\")\n",
        "data_summary='''\n",
        "CREATE TABLE data_summary AS\n",
        "  SELECT *\n",
        "  FROM Lab a\n",
        "  inner join \n",
        "  Dem_info b on a.hadm_id=b.hadm_id\n",
        "  inner join \n",
        "  ICU_sur c on a.hadm_id=c.hadm_id\n",
        "  ;'''\n",
        "cursor.execute(data_summary)\n",
        "print(\"Table(s) created successfully........\")\n",
        "conn.commit()"
      ],
      "metadata": {
        "id": "0BUloJ-T2Pyy",
        "colab": {
          "base_uri": "https://localhost:8080/"
        },
        "outputId": "e3798986-93cb-4c93-840e-bb1f7a2a01a3"
      },
      "execution_count": null,
      "outputs": [
        {
          "output_type": "stream",
          "name": "stdout",
          "text": [
            "Table(s) created successfully........\n"
          ]
        }
      ]
    },
    {
      "cell_type": "code",
      "source": [
        "cursor.execute(\"DROP TABLE IF EXISTS wide_summary\")\n",
        "wide_summary='''\n",
        "CREATE TABLE IF NOT EXISTS wide_summary AS\n",
        "  SELECT *,\n",
        "  case when subject_id in (select subject_id from Breast_cancer) then 1\n",
        "  else 0\n",
        "  end as breast_outcome\n",
        "  FROM data_summary\n",
        "  '''\n",
        "cursor.execute(wide_summary)"
      ],
      "metadata": {
        "id": "9vKlszvv2P2B",
        "colab": {
          "base_uri": "https://localhost:8080/"
        },
        "outputId": "18b2e5fa-2c82-4521-da96-6fa4b41754f0"
      },
      "execution_count": null,
      "outputs": [
        {
          "output_type": "execute_result",
          "data": {
            "text/plain": [
              "<sqlite3.Cursor at 0x7fd9b6449030>"
            ]
          },
          "metadata": {},
          "execution_count": 33
        }
      ]
    },
    {
      "cell_type": "code",
      "source": [
        "sql='''\n",
        "  SELECT  *\n",
        "  FROM\n",
        "  wide_summary\n",
        "  ;'''\n",
        "data = pd.read_sql(sql, conn)\n",
        "display(data)"
      ],
      "metadata": {
        "id": "X6AWON-w2P5I",
        "colab": {
          "base_uri": "https://localhost:8080/",
          "height": 505
        },
        "outputId": "7339ddea-a1f6-4e89-b226-260a8b92a6b6"
      },
      "execution_count": null,
      "outputs": [
        {
          "output_type": "display_data",
          "data": {
            "text/plain": [
              "        hadm_id  AVG_Urea_nitrogen  AVG_platelet  AVG_potassium  AVG_sodium  \\\n",
              "0      145834.0                NaN    210.866667       4.105263  137.555556   \n",
              "1      163353.0                NaN    153.500000            NaN         NaN   \n",
              "2      185777.0                NaN    286.428571       3.537500  137.750000   \n",
              "3      178980.0                NaN    309.000000            NaN         NaN   \n",
              "4      107064.0                NaN    247.947368       4.911765  134.411765   \n",
              "...         ...                ...           ...            ...         ...   \n",
              "57154  109836.0                NaN    226.000000       3.550000  140.000000   \n",
              "57155  115549.0                NaN    382.000000       4.075000  138.000000   \n",
              "57156  144680.0                NaN    179.500000       4.100000  136.500000   \n",
              "57157  175386.0                NaN    210.500000       4.033333  141.666667   \n",
              "57158  167146.0                NaN    253.333333       3.966667  137.666667   \n",
              "\n",
              "       AVG_creatinine  AVG_leukocytes   AVG_sugar  AVG_albumin  SUBJECT_ID  \\\n",
              "0            1.826667       12.533333  154.727273        1.800           3   \n",
              "1                 NaN       11.050000         NaN          NaN           2   \n",
              "2            0.450000        9.442857  226.750000        2.800           4   \n",
              "3                 NaN       13.900000         NaN          NaN           5   \n",
              "4            3.741176       13.589474  124.772727        2.875           6   \n",
              "...               ...             ...         ...          ...         ...   \n",
              "57154        0.650000        5.550000  169.500000          NaN       98759   \n",
              "57155        0.850000       12.266667   92.500000          NaN       98939   \n",
              "57156        0.900000       13.400000  107.000000          NaN       98883   \n",
              "57157        0.566667        5.450000  125.333333          NaN       98759   \n",
              "57158        0.700000        4.933333  104.333333          NaN       98982   \n",
              "\n",
              "       HADM_ID:1  diagnosis_age   INSURANCE MARITAL_STATUS           RELIGION  \\\n",
              "0         145834             76    Medicare        MARRIED           CATHOLIC   \n",
              "1         163353              0     Private           None      NOT SPECIFIED   \n",
              "2         185777             48     Private         SINGLE  PROTESTANT QUAKER   \n",
              "3         178980              0     Private           None           BUDDHIST   \n",
              "4         107064             66    Medicare        MARRIED      NOT SPECIFIED   \n",
              "...          ...            ...         ...            ...                ...   \n",
              "57154     109836             69     Private        WIDOWED           CATHOLIC   \n",
              "57155     115549             22  Government         SINGLE      NOT SPECIFIED   \n",
              "57156     144680             24     Private         SINGLE       UNOBTAINABLE   \n",
              "57157     175386             69     Private        WIDOWED           CATHOLIC   \n",
              "57158     167146             79    Medicare         SINGLE             JEWISH   \n",
              "\n",
              "      ETHNICITY  HADM_ID:2  total_icu_time  breast_outcome  \n",
              "0         WHITE     145834          6.0646               0  \n",
              "1         ASIAN     163353          0.0918               0  \n",
              "2         WHITE     185777          1.6785               0  \n",
              "3         ASIAN     178980          0.0844               0  \n",
              "4         WHITE     107064          3.6729               0  \n",
              "...         ...        ...             ...             ...  \n",
              "57154     WHITE     109836          1.6425               0  \n",
              "57155     WHITE     115549          1.8588               0  \n",
              "57156     WHITE     144680          1.2967               0  \n",
              "57157     WHITE     175386          1.2688               0  \n",
              "57158     WHITE     167146          1.8437               0  \n",
              "\n",
              "[57159 rows x 19 columns]"
            ],
            "text/html": [
              "\n",
              "  <div id=\"df-58ee7b56-493a-4919-ba27-26741eaea173\">\n",
              "    <div class=\"colab-df-container\">\n",
              "      <div>\n",
              "<style scoped>\n",
              "    .dataframe tbody tr th:only-of-type {\n",
              "        vertical-align: middle;\n",
              "    }\n",
              "\n",
              "    .dataframe tbody tr th {\n",
              "        vertical-align: top;\n",
              "    }\n",
              "\n",
              "    .dataframe thead th {\n",
              "        text-align: right;\n",
              "    }\n",
              "</style>\n",
              "<table border=\"1\" class=\"dataframe\">\n",
              "  <thead>\n",
              "    <tr style=\"text-align: right;\">\n",
              "      <th></th>\n",
              "      <th>hadm_id</th>\n",
              "      <th>AVG_Urea_nitrogen</th>\n",
              "      <th>AVG_platelet</th>\n",
              "      <th>AVG_potassium</th>\n",
              "      <th>AVG_sodium</th>\n",
              "      <th>AVG_creatinine</th>\n",
              "      <th>AVG_leukocytes</th>\n",
              "      <th>AVG_sugar</th>\n",
              "      <th>AVG_albumin</th>\n",
              "      <th>SUBJECT_ID</th>\n",
              "      <th>HADM_ID:1</th>\n",
              "      <th>diagnosis_age</th>\n",
              "      <th>INSURANCE</th>\n",
              "      <th>MARITAL_STATUS</th>\n",
              "      <th>RELIGION</th>\n",
              "      <th>ETHNICITY</th>\n",
              "      <th>HADM_ID:2</th>\n",
              "      <th>total_icu_time</th>\n",
              "      <th>breast_outcome</th>\n",
              "    </tr>\n",
              "  </thead>\n",
              "  <tbody>\n",
              "    <tr>\n",
              "      <th>0</th>\n",
              "      <td>145834.0</td>\n",
              "      <td>NaN</td>\n",
              "      <td>210.866667</td>\n",
              "      <td>4.105263</td>\n",
              "      <td>137.555556</td>\n",
              "      <td>1.826667</td>\n",
              "      <td>12.533333</td>\n",
              "      <td>154.727273</td>\n",
              "      <td>1.800</td>\n",
              "      <td>3</td>\n",
              "      <td>145834</td>\n",
              "      <td>76</td>\n",
              "      <td>Medicare</td>\n",
              "      <td>MARRIED</td>\n",
              "      <td>CATHOLIC</td>\n",
              "      <td>WHITE</td>\n",
              "      <td>145834</td>\n",
              "      <td>6.0646</td>\n",
              "      <td>0</td>\n",
              "    </tr>\n",
              "    <tr>\n",
              "      <th>1</th>\n",
              "      <td>163353.0</td>\n",
              "      <td>NaN</td>\n",
              "      <td>153.500000</td>\n",
              "      <td>NaN</td>\n",
              "      <td>NaN</td>\n",
              "      <td>NaN</td>\n",
              "      <td>11.050000</td>\n",
              "      <td>NaN</td>\n",
              "      <td>NaN</td>\n",
              "      <td>2</td>\n",
              "      <td>163353</td>\n",
              "      <td>0</td>\n",
              "      <td>Private</td>\n",
              "      <td>None</td>\n",
              "      <td>NOT SPECIFIED</td>\n",
              "      <td>ASIAN</td>\n",
              "      <td>163353</td>\n",
              "      <td>0.0918</td>\n",
              "      <td>0</td>\n",
              "    </tr>\n",
              "    <tr>\n",
              "      <th>2</th>\n",
              "      <td>185777.0</td>\n",
              "      <td>NaN</td>\n",
              "      <td>286.428571</td>\n",
              "      <td>3.537500</td>\n",
              "      <td>137.750000</td>\n",
              "      <td>0.450000</td>\n",
              "      <td>9.442857</td>\n",
              "      <td>226.750000</td>\n",
              "      <td>2.800</td>\n",
              "      <td>4</td>\n",
              "      <td>185777</td>\n",
              "      <td>48</td>\n",
              "      <td>Private</td>\n",
              "      <td>SINGLE</td>\n",
              "      <td>PROTESTANT QUAKER</td>\n",
              "      <td>WHITE</td>\n",
              "      <td>185777</td>\n",
              "      <td>1.6785</td>\n",
              "      <td>0</td>\n",
              "    </tr>\n",
              "    <tr>\n",
              "      <th>3</th>\n",
              "      <td>178980.0</td>\n",
              "      <td>NaN</td>\n",
              "      <td>309.000000</td>\n",
              "      <td>NaN</td>\n",
              "      <td>NaN</td>\n",
              "      <td>NaN</td>\n",
              "      <td>13.900000</td>\n",
              "      <td>NaN</td>\n",
              "      <td>NaN</td>\n",
              "      <td>5</td>\n",
              "      <td>178980</td>\n",
              "      <td>0</td>\n",
              "      <td>Private</td>\n",
              "      <td>None</td>\n",
              "      <td>BUDDHIST</td>\n",
              "      <td>ASIAN</td>\n",
              "      <td>178980</td>\n",
              "      <td>0.0844</td>\n",
              "      <td>0</td>\n",
              "    </tr>\n",
              "    <tr>\n",
              "      <th>4</th>\n",
              "      <td>107064.0</td>\n",
              "      <td>NaN</td>\n",
              "      <td>247.947368</td>\n",
              "      <td>4.911765</td>\n",
              "      <td>134.411765</td>\n",
              "      <td>3.741176</td>\n",
              "      <td>13.589474</td>\n",
              "      <td>124.772727</td>\n",
              "      <td>2.875</td>\n",
              "      <td>6</td>\n",
              "      <td>107064</td>\n",
              "      <td>66</td>\n",
              "      <td>Medicare</td>\n",
              "      <td>MARRIED</td>\n",
              "      <td>NOT SPECIFIED</td>\n",
              "      <td>WHITE</td>\n",
              "      <td>107064</td>\n",
              "      <td>3.6729</td>\n",
              "      <td>0</td>\n",
              "    </tr>\n",
              "    <tr>\n",
              "      <th>...</th>\n",
              "      <td>...</td>\n",
              "      <td>...</td>\n",
              "      <td>...</td>\n",
              "      <td>...</td>\n",
              "      <td>...</td>\n",
              "      <td>...</td>\n",
              "      <td>...</td>\n",
              "      <td>...</td>\n",
              "      <td>...</td>\n",
              "      <td>...</td>\n",
              "      <td>...</td>\n",
              "      <td>...</td>\n",
              "      <td>...</td>\n",
              "      <td>...</td>\n",
              "      <td>...</td>\n",
              "      <td>...</td>\n",
              "      <td>...</td>\n",
              "      <td>...</td>\n",
              "      <td>...</td>\n",
              "    </tr>\n",
              "    <tr>\n",
              "      <th>57154</th>\n",
              "      <td>109836.0</td>\n",
              "      <td>NaN</td>\n",
              "      <td>226.000000</td>\n",
              "      <td>3.550000</td>\n",
              "      <td>140.000000</td>\n",
              "      <td>0.650000</td>\n",
              "      <td>5.550000</td>\n",
              "      <td>169.500000</td>\n",
              "      <td>NaN</td>\n",
              "      <td>98759</td>\n",
              "      <td>109836</td>\n",
              "      <td>69</td>\n",
              "      <td>Private</td>\n",
              "      <td>WIDOWED</td>\n",
              "      <td>CATHOLIC</td>\n",
              "      <td>WHITE</td>\n",
              "      <td>109836</td>\n",
              "      <td>1.6425</td>\n",
              "      <td>0</td>\n",
              "    </tr>\n",
              "    <tr>\n",
              "      <th>57155</th>\n",
              "      <td>115549.0</td>\n",
              "      <td>NaN</td>\n",
              "      <td>382.000000</td>\n",
              "      <td>4.075000</td>\n",
              "      <td>138.000000</td>\n",
              "      <td>0.850000</td>\n",
              "      <td>12.266667</td>\n",
              "      <td>92.500000</td>\n",
              "      <td>NaN</td>\n",
              "      <td>98939</td>\n",
              "      <td>115549</td>\n",
              "      <td>22</td>\n",
              "      <td>Government</td>\n",
              "      <td>SINGLE</td>\n",
              "      <td>NOT SPECIFIED</td>\n",
              "      <td>WHITE</td>\n",
              "      <td>115549</td>\n",
              "      <td>1.8588</td>\n",
              "      <td>0</td>\n",
              "    </tr>\n",
              "    <tr>\n",
              "      <th>57156</th>\n",
              "      <td>144680.0</td>\n",
              "      <td>NaN</td>\n",
              "      <td>179.500000</td>\n",
              "      <td>4.100000</td>\n",
              "      <td>136.500000</td>\n",
              "      <td>0.900000</td>\n",
              "      <td>13.400000</td>\n",
              "      <td>107.000000</td>\n",
              "      <td>NaN</td>\n",
              "      <td>98883</td>\n",
              "      <td>144680</td>\n",
              "      <td>24</td>\n",
              "      <td>Private</td>\n",
              "      <td>SINGLE</td>\n",
              "      <td>UNOBTAINABLE</td>\n",
              "      <td>WHITE</td>\n",
              "      <td>144680</td>\n",
              "      <td>1.2967</td>\n",
              "      <td>0</td>\n",
              "    </tr>\n",
              "    <tr>\n",
              "      <th>57157</th>\n",
              "      <td>175386.0</td>\n",
              "      <td>NaN</td>\n",
              "      <td>210.500000</td>\n",
              "      <td>4.033333</td>\n",
              "      <td>141.666667</td>\n",
              "      <td>0.566667</td>\n",
              "      <td>5.450000</td>\n",
              "      <td>125.333333</td>\n",
              "      <td>NaN</td>\n",
              "      <td>98759</td>\n",
              "      <td>175386</td>\n",
              "      <td>69</td>\n",
              "      <td>Private</td>\n",
              "      <td>WIDOWED</td>\n",
              "      <td>CATHOLIC</td>\n",
              "      <td>WHITE</td>\n",
              "      <td>175386</td>\n",
              "      <td>1.2688</td>\n",
              "      <td>0</td>\n",
              "    </tr>\n",
              "    <tr>\n",
              "      <th>57158</th>\n",
              "      <td>167146.0</td>\n",
              "      <td>NaN</td>\n",
              "      <td>253.333333</td>\n",
              "      <td>3.966667</td>\n",
              "      <td>137.666667</td>\n",
              "      <td>0.700000</td>\n",
              "      <td>4.933333</td>\n",
              "      <td>104.333333</td>\n",
              "      <td>NaN</td>\n",
              "      <td>98982</td>\n",
              "      <td>167146</td>\n",
              "      <td>79</td>\n",
              "      <td>Medicare</td>\n",
              "      <td>SINGLE</td>\n",
              "      <td>JEWISH</td>\n",
              "      <td>WHITE</td>\n",
              "      <td>167146</td>\n",
              "      <td>1.8437</td>\n",
              "      <td>0</td>\n",
              "    </tr>\n",
              "  </tbody>\n",
              "</table>\n",
              "<p>57159 rows × 19 columns</p>\n",
              "</div>\n",
              "      <button class=\"colab-df-convert\" onclick=\"convertToInteractive('df-58ee7b56-493a-4919-ba27-26741eaea173')\"\n",
              "              title=\"Convert this dataframe to an interactive table.\"\n",
              "              style=\"display:none;\">\n",
              "        \n",
              "  <svg xmlns=\"http://www.w3.org/2000/svg\" height=\"24px\"viewBox=\"0 0 24 24\"\n",
              "       width=\"24px\">\n",
              "    <path d=\"M0 0h24v24H0V0z\" fill=\"none\"/>\n",
              "    <path d=\"M18.56 5.44l.94 2.06.94-2.06 2.06-.94-2.06-.94-.94-2.06-.94 2.06-2.06.94zm-11 1L8.5 8.5l.94-2.06 2.06-.94-2.06-.94L8.5 2.5l-.94 2.06-2.06.94zm10 10l.94 2.06.94-2.06 2.06-.94-2.06-.94-.94-2.06-.94 2.06-2.06.94z\"/><path d=\"M17.41 7.96l-1.37-1.37c-.4-.4-.92-.59-1.43-.59-.52 0-1.04.2-1.43.59L10.3 9.45l-7.72 7.72c-.78.78-.78 2.05 0 2.83L4 21.41c.39.39.9.59 1.41.59.51 0 1.02-.2 1.41-.59l7.78-7.78 2.81-2.81c.8-.78.8-2.07 0-2.86zM5.41 20L4 18.59l7.72-7.72 1.47 1.35L5.41 20z\"/>\n",
              "  </svg>\n",
              "      </button>\n",
              "      \n",
              "  <style>\n",
              "    .colab-df-container {\n",
              "      display:flex;\n",
              "      flex-wrap:wrap;\n",
              "      gap: 12px;\n",
              "    }\n",
              "\n",
              "    .colab-df-convert {\n",
              "      background-color: #E8F0FE;\n",
              "      border: none;\n",
              "      border-radius: 50%;\n",
              "      cursor: pointer;\n",
              "      display: none;\n",
              "      fill: #1967D2;\n",
              "      height: 32px;\n",
              "      padding: 0 0 0 0;\n",
              "      width: 32px;\n",
              "    }\n",
              "\n",
              "    .colab-df-convert:hover {\n",
              "      background-color: #E2EBFA;\n",
              "      box-shadow: 0px 1px 2px rgba(60, 64, 67, 0.3), 0px 1px 3px 1px rgba(60, 64, 67, 0.15);\n",
              "      fill: #174EA6;\n",
              "    }\n",
              "\n",
              "    [theme=dark] .colab-df-convert {\n",
              "      background-color: #3B4455;\n",
              "      fill: #D2E3FC;\n",
              "    }\n",
              "\n",
              "    [theme=dark] .colab-df-convert:hover {\n",
              "      background-color: #434B5C;\n",
              "      box-shadow: 0px 1px 3px 1px rgba(0, 0, 0, 0.15);\n",
              "      filter: drop-shadow(0px 1px 2px rgba(0, 0, 0, 0.3));\n",
              "      fill: #FFFFFF;\n",
              "    }\n",
              "  </style>\n",
              "\n",
              "      <script>\n",
              "        const buttonEl =\n",
              "          document.querySelector('#df-58ee7b56-493a-4919-ba27-26741eaea173 button.colab-df-convert');\n",
              "        buttonEl.style.display =\n",
              "          google.colab.kernel.accessAllowed ? 'block' : 'none';\n",
              "\n",
              "        async function convertToInteractive(key) {\n",
              "          const element = document.querySelector('#df-58ee7b56-493a-4919-ba27-26741eaea173');\n",
              "          const dataTable =\n",
              "            await google.colab.kernel.invokeFunction('convertToInteractive',\n",
              "                                                     [key], {});\n",
              "          if (!dataTable) return;\n",
              "\n",
              "          const docLinkHtml = 'Like what you see? Visit the ' +\n",
              "            '<a target=\"_blank\" href=https://colab.research.google.com/notebooks/data_table.ipynb>data table notebook</a>'\n",
              "            + ' to learn more about interactive tables.';\n",
              "          element.innerHTML = '';\n",
              "          dataTable['output_type'] = 'display_data';\n",
              "          await google.colab.output.renderOutput(dataTable, element);\n",
              "          const docLink = document.createElement('div');\n",
              "          docLink.innerHTML = docLinkHtml;\n",
              "          element.appendChild(docLink);\n",
              "        }\n",
              "      </script>\n",
              "    </div>\n",
              "  </div>\n",
              "  "
            ]
          },
          "metadata": {}
        }
      ]
    },
    {
      "cell_type": "markdown",
      "source": [
        "Check NAs"
      ],
      "metadata": {
        "id": "9gICzLA6PIY_"
      }
    },
    {
      "cell_type": "code",
      "source": [
        "data.isnull().sum()"
      ],
      "metadata": {
        "colab": {
          "base_uri": "https://localhost:8080/"
        },
        "id": "9ixxFbSLFkmu",
        "outputId": "b1c96f0f-231a-4879-efa8-b1fbaa585176"
      },
      "execution_count": null,
      "outputs": [
        {
          "output_type": "execute_result",
          "data": {
            "text/plain": [
              "hadm_id                  0\n",
              "AVG_Urea_nitrogen    57145\n",
              "AVG_platelet          1040\n",
              "AVG_potassium         5126\n",
              "AVG_sodium            5138\n",
              "AVG_creatinine        7011\n",
              "AVG_leukocytes        1024\n",
              "AVG_sugar             7356\n",
              "AVG_albumin          26385\n",
              "SUBJECT_ID               0\n",
              "HADM_ID:1                0\n",
              "diagnosis_age            0\n",
              "INSURANCE                0\n",
              "MARITAL_STATUS        9750\n",
              "RELIGION               454\n",
              "ETHNICITY                0\n",
              "HADM_ID:2                0\n",
              "total_icu_time          10\n",
              "breast_outcome           0\n",
              "dtype: int64"
            ]
          },
          "metadata": {},
          "execution_count": 35
        }
      ]
    },
    {
      "cell_type": "markdown",
      "source": [
        "After going though the Nan summary, we can find the columns (AVG_Urea_nitrogen, AVG_creatinine, AVG_sugar, AVG_albumin, MARITAL_STATUS) have more than 10% missing values. Based on this fact, I will take out these columns."
      ],
      "metadata": {
        "id": "60oNm98bR0KZ"
      }
    },
    {
      "cell_type": "code",
      "source": [
        "columns = ['AVG_Urea_nitrogen','AVG_creatinine','AVG_sugar','AVG_albumin','MARITAL_STATUS','SUBJECT_ID','HADM_ID:1','HADM_ID:2','hadm_id']\n",
        "data = data.drop(columns, axis=1)\n",
        "data"
      ],
      "metadata": {
        "colab": {
          "base_uri": "https://localhost:8080/",
          "height": 468
        },
        "id": "K9q_abkTFkpw",
        "outputId": "35e670a3-3e73-4440-ba26-7721d45bc500"
      },
      "execution_count": null,
      "outputs": [
        {
          "output_type": "execute_result",
          "data": {
            "text/plain": [
              "       AVG_platelet  AVG_potassium  AVG_sodium  AVG_leukocytes  diagnosis_age  \\\n",
              "0        210.866667       4.105263  137.555556       12.533333             76   \n",
              "1        153.500000            NaN         NaN       11.050000              0   \n",
              "2        286.428571       3.537500  137.750000        9.442857             48   \n",
              "3        309.000000            NaN         NaN       13.900000              0   \n",
              "4        247.947368       4.911765  134.411765       13.589474             66   \n",
              "...             ...            ...         ...             ...            ...   \n",
              "57154    226.000000       3.550000  140.000000        5.550000             69   \n",
              "57155    382.000000       4.075000  138.000000       12.266667             22   \n",
              "57156    179.500000       4.100000  136.500000       13.400000             24   \n",
              "57157    210.500000       4.033333  141.666667        5.450000             69   \n",
              "57158    253.333333       3.966667  137.666667        4.933333             79   \n",
              "\n",
              "        INSURANCE           RELIGION ETHNICITY  total_icu_time  breast_outcome  \n",
              "0        Medicare           CATHOLIC     WHITE          6.0646               0  \n",
              "1         Private      NOT SPECIFIED     ASIAN          0.0918               0  \n",
              "2         Private  PROTESTANT QUAKER     WHITE          1.6785               0  \n",
              "3         Private           BUDDHIST     ASIAN          0.0844               0  \n",
              "4        Medicare      NOT SPECIFIED     WHITE          3.6729               0  \n",
              "...           ...                ...       ...             ...             ...  \n",
              "57154     Private           CATHOLIC     WHITE          1.6425               0  \n",
              "57155  Government      NOT SPECIFIED     WHITE          1.8588               0  \n",
              "57156     Private       UNOBTAINABLE     WHITE          1.2967               0  \n",
              "57157     Private           CATHOLIC     WHITE          1.2688               0  \n",
              "57158    Medicare             JEWISH     WHITE          1.8437               0  \n",
              "\n",
              "[57159 rows x 10 columns]"
            ],
            "text/html": [
              "\n",
              "  <div id=\"df-5a813937-19cf-4dbf-ad40-b8ec7dc89408\">\n",
              "    <div class=\"colab-df-container\">\n",
              "      <div>\n",
              "<style scoped>\n",
              "    .dataframe tbody tr th:only-of-type {\n",
              "        vertical-align: middle;\n",
              "    }\n",
              "\n",
              "    .dataframe tbody tr th {\n",
              "        vertical-align: top;\n",
              "    }\n",
              "\n",
              "    .dataframe thead th {\n",
              "        text-align: right;\n",
              "    }\n",
              "</style>\n",
              "<table border=\"1\" class=\"dataframe\">\n",
              "  <thead>\n",
              "    <tr style=\"text-align: right;\">\n",
              "      <th></th>\n",
              "      <th>AVG_platelet</th>\n",
              "      <th>AVG_potassium</th>\n",
              "      <th>AVG_sodium</th>\n",
              "      <th>AVG_leukocytes</th>\n",
              "      <th>diagnosis_age</th>\n",
              "      <th>INSURANCE</th>\n",
              "      <th>RELIGION</th>\n",
              "      <th>ETHNICITY</th>\n",
              "      <th>total_icu_time</th>\n",
              "      <th>breast_outcome</th>\n",
              "    </tr>\n",
              "  </thead>\n",
              "  <tbody>\n",
              "    <tr>\n",
              "      <th>0</th>\n",
              "      <td>210.866667</td>\n",
              "      <td>4.105263</td>\n",
              "      <td>137.555556</td>\n",
              "      <td>12.533333</td>\n",
              "      <td>76</td>\n",
              "      <td>Medicare</td>\n",
              "      <td>CATHOLIC</td>\n",
              "      <td>WHITE</td>\n",
              "      <td>6.0646</td>\n",
              "      <td>0</td>\n",
              "    </tr>\n",
              "    <tr>\n",
              "      <th>1</th>\n",
              "      <td>153.500000</td>\n",
              "      <td>NaN</td>\n",
              "      <td>NaN</td>\n",
              "      <td>11.050000</td>\n",
              "      <td>0</td>\n",
              "      <td>Private</td>\n",
              "      <td>NOT SPECIFIED</td>\n",
              "      <td>ASIAN</td>\n",
              "      <td>0.0918</td>\n",
              "      <td>0</td>\n",
              "    </tr>\n",
              "    <tr>\n",
              "      <th>2</th>\n",
              "      <td>286.428571</td>\n",
              "      <td>3.537500</td>\n",
              "      <td>137.750000</td>\n",
              "      <td>9.442857</td>\n",
              "      <td>48</td>\n",
              "      <td>Private</td>\n",
              "      <td>PROTESTANT QUAKER</td>\n",
              "      <td>WHITE</td>\n",
              "      <td>1.6785</td>\n",
              "      <td>0</td>\n",
              "    </tr>\n",
              "    <tr>\n",
              "      <th>3</th>\n",
              "      <td>309.000000</td>\n",
              "      <td>NaN</td>\n",
              "      <td>NaN</td>\n",
              "      <td>13.900000</td>\n",
              "      <td>0</td>\n",
              "      <td>Private</td>\n",
              "      <td>BUDDHIST</td>\n",
              "      <td>ASIAN</td>\n",
              "      <td>0.0844</td>\n",
              "      <td>0</td>\n",
              "    </tr>\n",
              "    <tr>\n",
              "      <th>4</th>\n",
              "      <td>247.947368</td>\n",
              "      <td>4.911765</td>\n",
              "      <td>134.411765</td>\n",
              "      <td>13.589474</td>\n",
              "      <td>66</td>\n",
              "      <td>Medicare</td>\n",
              "      <td>NOT SPECIFIED</td>\n",
              "      <td>WHITE</td>\n",
              "      <td>3.6729</td>\n",
              "      <td>0</td>\n",
              "    </tr>\n",
              "    <tr>\n",
              "      <th>...</th>\n",
              "      <td>...</td>\n",
              "      <td>...</td>\n",
              "      <td>...</td>\n",
              "      <td>...</td>\n",
              "      <td>...</td>\n",
              "      <td>...</td>\n",
              "      <td>...</td>\n",
              "      <td>...</td>\n",
              "      <td>...</td>\n",
              "      <td>...</td>\n",
              "    </tr>\n",
              "    <tr>\n",
              "      <th>57154</th>\n",
              "      <td>226.000000</td>\n",
              "      <td>3.550000</td>\n",
              "      <td>140.000000</td>\n",
              "      <td>5.550000</td>\n",
              "      <td>69</td>\n",
              "      <td>Private</td>\n",
              "      <td>CATHOLIC</td>\n",
              "      <td>WHITE</td>\n",
              "      <td>1.6425</td>\n",
              "      <td>0</td>\n",
              "    </tr>\n",
              "    <tr>\n",
              "      <th>57155</th>\n",
              "      <td>382.000000</td>\n",
              "      <td>4.075000</td>\n",
              "      <td>138.000000</td>\n",
              "      <td>12.266667</td>\n",
              "      <td>22</td>\n",
              "      <td>Government</td>\n",
              "      <td>NOT SPECIFIED</td>\n",
              "      <td>WHITE</td>\n",
              "      <td>1.8588</td>\n",
              "      <td>0</td>\n",
              "    </tr>\n",
              "    <tr>\n",
              "      <th>57156</th>\n",
              "      <td>179.500000</td>\n",
              "      <td>4.100000</td>\n",
              "      <td>136.500000</td>\n",
              "      <td>13.400000</td>\n",
              "      <td>24</td>\n",
              "      <td>Private</td>\n",
              "      <td>UNOBTAINABLE</td>\n",
              "      <td>WHITE</td>\n",
              "      <td>1.2967</td>\n",
              "      <td>0</td>\n",
              "    </tr>\n",
              "    <tr>\n",
              "      <th>57157</th>\n",
              "      <td>210.500000</td>\n",
              "      <td>4.033333</td>\n",
              "      <td>141.666667</td>\n",
              "      <td>5.450000</td>\n",
              "      <td>69</td>\n",
              "      <td>Private</td>\n",
              "      <td>CATHOLIC</td>\n",
              "      <td>WHITE</td>\n",
              "      <td>1.2688</td>\n",
              "      <td>0</td>\n",
              "    </tr>\n",
              "    <tr>\n",
              "      <th>57158</th>\n",
              "      <td>253.333333</td>\n",
              "      <td>3.966667</td>\n",
              "      <td>137.666667</td>\n",
              "      <td>4.933333</td>\n",
              "      <td>79</td>\n",
              "      <td>Medicare</td>\n",
              "      <td>JEWISH</td>\n",
              "      <td>WHITE</td>\n",
              "      <td>1.8437</td>\n",
              "      <td>0</td>\n",
              "    </tr>\n",
              "  </tbody>\n",
              "</table>\n",
              "<p>57159 rows × 10 columns</p>\n",
              "</div>\n",
              "      <button class=\"colab-df-convert\" onclick=\"convertToInteractive('df-5a813937-19cf-4dbf-ad40-b8ec7dc89408')\"\n",
              "              title=\"Convert this dataframe to an interactive table.\"\n",
              "              style=\"display:none;\">\n",
              "        \n",
              "  <svg xmlns=\"http://www.w3.org/2000/svg\" height=\"24px\"viewBox=\"0 0 24 24\"\n",
              "       width=\"24px\">\n",
              "    <path d=\"M0 0h24v24H0V0z\" fill=\"none\"/>\n",
              "    <path d=\"M18.56 5.44l.94 2.06.94-2.06 2.06-.94-2.06-.94-.94-2.06-.94 2.06-2.06.94zm-11 1L8.5 8.5l.94-2.06 2.06-.94-2.06-.94L8.5 2.5l-.94 2.06-2.06.94zm10 10l.94 2.06.94-2.06 2.06-.94-2.06-.94-.94-2.06-.94 2.06-2.06.94z\"/><path d=\"M17.41 7.96l-1.37-1.37c-.4-.4-.92-.59-1.43-.59-.52 0-1.04.2-1.43.59L10.3 9.45l-7.72 7.72c-.78.78-.78 2.05 0 2.83L4 21.41c.39.39.9.59 1.41.59.51 0 1.02-.2 1.41-.59l7.78-7.78 2.81-2.81c.8-.78.8-2.07 0-2.86zM5.41 20L4 18.59l7.72-7.72 1.47 1.35L5.41 20z\"/>\n",
              "  </svg>\n",
              "      </button>\n",
              "      \n",
              "  <style>\n",
              "    .colab-df-container {\n",
              "      display:flex;\n",
              "      flex-wrap:wrap;\n",
              "      gap: 12px;\n",
              "    }\n",
              "\n",
              "    .colab-df-convert {\n",
              "      background-color: #E8F0FE;\n",
              "      border: none;\n",
              "      border-radius: 50%;\n",
              "      cursor: pointer;\n",
              "      display: none;\n",
              "      fill: #1967D2;\n",
              "      height: 32px;\n",
              "      padding: 0 0 0 0;\n",
              "      width: 32px;\n",
              "    }\n",
              "\n",
              "    .colab-df-convert:hover {\n",
              "      background-color: #E2EBFA;\n",
              "      box-shadow: 0px 1px 2px rgba(60, 64, 67, 0.3), 0px 1px 3px 1px rgba(60, 64, 67, 0.15);\n",
              "      fill: #174EA6;\n",
              "    }\n",
              "\n",
              "    [theme=dark] .colab-df-convert {\n",
              "      background-color: #3B4455;\n",
              "      fill: #D2E3FC;\n",
              "    }\n",
              "\n",
              "    [theme=dark] .colab-df-convert:hover {\n",
              "      background-color: #434B5C;\n",
              "      box-shadow: 0px 1px 3px 1px rgba(0, 0, 0, 0.15);\n",
              "      filter: drop-shadow(0px 1px 2px rgba(0, 0, 0, 0.3));\n",
              "      fill: #FFFFFF;\n",
              "    }\n",
              "  </style>\n",
              "\n",
              "      <script>\n",
              "        const buttonEl =\n",
              "          document.querySelector('#df-5a813937-19cf-4dbf-ad40-b8ec7dc89408 button.colab-df-convert');\n",
              "        buttonEl.style.display =\n",
              "          google.colab.kernel.accessAllowed ? 'block' : 'none';\n",
              "\n",
              "        async function convertToInteractive(key) {\n",
              "          const element = document.querySelector('#df-5a813937-19cf-4dbf-ad40-b8ec7dc89408');\n",
              "          const dataTable =\n",
              "            await google.colab.kernel.invokeFunction('convertToInteractive',\n",
              "                                                     [key], {});\n",
              "          if (!dataTable) return;\n",
              "\n",
              "          const docLinkHtml = 'Like what you see? Visit the ' +\n",
              "            '<a target=\"_blank\" href=https://colab.research.google.com/notebooks/data_table.ipynb>data table notebook</a>'\n",
              "            + ' to learn more about interactive tables.';\n",
              "          element.innerHTML = '';\n",
              "          dataTable['output_type'] = 'display_data';\n",
              "          await google.colab.output.renderOutput(dataTable, element);\n",
              "          const docLink = document.createElement('div');\n",
              "          docLink.innerHTML = docLinkHtml;\n",
              "          element.appendChild(docLink);\n",
              "        }\n",
              "      </script>\n",
              "    </div>\n",
              "  </div>\n",
              "  "
            ]
          },
          "metadata": {},
          "execution_count": 36
        }
      ]
    },
    {
      "cell_type": "markdown",
      "source": [
        "Let's replace with the NaN valus with mean value"
      ],
      "metadata": {
        "id": "1TKVNku9U-oN"
      }
    },
    {
      "cell_type": "code",
      "source": [
        "data = data.fillna(data.mean())\n",
        "data"
      ],
      "metadata": {
        "colab": {
          "base_uri": "https://localhost:8080/",
          "height": 524
        },
        "id": "g78CeBFOScPX",
        "outputId": "ad0190b9-08d9-44ce-8f09-759e2c491f3c"
      },
      "execution_count": null,
      "outputs": [
        {
          "output_type": "stream",
          "name": "stderr",
          "text": [
            "/usr/local/lib/python3.7/dist-packages/ipykernel_launcher.py:1: FutureWarning: Dropping of nuisance columns in DataFrame reductions (with 'numeric_only=None') is deprecated; in a future version this will raise TypeError.  Select only valid columns before calling the reduction.\n",
            "  \"\"\"Entry point for launching an IPython kernel.\n"
          ]
        },
        {
          "output_type": "execute_result",
          "data": {
            "text/plain": [
              "       AVG_platelet  AVG_potassium  AVG_sodium  AVG_leukocytes  diagnosis_age  \\\n",
              "0        210.866667       4.105263  137.555556       12.533333             76   \n",
              "1        153.500000       4.163596  138.736050       11.050000              0   \n",
              "2        286.428571       3.537500  137.750000        9.442857             48   \n",
              "3        309.000000       4.163596  138.736050       13.900000              0   \n",
              "4        247.947368       4.911765  134.411765       13.589474             66   \n",
              "...             ...            ...         ...             ...            ...   \n",
              "57154    226.000000       3.550000  140.000000        5.550000             69   \n",
              "57155    382.000000       4.075000  138.000000       12.266667             22   \n",
              "57156    179.500000       4.100000  136.500000       13.400000             24   \n",
              "57157    210.500000       4.033333  141.666667        5.450000             69   \n",
              "57158    253.333333       3.966667  137.666667        4.933333             79   \n",
              "\n",
              "        INSURANCE           RELIGION ETHNICITY  total_icu_time  breast_outcome  \n",
              "0        Medicare           CATHOLIC     WHITE          6.0646               0  \n",
              "1         Private      NOT SPECIFIED     ASIAN          0.0918               0  \n",
              "2         Private  PROTESTANT QUAKER     WHITE          1.6785               0  \n",
              "3         Private           BUDDHIST     ASIAN          0.0844               0  \n",
              "4        Medicare      NOT SPECIFIED     WHITE          3.6729               0  \n",
              "...           ...                ...       ...             ...             ...  \n",
              "57154     Private           CATHOLIC     WHITE          1.6425               0  \n",
              "57155  Government      NOT SPECIFIED     WHITE          1.8588               0  \n",
              "57156     Private       UNOBTAINABLE     WHITE          1.2967               0  \n",
              "57157     Private           CATHOLIC     WHITE          1.2688               0  \n",
              "57158    Medicare             JEWISH     WHITE          1.8437               0  \n",
              "\n",
              "[57159 rows x 10 columns]"
            ],
            "text/html": [
              "\n",
              "  <div id=\"df-bc6a0d07-1b21-4d37-a475-723b39e7ba20\">\n",
              "    <div class=\"colab-df-container\">\n",
              "      <div>\n",
              "<style scoped>\n",
              "    .dataframe tbody tr th:only-of-type {\n",
              "        vertical-align: middle;\n",
              "    }\n",
              "\n",
              "    .dataframe tbody tr th {\n",
              "        vertical-align: top;\n",
              "    }\n",
              "\n",
              "    .dataframe thead th {\n",
              "        text-align: right;\n",
              "    }\n",
              "</style>\n",
              "<table border=\"1\" class=\"dataframe\">\n",
              "  <thead>\n",
              "    <tr style=\"text-align: right;\">\n",
              "      <th></th>\n",
              "      <th>AVG_platelet</th>\n",
              "      <th>AVG_potassium</th>\n",
              "      <th>AVG_sodium</th>\n",
              "      <th>AVG_leukocytes</th>\n",
              "      <th>diagnosis_age</th>\n",
              "      <th>INSURANCE</th>\n",
              "      <th>RELIGION</th>\n",
              "      <th>ETHNICITY</th>\n",
              "      <th>total_icu_time</th>\n",
              "      <th>breast_outcome</th>\n",
              "    </tr>\n",
              "  </thead>\n",
              "  <tbody>\n",
              "    <tr>\n",
              "      <th>0</th>\n",
              "      <td>210.866667</td>\n",
              "      <td>4.105263</td>\n",
              "      <td>137.555556</td>\n",
              "      <td>12.533333</td>\n",
              "      <td>76</td>\n",
              "      <td>Medicare</td>\n",
              "      <td>CATHOLIC</td>\n",
              "      <td>WHITE</td>\n",
              "      <td>6.0646</td>\n",
              "      <td>0</td>\n",
              "    </tr>\n",
              "    <tr>\n",
              "      <th>1</th>\n",
              "      <td>153.500000</td>\n",
              "      <td>4.163596</td>\n",
              "      <td>138.736050</td>\n",
              "      <td>11.050000</td>\n",
              "      <td>0</td>\n",
              "      <td>Private</td>\n",
              "      <td>NOT SPECIFIED</td>\n",
              "      <td>ASIAN</td>\n",
              "      <td>0.0918</td>\n",
              "      <td>0</td>\n",
              "    </tr>\n",
              "    <tr>\n",
              "      <th>2</th>\n",
              "      <td>286.428571</td>\n",
              "      <td>3.537500</td>\n",
              "      <td>137.750000</td>\n",
              "      <td>9.442857</td>\n",
              "      <td>48</td>\n",
              "      <td>Private</td>\n",
              "      <td>PROTESTANT QUAKER</td>\n",
              "      <td>WHITE</td>\n",
              "      <td>1.6785</td>\n",
              "      <td>0</td>\n",
              "    </tr>\n",
              "    <tr>\n",
              "      <th>3</th>\n",
              "      <td>309.000000</td>\n",
              "      <td>4.163596</td>\n",
              "      <td>138.736050</td>\n",
              "      <td>13.900000</td>\n",
              "      <td>0</td>\n",
              "      <td>Private</td>\n",
              "      <td>BUDDHIST</td>\n",
              "      <td>ASIAN</td>\n",
              "      <td>0.0844</td>\n",
              "      <td>0</td>\n",
              "    </tr>\n",
              "    <tr>\n",
              "      <th>4</th>\n",
              "      <td>247.947368</td>\n",
              "      <td>4.911765</td>\n",
              "      <td>134.411765</td>\n",
              "      <td>13.589474</td>\n",
              "      <td>66</td>\n",
              "      <td>Medicare</td>\n",
              "      <td>NOT SPECIFIED</td>\n",
              "      <td>WHITE</td>\n",
              "      <td>3.6729</td>\n",
              "      <td>0</td>\n",
              "    </tr>\n",
              "    <tr>\n",
              "      <th>...</th>\n",
              "      <td>...</td>\n",
              "      <td>...</td>\n",
              "      <td>...</td>\n",
              "      <td>...</td>\n",
              "      <td>...</td>\n",
              "      <td>...</td>\n",
              "      <td>...</td>\n",
              "      <td>...</td>\n",
              "      <td>...</td>\n",
              "      <td>...</td>\n",
              "    </tr>\n",
              "    <tr>\n",
              "      <th>57154</th>\n",
              "      <td>226.000000</td>\n",
              "      <td>3.550000</td>\n",
              "      <td>140.000000</td>\n",
              "      <td>5.550000</td>\n",
              "      <td>69</td>\n",
              "      <td>Private</td>\n",
              "      <td>CATHOLIC</td>\n",
              "      <td>WHITE</td>\n",
              "      <td>1.6425</td>\n",
              "      <td>0</td>\n",
              "    </tr>\n",
              "    <tr>\n",
              "      <th>57155</th>\n",
              "      <td>382.000000</td>\n",
              "      <td>4.075000</td>\n",
              "      <td>138.000000</td>\n",
              "      <td>12.266667</td>\n",
              "      <td>22</td>\n",
              "      <td>Government</td>\n",
              "      <td>NOT SPECIFIED</td>\n",
              "      <td>WHITE</td>\n",
              "      <td>1.8588</td>\n",
              "      <td>0</td>\n",
              "    </tr>\n",
              "    <tr>\n",
              "      <th>57156</th>\n",
              "      <td>179.500000</td>\n",
              "      <td>4.100000</td>\n",
              "      <td>136.500000</td>\n",
              "      <td>13.400000</td>\n",
              "      <td>24</td>\n",
              "      <td>Private</td>\n",
              "      <td>UNOBTAINABLE</td>\n",
              "      <td>WHITE</td>\n",
              "      <td>1.2967</td>\n",
              "      <td>0</td>\n",
              "    </tr>\n",
              "    <tr>\n",
              "      <th>57157</th>\n",
              "      <td>210.500000</td>\n",
              "      <td>4.033333</td>\n",
              "      <td>141.666667</td>\n",
              "      <td>5.450000</td>\n",
              "      <td>69</td>\n",
              "      <td>Private</td>\n",
              "      <td>CATHOLIC</td>\n",
              "      <td>WHITE</td>\n",
              "      <td>1.2688</td>\n",
              "      <td>0</td>\n",
              "    </tr>\n",
              "    <tr>\n",
              "      <th>57158</th>\n",
              "      <td>253.333333</td>\n",
              "      <td>3.966667</td>\n",
              "      <td>137.666667</td>\n",
              "      <td>4.933333</td>\n",
              "      <td>79</td>\n",
              "      <td>Medicare</td>\n",
              "      <td>JEWISH</td>\n",
              "      <td>WHITE</td>\n",
              "      <td>1.8437</td>\n",
              "      <td>0</td>\n",
              "    </tr>\n",
              "  </tbody>\n",
              "</table>\n",
              "<p>57159 rows × 10 columns</p>\n",
              "</div>\n",
              "      <button class=\"colab-df-convert\" onclick=\"convertToInteractive('df-bc6a0d07-1b21-4d37-a475-723b39e7ba20')\"\n",
              "              title=\"Convert this dataframe to an interactive table.\"\n",
              "              style=\"display:none;\">\n",
              "        \n",
              "  <svg xmlns=\"http://www.w3.org/2000/svg\" height=\"24px\"viewBox=\"0 0 24 24\"\n",
              "       width=\"24px\">\n",
              "    <path d=\"M0 0h24v24H0V0z\" fill=\"none\"/>\n",
              "    <path d=\"M18.56 5.44l.94 2.06.94-2.06 2.06-.94-2.06-.94-.94-2.06-.94 2.06-2.06.94zm-11 1L8.5 8.5l.94-2.06 2.06-.94-2.06-.94L8.5 2.5l-.94 2.06-2.06.94zm10 10l.94 2.06.94-2.06 2.06-.94-2.06-.94-.94-2.06-.94 2.06-2.06.94z\"/><path d=\"M17.41 7.96l-1.37-1.37c-.4-.4-.92-.59-1.43-.59-.52 0-1.04.2-1.43.59L10.3 9.45l-7.72 7.72c-.78.78-.78 2.05 0 2.83L4 21.41c.39.39.9.59 1.41.59.51 0 1.02-.2 1.41-.59l7.78-7.78 2.81-2.81c.8-.78.8-2.07 0-2.86zM5.41 20L4 18.59l7.72-7.72 1.47 1.35L5.41 20z\"/>\n",
              "  </svg>\n",
              "      </button>\n",
              "      \n",
              "  <style>\n",
              "    .colab-df-container {\n",
              "      display:flex;\n",
              "      flex-wrap:wrap;\n",
              "      gap: 12px;\n",
              "    }\n",
              "\n",
              "    .colab-df-convert {\n",
              "      background-color: #E8F0FE;\n",
              "      border: none;\n",
              "      border-radius: 50%;\n",
              "      cursor: pointer;\n",
              "      display: none;\n",
              "      fill: #1967D2;\n",
              "      height: 32px;\n",
              "      padding: 0 0 0 0;\n",
              "      width: 32px;\n",
              "    }\n",
              "\n",
              "    .colab-df-convert:hover {\n",
              "      background-color: #E2EBFA;\n",
              "      box-shadow: 0px 1px 2px rgba(60, 64, 67, 0.3), 0px 1px 3px 1px rgba(60, 64, 67, 0.15);\n",
              "      fill: #174EA6;\n",
              "    }\n",
              "\n",
              "    [theme=dark] .colab-df-convert {\n",
              "      background-color: #3B4455;\n",
              "      fill: #D2E3FC;\n",
              "    }\n",
              "\n",
              "    [theme=dark] .colab-df-convert:hover {\n",
              "      background-color: #434B5C;\n",
              "      box-shadow: 0px 1px 3px 1px rgba(0, 0, 0, 0.15);\n",
              "      filter: drop-shadow(0px 1px 2px rgba(0, 0, 0, 0.3));\n",
              "      fill: #FFFFFF;\n",
              "    }\n",
              "  </style>\n",
              "\n",
              "      <script>\n",
              "        const buttonEl =\n",
              "          document.querySelector('#df-bc6a0d07-1b21-4d37-a475-723b39e7ba20 button.colab-df-convert');\n",
              "        buttonEl.style.display =\n",
              "          google.colab.kernel.accessAllowed ? 'block' : 'none';\n",
              "\n",
              "        async function convertToInteractive(key) {\n",
              "          const element = document.querySelector('#df-bc6a0d07-1b21-4d37-a475-723b39e7ba20');\n",
              "          const dataTable =\n",
              "            await google.colab.kernel.invokeFunction('convertToInteractive',\n",
              "                                                     [key], {});\n",
              "          if (!dataTable) return;\n",
              "\n",
              "          const docLinkHtml = 'Like what you see? Visit the ' +\n",
              "            '<a target=\"_blank\" href=https://colab.research.google.com/notebooks/data_table.ipynb>data table notebook</a>'\n",
              "            + ' to learn more about interactive tables.';\n",
              "          element.innerHTML = '';\n",
              "          dataTable['output_type'] = 'display_data';\n",
              "          await google.colab.output.renderOutput(dataTable, element);\n",
              "          const docLink = document.createElement('div');\n",
              "          docLink.innerHTML = docLinkHtml;\n",
              "          element.appendChild(docLink);\n",
              "        }\n",
              "      </script>\n",
              "    </div>\n",
              "  </div>\n",
              "  "
            ]
          },
          "metadata": {},
          "execution_count": 37
        }
      ]
    },
    {
      "cell_type": "markdown",
      "source": [
        "Transform categorical variables into dummy variables"
      ],
      "metadata": {
        "id": "4c2t-Xi_beuQ"
      }
    },
    {
      "cell_type": "code",
      "source": [
        "data = pd.get_dummies(data)\n",
        "data"
      ],
      "metadata": {
        "colab": {
          "base_uri": "https://localhost:8080/",
          "height": 522
        },
        "id": "dUkmxNanWf6f",
        "outputId": "32abba81-c0fd-41a5-d3f8-01fd22e2997c"
      },
      "execution_count": null,
      "outputs": [
        {
          "output_type": "execute_result",
          "data": {
            "text/plain": [
              "       AVG_platelet  AVG_potassium  AVG_sodium  AVG_leukocytes  diagnosis_age  \\\n",
              "0        210.866667       4.105263  137.555556       12.533333             76   \n",
              "1        153.500000       4.163596  138.736050       11.050000              0   \n",
              "2        286.428571       3.537500  137.750000        9.442857             48   \n",
              "3        309.000000       4.163596  138.736050       13.900000              0   \n",
              "4        247.947368       4.911765  134.411765       13.589474             66   \n",
              "...             ...            ...         ...             ...            ...   \n",
              "57154    226.000000       3.550000  140.000000        5.550000             69   \n",
              "57155    382.000000       4.075000  138.000000       12.266667             22   \n",
              "57156    179.500000       4.100000  136.500000       13.400000             24   \n",
              "57157    210.500000       4.033333  141.666667        5.450000             69   \n",
              "57158    253.333333       3.966667  137.666667        4.933333             79   \n",
              "\n",
              "       total_icu_time  breast_outcome  INSURANCE_Government  \\\n",
              "0              6.0646               0                     0   \n",
              "1              0.0918               0                     0   \n",
              "2              1.6785               0                     0   \n",
              "3              0.0844               0                     0   \n",
              "4              3.6729               0                     0   \n",
              "...               ...             ...                   ...   \n",
              "57154          1.6425               0                     0   \n",
              "57155          1.8588               0                     1   \n",
              "57156          1.2967               0                     0   \n",
              "57157          1.2688               0                     0   \n",
              "57158          1.8437               0                     0   \n",
              "\n",
              "       INSURANCE_Medicaid  INSURANCE_Medicare  ...  \\\n",
              "0                       0                   1  ...   \n",
              "1                       0                   0  ...   \n",
              "2                       0                   0  ...   \n",
              "3                       0                   0  ...   \n",
              "4                       0                   1  ...   \n",
              "...                   ...                 ...  ...   \n",
              "57154                   0                   0  ...   \n",
              "57155                   0                   0  ...   \n",
              "57156                   0                   0  ...   \n",
              "57157                   0                   0  ...   \n",
              "57158                   0                   1  ...   \n",
              "\n",
              "       ETHNICITY_PATIENT DECLINED TO ANSWER  ETHNICITY_PORTUGUESE  \\\n",
              "0                                         0                     0   \n",
              "1                                         0                     0   \n",
              "2                                         0                     0   \n",
              "3                                         0                     0   \n",
              "4                                         0                     0   \n",
              "...                                     ...                   ...   \n",
              "57154                                     0                     0   \n",
              "57155                                     0                     0   \n",
              "57156                                     0                     0   \n",
              "57157                                     0                     0   \n",
              "57158                                     0                     0   \n",
              "\n",
              "       ETHNICITY_SOUTH AMERICAN  ETHNICITY_UNABLE TO OBTAIN  \\\n",
              "0                             0                           0   \n",
              "1                             0                           0   \n",
              "2                             0                           0   \n",
              "3                             0                           0   \n",
              "4                             0                           0   \n",
              "...                         ...                         ...   \n",
              "57154                         0                           0   \n",
              "57155                         0                           0   \n",
              "57156                         0                           0   \n",
              "57157                         0                           0   \n",
              "57158                         0                           0   \n",
              "\n",
              "       ETHNICITY_UNKNOWN/NOT SPECIFIED  ETHNICITY_WHITE  \\\n",
              "0                                    0                1   \n",
              "1                                    0                0   \n",
              "2                                    0                1   \n",
              "3                                    0                0   \n",
              "4                                    0                1   \n",
              "...                                ...              ...   \n",
              "57154                                0                1   \n",
              "57155                                0                1   \n",
              "57156                                0                1   \n",
              "57157                                0                1   \n",
              "57158                                0                1   \n",
              "\n",
              "       ETHNICITY_WHITE - BRAZILIAN  ETHNICITY_WHITE - EASTERN EUROPEAN  \\\n",
              "0                                0                                   0   \n",
              "1                                0                                   0   \n",
              "2                                0                                   0   \n",
              "3                                0                                   0   \n",
              "4                                0                                   0   \n",
              "...                            ...                                 ...   \n",
              "57154                            0                                   0   \n",
              "57155                            0                                   0   \n",
              "57156                            0                                   0   \n",
              "57157                            0                                   0   \n",
              "57158                            0                                   0   \n",
              "\n",
              "       ETHNICITY_WHITE - OTHER EUROPEAN  ETHNICITY_WHITE - RUSSIAN  \n",
              "0                                     0                          0  \n",
              "1                                     0                          0  \n",
              "2                                     0                          0  \n",
              "3                                     0                          0  \n",
              "4                                     0                          0  \n",
              "...                                 ...                        ...  \n",
              "57154                                 0                          0  \n",
              "57155                                 0                          0  \n",
              "57156                                 0                          0  \n",
              "57157                                 0                          0  \n",
              "57158                                 0                          0  \n",
              "\n",
              "[57159 rows x 73 columns]"
            ],
            "text/html": [
              "\n",
              "  <div id=\"df-0265eb53-905b-4b07-b972-d72e8756a74b\">\n",
              "    <div class=\"colab-df-container\">\n",
              "      <div>\n",
              "<style scoped>\n",
              "    .dataframe tbody tr th:only-of-type {\n",
              "        vertical-align: middle;\n",
              "    }\n",
              "\n",
              "    .dataframe tbody tr th {\n",
              "        vertical-align: top;\n",
              "    }\n",
              "\n",
              "    .dataframe thead th {\n",
              "        text-align: right;\n",
              "    }\n",
              "</style>\n",
              "<table border=\"1\" class=\"dataframe\">\n",
              "  <thead>\n",
              "    <tr style=\"text-align: right;\">\n",
              "      <th></th>\n",
              "      <th>AVG_platelet</th>\n",
              "      <th>AVG_potassium</th>\n",
              "      <th>AVG_sodium</th>\n",
              "      <th>AVG_leukocytes</th>\n",
              "      <th>diagnosis_age</th>\n",
              "      <th>total_icu_time</th>\n",
              "      <th>breast_outcome</th>\n",
              "      <th>INSURANCE_Government</th>\n",
              "      <th>INSURANCE_Medicaid</th>\n",
              "      <th>INSURANCE_Medicare</th>\n",
              "      <th>...</th>\n",
              "      <th>ETHNICITY_PATIENT DECLINED TO ANSWER</th>\n",
              "      <th>ETHNICITY_PORTUGUESE</th>\n",
              "      <th>ETHNICITY_SOUTH AMERICAN</th>\n",
              "      <th>ETHNICITY_UNABLE TO OBTAIN</th>\n",
              "      <th>ETHNICITY_UNKNOWN/NOT SPECIFIED</th>\n",
              "      <th>ETHNICITY_WHITE</th>\n",
              "      <th>ETHNICITY_WHITE - BRAZILIAN</th>\n",
              "      <th>ETHNICITY_WHITE - EASTERN EUROPEAN</th>\n",
              "      <th>ETHNICITY_WHITE - OTHER EUROPEAN</th>\n",
              "      <th>ETHNICITY_WHITE - RUSSIAN</th>\n",
              "    </tr>\n",
              "  </thead>\n",
              "  <tbody>\n",
              "    <tr>\n",
              "      <th>0</th>\n",
              "      <td>210.866667</td>\n",
              "      <td>4.105263</td>\n",
              "      <td>137.555556</td>\n",
              "      <td>12.533333</td>\n",
              "      <td>76</td>\n",
              "      <td>6.0646</td>\n",
              "      <td>0</td>\n",
              "      <td>0</td>\n",
              "      <td>0</td>\n",
              "      <td>1</td>\n",
              "      <td>...</td>\n",
              "      <td>0</td>\n",
              "      <td>0</td>\n",
              "      <td>0</td>\n",
              "      <td>0</td>\n",
              "      <td>0</td>\n",
              "      <td>1</td>\n",
              "      <td>0</td>\n",
              "      <td>0</td>\n",
              "      <td>0</td>\n",
              "      <td>0</td>\n",
              "    </tr>\n",
              "    <tr>\n",
              "      <th>1</th>\n",
              "      <td>153.500000</td>\n",
              "      <td>4.163596</td>\n",
              "      <td>138.736050</td>\n",
              "      <td>11.050000</td>\n",
              "      <td>0</td>\n",
              "      <td>0.0918</td>\n",
              "      <td>0</td>\n",
              "      <td>0</td>\n",
              "      <td>0</td>\n",
              "      <td>0</td>\n",
              "      <td>...</td>\n",
              "      <td>0</td>\n",
              "      <td>0</td>\n",
              "      <td>0</td>\n",
              "      <td>0</td>\n",
              "      <td>0</td>\n",
              "      <td>0</td>\n",
              "      <td>0</td>\n",
              "      <td>0</td>\n",
              "      <td>0</td>\n",
              "      <td>0</td>\n",
              "    </tr>\n",
              "    <tr>\n",
              "      <th>2</th>\n",
              "      <td>286.428571</td>\n",
              "      <td>3.537500</td>\n",
              "      <td>137.750000</td>\n",
              "      <td>9.442857</td>\n",
              "      <td>48</td>\n",
              "      <td>1.6785</td>\n",
              "      <td>0</td>\n",
              "      <td>0</td>\n",
              "      <td>0</td>\n",
              "      <td>0</td>\n",
              "      <td>...</td>\n",
              "      <td>0</td>\n",
              "      <td>0</td>\n",
              "      <td>0</td>\n",
              "      <td>0</td>\n",
              "      <td>0</td>\n",
              "      <td>1</td>\n",
              "      <td>0</td>\n",
              "      <td>0</td>\n",
              "      <td>0</td>\n",
              "      <td>0</td>\n",
              "    </tr>\n",
              "    <tr>\n",
              "      <th>3</th>\n",
              "      <td>309.000000</td>\n",
              "      <td>4.163596</td>\n",
              "      <td>138.736050</td>\n",
              "      <td>13.900000</td>\n",
              "      <td>0</td>\n",
              "      <td>0.0844</td>\n",
              "      <td>0</td>\n",
              "      <td>0</td>\n",
              "      <td>0</td>\n",
              "      <td>0</td>\n",
              "      <td>...</td>\n",
              "      <td>0</td>\n",
              "      <td>0</td>\n",
              "      <td>0</td>\n",
              "      <td>0</td>\n",
              "      <td>0</td>\n",
              "      <td>0</td>\n",
              "      <td>0</td>\n",
              "      <td>0</td>\n",
              "      <td>0</td>\n",
              "      <td>0</td>\n",
              "    </tr>\n",
              "    <tr>\n",
              "      <th>4</th>\n",
              "      <td>247.947368</td>\n",
              "      <td>4.911765</td>\n",
              "      <td>134.411765</td>\n",
              "      <td>13.589474</td>\n",
              "      <td>66</td>\n",
              "      <td>3.6729</td>\n",
              "      <td>0</td>\n",
              "      <td>0</td>\n",
              "      <td>0</td>\n",
              "      <td>1</td>\n",
              "      <td>...</td>\n",
              "      <td>0</td>\n",
              "      <td>0</td>\n",
              "      <td>0</td>\n",
              "      <td>0</td>\n",
              "      <td>0</td>\n",
              "      <td>1</td>\n",
              "      <td>0</td>\n",
              "      <td>0</td>\n",
              "      <td>0</td>\n",
              "      <td>0</td>\n",
              "    </tr>\n",
              "    <tr>\n",
              "      <th>...</th>\n",
              "      <td>...</td>\n",
              "      <td>...</td>\n",
              "      <td>...</td>\n",
              "      <td>...</td>\n",
              "      <td>...</td>\n",
              "      <td>...</td>\n",
              "      <td>...</td>\n",
              "      <td>...</td>\n",
              "      <td>...</td>\n",
              "      <td>...</td>\n",
              "      <td>...</td>\n",
              "      <td>...</td>\n",
              "      <td>...</td>\n",
              "      <td>...</td>\n",
              "      <td>...</td>\n",
              "      <td>...</td>\n",
              "      <td>...</td>\n",
              "      <td>...</td>\n",
              "      <td>...</td>\n",
              "      <td>...</td>\n",
              "      <td>...</td>\n",
              "    </tr>\n",
              "    <tr>\n",
              "      <th>57154</th>\n",
              "      <td>226.000000</td>\n",
              "      <td>3.550000</td>\n",
              "      <td>140.000000</td>\n",
              "      <td>5.550000</td>\n",
              "      <td>69</td>\n",
              "      <td>1.6425</td>\n",
              "      <td>0</td>\n",
              "      <td>0</td>\n",
              "      <td>0</td>\n",
              "      <td>0</td>\n",
              "      <td>...</td>\n",
              "      <td>0</td>\n",
              "      <td>0</td>\n",
              "      <td>0</td>\n",
              "      <td>0</td>\n",
              "      <td>0</td>\n",
              "      <td>1</td>\n",
              "      <td>0</td>\n",
              "      <td>0</td>\n",
              "      <td>0</td>\n",
              "      <td>0</td>\n",
              "    </tr>\n",
              "    <tr>\n",
              "      <th>57155</th>\n",
              "      <td>382.000000</td>\n",
              "      <td>4.075000</td>\n",
              "      <td>138.000000</td>\n",
              "      <td>12.266667</td>\n",
              "      <td>22</td>\n",
              "      <td>1.8588</td>\n",
              "      <td>0</td>\n",
              "      <td>1</td>\n",
              "      <td>0</td>\n",
              "      <td>0</td>\n",
              "      <td>...</td>\n",
              "      <td>0</td>\n",
              "      <td>0</td>\n",
              "      <td>0</td>\n",
              "      <td>0</td>\n",
              "      <td>0</td>\n",
              "      <td>1</td>\n",
              "      <td>0</td>\n",
              "      <td>0</td>\n",
              "      <td>0</td>\n",
              "      <td>0</td>\n",
              "    </tr>\n",
              "    <tr>\n",
              "      <th>57156</th>\n",
              "      <td>179.500000</td>\n",
              "      <td>4.100000</td>\n",
              "      <td>136.500000</td>\n",
              "      <td>13.400000</td>\n",
              "      <td>24</td>\n",
              "      <td>1.2967</td>\n",
              "      <td>0</td>\n",
              "      <td>0</td>\n",
              "      <td>0</td>\n",
              "      <td>0</td>\n",
              "      <td>...</td>\n",
              "      <td>0</td>\n",
              "      <td>0</td>\n",
              "      <td>0</td>\n",
              "      <td>0</td>\n",
              "      <td>0</td>\n",
              "      <td>1</td>\n",
              "      <td>0</td>\n",
              "      <td>0</td>\n",
              "      <td>0</td>\n",
              "      <td>0</td>\n",
              "    </tr>\n",
              "    <tr>\n",
              "      <th>57157</th>\n",
              "      <td>210.500000</td>\n",
              "      <td>4.033333</td>\n",
              "      <td>141.666667</td>\n",
              "      <td>5.450000</td>\n",
              "      <td>69</td>\n",
              "      <td>1.2688</td>\n",
              "      <td>0</td>\n",
              "      <td>0</td>\n",
              "      <td>0</td>\n",
              "      <td>0</td>\n",
              "      <td>...</td>\n",
              "      <td>0</td>\n",
              "      <td>0</td>\n",
              "      <td>0</td>\n",
              "      <td>0</td>\n",
              "      <td>0</td>\n",
              "      <td>1</td>\n",
              "      <td>0</td>\n",
              "      <td>0</td>\n",
              "      <td>0</td>\n",
              "      <td>0</td>\n",
              "    </tr>\n",
              "    <tr>\n",
              "      <th>57158</th>\n",
              "      <td>253.333333</td>\n",
              "      <td>3.966667</td>\n",
              "      <td>137.666667</td>\n",
              "      <td>4.933333</td>\n",
              "      <td>79</td>\n",
              "      <td>1.8437</td>\n",
              "      <td>0</td>\n",
              "      <td>0</td>\n",
              "      <td>0</td>\n",
              "      <td>1</td>\n",
              "      <td>...</td>\n",
              "      <td>0</td>\n",
              "      <td>0</td>\n",
              "      <td>0</td>\n",
              "      <td>0</td>\n",
              "      <td>0</td>\n",
              "      <td>1</td>\n",
              "      <td>0</td>\n",
              "      <td>0</td>\n",
              "      <td>0</td>\n",
              "      <td>0</td>\n",
              "    </tr>\n",
              "  </tbody>\n",
              "</table>\n",
              "<p>57159 rows × 73 columns</p>\n",
              "</div>\n",
              "      <button class=\"colab-df-convert\" onclick=\"convertToInteractive('df-0265eb53-905b-4b07-b972-d72e8756a74b')\"\n",
              "              title=\"Convert this dataframe to an interactive table.\"\n",
              "              style=\"display:none;\">\n",
              "        \n",
              "  <svg xmlns=\"http://www.w3.org/2000/svg\" height=\"24px\"viewBox=\"0 0 24 24\"\n",
              "       width=\"24px\">\n",
              "    <path d=\"M0 0h24v24H0V0z\" fill=\"none\"/>\n",
              "    <path d=\"M18.56 5.44l.94 2.06.94-2.06 2.06-.94-2.06-.94-.94-2.06-.94 2.06-2.06.94zm-11 1L8.5 8.5l.94-2.06 2.06-.94-2.06-.94L8.5 2.5l-.94 2.06-2.06.94zm10 10l.94 2.06.94-2.06 2.06-.94-2.06-.94-.94-2.06-.94 2.06-2.06.94z\"/><path d=\"M17.41 7.96l-1.37-1.37c-.4-.4-.92-.59-1.43-.59-.52 0-1.04.2-1.43.59L10.3 9.45l-7.72 7.72c-.78.78-.78 2.05 0 2.83L4 21.41c.39.39.9.59 1.41.59.51 0 1.02-.2 1.41-.59l7.78-7.78 2.81-2.81c.8-.78.8-2.07 0-2.86zM5.41 20L4 18.59l7.72-7.72 1.47 1.35L5.41 20z\"/>\n",
              "  </svg>\n",
              "      </button>\n",
              "      \n",
              "  <style>\n",
              "    .colab-df-container {\n",
              "      display:flex;\n",
              "      flex-wrap:wrap;\n",
              "      gap: 12px;\n",
              "    }\n",
              "\n",
              "    .colab-df-convert {\n",
              "      background-color: #E8F0FE;\n",
              "      border: none;\n",
              "      border-radius: 50%;\n",
              "      cursor: pointer;\n",
              "      display: none;\n",
              "      fill: #1967D2;\n",
              "      height: 32px;\n",
              "      padding: 0 0 0 0;\n",
              "      width: 32px;\n",
              "    }\n",
              "\n",
              "    .colab-df-convert:hover {\n",
              "      background-color: #E2EBFA;\n",
              "      box-shadow: 0px 1px 2px rgba(60, 64, 67, 0.3), 0px 1px 3px 1px rgba(60, 64, 67, 0.15);\n",
              "      fill: #174EA6;\n",
              "    }\n",
              "\n",
              "    [theme=dark] .colab-df-convert {\n",
              "      background-color: #3B4455;\n",
              "      fill: #D2E3FC;\n",
              "    }\n",
              "\n",
              "    [theme=dark] .colab-df-convert:hover {\n",
              "      background-color: #434B5C;\n",
              "      box-shadow: 0px 1px 3px 1px rgba(0, 0, 0, 0.15);\n",
              "      filter: drop-shadow(0px 1px 2px rgba(0, 0, 0, 0.3));\n",
              "      fill: #FFFFFF;\n",
              "    }\n",
              "  </style>\n",
              "\n",
              "      <script>\n",
              "        const buttonEl =\n",
              "          document.querySelector('#df-0265eb53-905b-4b07-b972-d72e8756a74b button.colab-df-convert');\n",
              "        buttonEl.style.display =\n",
              "          google.colab.kernel.accessAllowed ? 'block' : 'none';\n",
              "\n",
              "        async function convertToInteractive(key) {\n",
              "          const element = document.querySelector('#df-0265eb53-905b-4b07-b972-d72e8756a74b');\n",
              "          const dataTable =\n",
              "            await google.colab.kernel.invokeFunction('convertToInteractive',\n",
              "                                                     [key], {});\n",
              "          if (!dataTable) return;\n",
              "\n",
              "          const docLinkHtml = 'Like what you see? Visit the ' +\n",
              "            '<a target=\"_blank\" href=https://colab.research.google.com/notebooks/data_table.ipynb>data table notebook</a>'\n",
              "            + ' to learn more about interactive tables.';\n",
              "          element.innerHTML = '';\n",
              "          dataTable['output_type'] = 'display_data';\n",
              "          await google.colab.output.renderOutput(dataTable, element);\n",
              "          const docLink = document.createElement('div');\n",
              "          docLink.innerHTML = docLinkHtml;\n",
              "          element.appendChild(docLink);\n",
              "        }\n",
              "      </script>\n",
              "    </div>\n",
              "  </div>\n",
              "  "
            ]
          },
          "metadata": {},
          "execution_count": 38
        }
      ]
    },
    {
      "cell_type": "markdown",
      "source": [
        "Train test spliting"
      ],
      "metadata": {
        "id": "DoWQO3q-dCYO"
      }
    },
    {
      "cell_type": "code",
      "source": [
        "target = 'breast_outcome'\n",
        "X = data.drop(target, axis=1)\n",
        "y = data[target]"
      ],
      "metadata": {
        "id": "FN_mV6GKSbkk"
      },
      "execution_count": null,
      "outputs": []
    },
    {
      "cell_type": "code",
      "source": [
        "from sklearn.model_selection import train_test_split\n",
        "X_train,X_test, y_train,y_test = train_test_split(X,y,test_size=0.1)"
      ],
      "metadata": {
        "id": "BXbfJDJtcjBb"
      },
      "execution_count": null,
      "outputs": []
    },
    {
      "cell_type": "markdown",
      "source": [
        "Random Forest Training"
      ],
      "metadata": {
        "id": "fSGGprTYefIc"
      }
    },
    {
      "cell_type": "code",
      "source": [
        "from sklearn.ensemble import RandomForestRegressor\n",
        "import matplotlib.pyplot as plt\n",
        "rf = RandomForestRegressor(random_state=0)\n",
        "rf.fit(X_train,y_train)"
      ],
      "metadata": {
        "colab": {
          "base_uri": "https://localhost:8080/"
        },
        "id": "SqN8PTPhecpj",
        "outputId": "238dcaa0-1eb1-4c2e-85ba-6cf5c1b01d47"
      },
      "execution_count": null,
      "outputs": [
        {
          "output_type": "execute_result",
          "data": {
            "text/plain": [
              "RandomForestRegressor(random_state=0)"
            ]
          },
          "metadata": {},
          "execution_count": 81
        }
      ]
    },
    {
      "cell_type": "markdown",
      "source": [
        "**我有个建议 下面这张图 能不能像620的HW2 那样 只显示 top 5 这种 比较有影响力的factors呢**"
      ],
      "metadata": {
        "id": "Y-lXaolh4dTy"
      }
    },
    {
      "cell_type": "code",
      "source": [
        "features = data.columns\n",
        "plt.figure(dpi=150)\n",
        "plt.figure(figsize=(10,18))\n",
        "f_i = list(zip(features,rf.feature_importances_))\n",
        "f_i.sort(key = lambda x : x[1])\n",
        "plt.barh([x[0] for x in f_i],[x[1] for x in f_i])\n",
        "\n",
        "plt.show()"
      ],
      "metadata": {
        "colab": {
          "base_uri": "https://localhost:8080/",
          "height": 1000
        },
        "id": "7r6b_Bc4hkeJ",
        "outputId": "96286ac2-0484-4ab7-d8db-c50b9c3e88ce"
      },
      "execution_count": null,
      "outputs": [
        {
          "output_type": "display_data",
          "data": {
            "text/plain": [
              "<Figure size 720x1296 with 1 Axes>"
            ],
            "image/png": "[encoded data removed]"
          },
          "metadata": {
            "needs_background": "light"
          }
        }
      ]
    },
    {
      "cell_type": "markdown",
      "source": [
        "So from the above diagram, we can conclude that the most important features are AVG_leukocytes, AVG_platelet, total_icu_time, AVG_sodium, AVG_potassium and diagnosis_age."
      ],
      "metadata": {
        "id": "vyz8rqDDkLYd"
      }
    },
    {
      "cell_type": "code",
      "source": [
        "x = features.tolist()\n",
        "x"
      ],
      "metadata": {
        "colab": {
          "base_uri": "https://localhost:8080/"
        },
        "id": "KAwFR57fbzWx",
        "outputId": "5938074e-e6a7-48df-eeaa-321053fab151"
      },
      "execution_count": null,
      "outputs": [
        {
          "output_type": "execute_result",
          "data": {
            "text/plain": [
              "['AVG_platelet',\n",
              " 'AVG_potassium',\n",
              " 'AVG_sodium',\n",
              " 'AVG_leukocytes',\n",
              " 'diagnosis_age',\n",
              " 'total_icu_time',\n",
              " 'breast_outcome',\n",
              " 'INSURANCE_Government',\n",
              " 'INSURANCE_Medicaid',\n",
              " 'INSURANCE_Medicare',\n",
              " 'INSURANCE_Private',\n",
              " 'INSURANCE_Self Pay',\n",
              " 'RELIGION_7TH DAY ADVENTIST',\n",
              " 'RELIGION_BAPTIST',\n",
              " 'RELIGION_BUDDHIST',\n",
              " 'RELIGION_CATHOLIC',\n",
              " 'RELIGION_CHRISTIAN SCIENTIST',\n",
              " 'RELIGION_EPISCOPALIAN',\n",
              " 'RELIGION_GREEK ORTHODOX',\n",
              " 'RELIGION_HEBREW',\n",
              " 'RELIGION_HINDU',\n",
              " \"RELIGION_JEHOVAH'S WITNESS\",\n",
              " 'RELIGION_JEWISH',\n",
              " 'RELIGION_LUTHERAN',\n",
              " 'RELIGION_METHODIST',\n",
              " 'RELIGION_MUSLIM',\n",
              " 'RELIGION_NOT SPECIFIED',\n",
              " 'RELIGION_OTHER',\n",
              " 'RELIGION_PROTESTANT QUAKER',\n",
              " 'RELIGION_ROMANIAN EAST. ORTH',\n",
              " 'RELIGION_UNITARIAN-UNIVERSALIST',\n",
              " 'RELIGION_UNOBTAINABLE',\n",
              " 'ETHNICITY_AMERICAN INDIAN/ALASKA NATIVE',\n",
              " 'ETHNICITY_AMERICAN INDIAN/ALASKA NATIVE FEDERALLY RECOGNIZED TRIBE',\n",
              " 'ETHNICITY_ASIAN',\n",
              " 'ETHNICITY_ASIAN - ASIAN INDIAN',\n",
              " 'ETHNICITY_ASIAN - CAMBODIAN',\n",
              " 'ETHNICITY_ASIAN - CHINESE',\n",
              " 'ETHNICITY_ASIAN - FILIPINO',\n",
              " 'ETHNICITY_ASIAN - JAPANESE',\n",
              " 'ETHNICITY_ASIAN - KOREAN',\n",
              " 'ETHNICITY_ASIAN - OTHER',\n",
              " 'ETHNICITY_ASIAN - THAI',\n",
              " 'ETHNICITY_ASIAN - VIETNAMESE',\n",
              " 'ETHNICITY_BLACK/AFRICAN',\n",
              " 'ETHNICITY_BLACK/AFRICAN AMERICAN',\n",
              " 'ETHNICITY_BLACK/CAPE VERDEAN',\n",
              " 'ETHNICITY_BLACK/HAITIAN',\n",
              " 'ETHNICITY_CARIBBEAN ISLAND',\n",
              " 'ETHNICITY_HISPANIC OR LATINO',\n",
              " 'ETHNICITY_HISPANIC/LATINO - CENTRAL AMERICAN (OTHER)',\n",
              " 'ETHNICITY_HISPANIC/LATINO - COLOMBIAN',\n",
              " 'ETHNICITY_HISPANIC/LATINO - CUBAN',\n",
              " 'ETHNICITY_HISPANIC/LATINO - DOMINICAN',\n",
              " 'ETHNICITY_HISPANIC/LATINO - GUATEMALAN',\n",
              " 'ETHNICITY_HISPANIC/LATINO - HONDURAN',\n",
              " 'ETHNICITY_HISPANIC/LATINO - MEXICAN',\n",
              " 'ETHNICITY_HISPANIC/LATINO - PUERTO RICAN',\n",
              " 'ETHNICITY_HISPANIC/LATINO - SALVADORAN',\n",
              " 'ETHNICITY_MIDDLE EASTERN',\n",
              " 'ETHNICITY_MULTI RACE ETHNICITY',\n",
              " 'ETHNICITY_NATIVE HAWAIIAN OR OTHER PACIFIC ISLANDER',\n",
              " 'ETHNICITY_OTHER',\n",
              " 'ETHNICITY_PATIENT DECLINED TO ANSWER',\n",
              " 'ETHNICITY_PORTUGUESE',\n",
              " 'ETHNICITY_SOUTH AMERICAN',\n",
              " 'ETHNICITY_UNABLE TO OBTAIN',\n",
              " 'ETHNICITY_UNKNOWN/NOT SPECIFIED',\n",
              " 'ETHNICITY_WHITE',\n",
              " 'ETHNICITY_WHITE - BRAZILIAN',\n",
              " 'ETHNICITY_WHITE - EASTERN EUROPEAN',\n",
              " 'ETHNICITY_WHITE - OTHER EUROPEAN',\n",
              " 'ETHNICITY_WHITE - RUSSIAN']"
            ]
          },
          "metadata": {},
          "execution_count": 99
        }
      ]
    },
    {
      "cell_type": "markdown",
      "source": [
        "# 6. Logistic Regression\n",
        "\n",
        "It is significant to train a model to predict whether a person can get breast cancer so that we can prevent the disease easier. "
      ],
      "metadata": {
        "id": "J059V7NW0K7q"
      }
    },
    {
      "cell_type": "code",
      "source": [
        "X2=data[['AVG_leukocytes', 'AVG_platelet','total_icu_time', 'AVG_sodium', 'AVG_potassium', 'diagnosis_age']]\n",
        "X2_train, X2_test, y2_train, y2_test = train_test_split(X2, y, test_size=0.3)\n",
        "from sklearn.linear_model import LogisticRegression\n",
        "logreg = LogisticRegression(random_state=16)\n",
        "logreg.fit(X2_train, y2_train)\n",
        "y2_pred = logreg.predict(X2_test)\n",
        "\n",
        "\n",
        "from sklearn import metrics\n",
        "\n",
        "cnf_matrix = metrics.confusion_matrix(y2_test, y2_pred)\n",
        "cnf_matrix\n",
        "\n",
        "# import required modules\n",
        "import numpy as np\n",
        "import matplotlib.pyplot as plt\n",
        "import seaborn as sns\n",
        "def plot_confusion_matrix(cnf_matrix):\n",
        "  class_names=[0,1] # name  of classes\n",
        "  plt.figure(dpi=150)\n",
        "  fig, ax = plt.subplots()\n",
        "  tick_marks = np.arange(len(class_names))\n",
        "  plt.xticks(tick_marks, class_names)\n",
        "  plt.yticks(tick_marks, class_names)\n",
        "  # create heatmap\n",
        "  sns.heatmap(pd.DataFrame(cnf_matrix), annot=True, cmap=\"YlGnBu\" ,fmt='g')\n",
        "  ax.xaxis.set_label_position(\"top\")\n",
        "  plt.tight_layout()\n",
        "  plt.title('Confusion matrix', y=1.1)\n",
        "  plt.ylabel('Actual label')\n",
        "  plt.xlabel('Predicted label')\n",
        "\n",
        "  \n",
        "plot_confusion_matrix(cnf_matrix)\n",
        "#Text(0.5,257.44,'Predicted label');"
      ],
      "metadata": {
        "colab": {
          "base_uri": "https://localhost:8080/",
          "height": 343
        },
        "id": "p9MbR0by0juf",
        "outputId": "e8796f83-c728-47a5-ca49-862fa7962d86"
      },
      "execution_count": null,
      "outputs": [
        {
          "output_type": "execute_result",
          "data": {
            "text/plain": [
              "Text(0.5, 257.44, 'Predicted label')"
            ]
          },
          "metadata": {},
          "execution_count": 91
        },
        {
          "output_type": "display_data",
          "data": {
            "text/plain": [
              "<Figure size 432x288 with 2 Axes>"
            ],
            "image/png": "[encoded data removed]"
          },
          "metadata": {
            "needs_background": "light"
          }
        }
      ]
    },
    {
      "cell_type": "code",
      "source": [
        "from sklearn import metrics\n",
        "from sklearn.ensemble import RandomForestClassifier\n",
        "from sklearn.model_selection import train_test_split\n",
        "import pylab as plt\n",
        "pred = logreg.predict_proba(X2_test)[:,1]\n",
        "fpr, tpr, threshold = metrics.roc_curve(y2_test, pred)\n",
        "roc_auc = metrics.auc(fpr, tpr)\n",
        "plt.figure(dpi=150)\n",
        "plt.figure(figsize=(6,6))\n",
        "plt.title('AUC')\n",
        "plt.plot(fpr, tpr, 'b', label = 'Val AUC = %0.3f' % roc_auc)\n",
        "plt.legend(loc = 'lower right')\n",
        "plt.plot([0, 1], [0, 1],'r--')\n",
        "plt.xlim([0, 1])\n",
        "plt.ylim([0, 1])\n",
        "plt.ylabel('True Positive Rate')\n",
        "plt.xlabel('False Positive Rate')\n",
        "plt.show()"
      ],
      "metadata": {
        "colab": {
          "base_uri": "https://localhost:8080/",
          "height": 404
        },
        "id": "_EOI4oePQppA",
        "outputId": "469c3c69-dfa8-4893-e131-ab832c92c5fe"
      },
      "execution_count": null,
      "outputs": [
        {
          "output_type": "display_data",
          "data": {
            "text/plain": [
              "<Figure size 432x432 with 1 Axes>"
            ],
            "image/png": "[encoded data removed]"
          },
          "metadata": {
            "needs_background": "light"
          }
        }
      ]
    },
    {
      "cell_type": "markdown",
      "source": [
        "Autoencoder"
      ],
      "metadata": {
        "id": "zRqMYBZVYLsk"
      }
    },
    {
      "cell_type": "code",
      "source": [
        "import tensorflow as tf\n",
        "from sklearn.metrics import accuracy_score\n",
        "from tensorflow.keras.optimizers import Adam\n",
        "from sklearn.preprocessing import MinMaxScaler\n",
        "from tensorflow.keras import Model, Sequential\n",
        "from tensorflow.keras.layers import Dense, Dropout\n",
        "from sklearn.model_selection import train_test_split\n",
        "from tensorflow.keras.losses import MeanSquaredLogarithmicError\n",
        "# use case is novelty detection so use only the normal data\n",
        "# for training\n",
        "train_index = y_train[y_train == 1].index\n",
        "train_data = X_train.loc[train_index]\n",
        "# min max scale the input data\n",
        "min_max_scaler = MinMaxScaler(feature_range=(0, 1))\n",
        "x_train_scaled = min_max_scaler.fit_transform(X_train.copy())\n",
        "x_test_scaled = min_max_scaler.transform(X_test.copy())"
      ],
      "metadata": {
        "id": "g8z745NJYKxl"
      },
      "execution_count": null,
      "outputs": []
    },
    {
      "cell_type": "code",
      "source": [
        "# create a model by subclassing Model class in tensorflow\n",
        "class AutoEncoder(Model):\n",
        "  \"\"\"\n",
        "  Parameters\n",
        "  ----------\n",
        "  output_units: int\n",
        "    Number of output units\n",
        "  \n",
        "  code_size: int\n",
        "    Number of units in bottle neck\n",
        "  \"\"\"\n",
        "\n",
        "  def __init__(self, output_units, code_size=8):\n",
        "    super().__init__()\n",
        "    self.encoder = Sequential([\n",
        "      Dense(256, activation='relu'),\n",
        "      Dropout(0.3),\n",
        "      Dense(32, activation='relu'),\n",
        "      Dropout(0.3),\n",
        "      Dense(16, activation='relu'),\n",
        "      Dropout(0.3),\n",
        "      Dense(code_size, activation='relu')\n",
        "    ])\n",
        "    self.decoder = Sequential([\n",
        "      Dense(16, activation='relu'),\n",
        "      Dropout(0.3),\n",
        "      Dense(32, activation='relu'),\n",
        "      Dropout(0.3),\n",
        "      Dense(256, activation='relu'),\n",
        "      Dropout(0.3),\n",
        "      Dense(output_units, activation='sigmoid')\n",
        "    ])\n",
        "  \n",
        "  def call(self, inputs):\n",
        "    encoded = self.encoder(inputs)\n",
        "    decoded = self.decoder(encoded)\n",
        "    return decoded\n",
        "  \n",
        "model = AutoEncoder(output_units=x_train_scaled.shape[1])\n",
        "# configurations of model\n",
        "model.compile(loss='msle', metrics=['mse'], optimizer='adam')\n",
        "\n",
        "history = model.fit(\n",
        "    x_train_scaled,\n",
        "    x_train_scaled,\n",
        "    epochs=20,\n",
        "    batch_size=512,\n",
        "    validation_data=(x_test_scaled, x_test_scaled)\n",
        ")"
      ],
      "metadata": {
        "colab": {
          "base_uri": "https://localhost:8080/"
        },
        "id": "9wfTD18kYK3s",
        "outputId": "a1d90437-c5b1-4ac0-cc0e-655addd35d7d"
      },
      "execution_count": null,
      "outputs": [
        {
          "output_type": "stream",
          "name": "stdout",
          "text": [
            "Epoch 1/20\n",
            "101/101 [==============================] - 4s 34ms/step - loss: 0.0361 - mse: 0.0620 - val_loss: 0.0137 - val_mse: 0.0287\n",
            "Epoch 2/20\n",
            "101/101 [==============================] - 4s 40ms/step - loss: 0.0147 - mse: 0.0302 - val_loss: 0.0131 - val_mse: 0.0273\n",
            "Epoch 3/20\n",
            "101/101 [==============================] - 4s 37ms/step - loss: 0.0136 - mse: 0.0283 - val_loss: 0.0130 - val_mse: 0.0266\n",
            "Epoch 4/20\n",
            "101/101 [==============================] - 4s 36ms/step - loss: 0.0124 - mse: 0.0259 - val_loss: 0.0102 - val_mse: 0.0215\n",
            "Epoch 5/20\n",
            "101/101 [==============================] - 4s 40ms/step - loss: 0.0103 - mse: 0.0215 - val_loss: 0.0084 - val_mse: 0.0178\n",
            "Epoch 6/20\n",
            "101/101 [==============================] - 4s 35ms/step - loss: 0.0091 - mse: 0.0189 - val_loss: 0.0075 - val_mse: 0.0160\n",
            "Epoch 7/20\n",
            "101/101 [==============================] - 3s 33ms/step - loss: 0.0084 - mse: 0.0176 - val_loss: 0.0069 - val_mse: 0.0147\n",
            "Epoch 8/20\n",
            "101/101 [==============================] - 4s 41ms/step - loss: 0.0080 - mse: 0.0167 - val_loss: 0.0068 - val_mse: 0.0143\n",
            "Epoch 9/20\n",
            "101/101 [==============================] - 4s 36ms/step - loss: 0.0077 - mse: 0.0161 - val_loss: 0.0066 - val_mse: 0.0138\n",
            "Epoch 10/20\n",
            "101/101 [==============================] - 4s 36ms/step - loss: 0.0074 - mse: 0.0155 - val_loss: 0.0064 - val_mse: 0.0134\n",
            "Epoch 11/20\n",
            "101/101 [==============================] - 3s 32ms/step - loss: 0.0072 - mse: 0.0151 - val_loss: 0.0063 - val_mse: 0.0132\n",
            "Epoch 12/20\n",
            "101/101 [==============================] - 4s 38ms/step - loss: 0.0070 - mse: 0.0147 - val_loss: 0.0062 - val_mse: 0.0131\n",
            "Epoch 13/20\n",
            "101/101 [==============================] - 4s 36ms/step - loss: 0.0069 - mse: 0.0144 - val_loss: 0.0061 - val_mse: 0.0127\n",
            "Epoch 14/20\n",
            "101/101 [==============================] - 3s 34ms/step - loss: 0.0068 - mse: 0.0141 - val_loss: 0.0061 - val_mse: 0.0127\n",
            "Epoch 15/20\n",
            "101/101 [==============================] - 4s 40ms/step - loss: 0.0067 - mse: 0.0139 - val_loss: 0.0062 - val_mse: 0.0130\n",
            "Epoch 16/20\n",
            "101/101 [==============================] - 2s 23ms/step - loss: 0.0066 - mse: 0.0138 - val_loss: 0.0059 - val_mse: 0.0124\n",
            "Epoch 17/20\n",
            "101/101 [==============================] - 4s 41ms/step - loss: 0.0065 - mse: 0.0136 - val_loss: 0.0059 - val_mse: 0.0124\n",
            "Epoch 18/20\n",
            "101/101 [==============================] - 4s 38ms/step - loss: 0.0064 - mse: 0.0135 - val_loss: 0.0059 - val_mse: 0.0123\n",
            "Epoch 19/20\n",
            "101/101 [==============================] - 3s 27ms/step - loss: 0.0064 - mse: 0.0134 - val_loss: 0.0060 - val_mse: 0.0126\n",
            "Epoch 20/20\n",
            "101/101 [==============================] - 3s 32ms/step - loss: 0.0063 - mse: 0.0133 - val_loss: 0.0059 - val_mse: 0.0123\n"
          ]
        }
      ]
    },
    {
      "cell_type": "code",
      "source": [
        "plt.plot(history.history['loss'])\n",
        "plt.plot(history.history['val_loss'])\n",
        "plt.xlabel('Epochs')\n",
        "plt.ylabel('MSLE Loss')\n",
        "plt.legend(['loss', 'val_loss'])\n",
        "plt.show()"
      ],
      "metadata": {
        "colab": {
          "base_uri": "https://localhost:8080/",
          "height": 279
        },
        "id": "Q-nyp6OXYK6Y",
        "outputId": "2a72cbd5-2a0d-4f3c-c170-d6684581de05"
      },
      "execution_count": null,
      "outputs": [
        {
          "output_type": "display_data",
          "data": {
            "text/plain": [
              "<Figure size 432x288 with 1 Axes>"
            ],
            "image/png": "[encoded data removed]"
          },
          "metadata": {
            "needs_background": "light"
          }
        }
      ]
    },
    {
      "cell_type": "code",
      "source": [
        "def find_threshold(model, x_train_scaled):\n",
        "  reconstructions = model.predict(x_train_scaled)\n",
        "  # provides losses of individual instances\n",
        "  reconstruction_errors = tf.keras.losses.msle(reconstructions, x_train_scaled)\n",
        "  # threshold for anomaly scores\n",
        "  threshold = np.mean(reconstruction_errors.numpy()) \\\n",
        "      + np.std(reconstruction_errors.numpy())\n",
        "  return threshold\n",
        "\n",
        "def get_predictions(model, x_test_scaled, threshold):\n",
        "  predictions = model.predict(x_test_scaled)\n",
        "  # provides losses of individual instances\n",
        "  errors = tf.keras.losses.msle(predictions, x_test_scaled)\n",
        "  # 0 = anomaly, 1 = normal\n",
        "  anomaly_mask = pd.Series(errors) > threshold\n",
        "  preds = anomaly_mask.map(lambda x: 0.0 if x == True else 1.0)\n",
        "  return preds\n",
        "\n",
        "threshold = find_threshold(model, x_train_scaled)\n",
        "print(f\"Threshold: {threshold}\")\n",
        "# Threshold: 0.01001314025746261\n",
        "predictions = get_predictions(model, x_test_scaled, threshold)\n",
        "accuracy_score(predictions, y_test)\n",
        "# 0.944"
      ],
      "metadata": {
        "colab": {
          "base_uri": "https://localhost:8080/"
        },
        "id": "lTL-vdFlaGL3",
        "outputId": "4dd80285-6833-415c-f3d0-e31d297c57ad"
      },
      "execution_count": null,
      "outputs": [
        {
          "output_type": "stream",
          "name": "stdout",
          "text": [
            "1608/1608 [==============================] - 3s 2ms/step\n",
            "Threshold: 0.010839623921291147\n",
            "179/179 [==============================] - 0s 2ms/step\n"
          ]
        },
        {
          "output_type": "execute_result",
          "data": {
            "text/plain": [
              "0.19384184744576627"
            ]
          },
          "metadata": {},
          "execution_count": 90
        }
      ]
    },
    {
      "cell_type": "markdown",
      "source": [
        "**如果是比较神经网络与RF的话，是不是我们也做一个confusion matrix 比较好呢？**"
      ],
      "metadata": {
        "id": "22n0zwar9n1i"
      }
    },
    {
      "cell_type": "code",
      "source": [],
      "metadata": {
        "id": "ufeMy1wZ9nVv"
      },
      "execution_count": null,
      "outputs": []
    },
    {
      "cell_type": "code",
      "source": [],
      "metadata": {
        "id": "B1lHOI3O25YF"
      },
      "execution_count": null,
      "outputs": []
    },
    {
      "cell_type": "markdown",
      "source": [
        "# End the connection at the end of the document"
      ],
      "metadata": {
        "id": "NqkwqLQI2zFc"
      }
    },
    {
      "cell_type": "code",
      "source": [
        "if conn:\n",
        "  conn.close()"
      ],
      "metadata": {
        "id": "i1s-aufC2yeA"
      },
      "execution_count": null,
      "outputs": []
    },
    {
      "cell_type": "markdown",
      "source": [
        "# 5. Reference & Acknowlegement\n",
        "\n",
        "- Johnson, A., Pollard, T., & Mark, R. (2016). MIMIC-III Clinical Database (version 1.4). PhysioNet. https://doi.org/10.13026/C2XW26.\n",
        "\n",
        "- Johnson, A. E. W., Pollard, T. J., Shen, L., Lehman, L. H., Feng, M., Ghassemi, M., Moody, B., Szolovits, P., Celi, L. A., & Mark, R. G. (2016). MIMIC-III, a freely accessible critical care database. Scientific Data, 3, 160035.\n",
        "\n",
        "- Goldberger, A., Amaral, L., Glass, L., Hausdorff, J., Ivanov, P. C., Mark, R., ... & Stanley, H. E. (2000). PhysioBank, PhysioToolkit, and PhysioNet: Components of a new research resource for complex physiologic signals. Circulation [Online]. 101 (23), pp. e215–e220.\n",
        "\n",
        "- https://github.com/yijunyang/database/blob/main/MIMIC3_Project.ipynb\n",
        "\n",
        "- Thanks to instructors Kei-Hoi Cheung, Ph.D. (Kei.cheung@yale.edu) and Ronald \"George\" Hauser, M.D. (ronald.hauser@yale.edu) for providing this informative course. Also, thanks to our teaching fellow Han Yu (han.yu@yale.edu) for providing advices on this project.\n"
      ],
      "metadata": {
        "id": "xj5lGZIixds7"
      }
    }
  ]
}